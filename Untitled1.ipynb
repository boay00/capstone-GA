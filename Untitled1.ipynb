{
 "cells": [
  {
   "cell_type": "code",
   "execution_count": 8,
   "id": "f05bfe3e-b226-4213-9a14-0fcba926757a",
   "metadata": {},
   "outputs": [],
   "source": [
    "import os\n",
    "from PIL import Image\n",
    "\n",
    "# Set the input and output folders\n",
    "input_folder = \"ranks\"\n",
    "output_folder = \"ranks_2\"\n",
    "\n",
    "# Set the resizing factor and quality reduction factor\n",
    "resize_factor = 0.3\n",
    "quality = 40\n",
    "\n",
    "# Iterate over all the images in the input folder\n",
    "for filename in os.listdir(input_folder):\n",
    "    # Check if the file is an image\n",
    "    if filename.endswith(\".jpg\") or filename.endswith(\".jpeg\") or filename.endswith(\".png\"):\n",
    "        # Open the image and resize it\n",
    "        image_path = os.path.join(input_folder, filename)\n",
    "        image = Image.open(image_path)\n",
    "        width, height = image.size\n",
    "        resized_image = image.resize((int(width*resize_factor), int(height*resize_factor)))\n",
    "\n",
    "        # Save the resized image with reduced quality\n",
    "        resized_image.save(os.path.join(output_folder, filename), optimize=True, quality=quality)"
   ]
  }
 ],
 "metadata": {
  "kernelspec": {
   "display_name": "Python 3 (ipykernel)",
   "language": "python",
   "name": "python3"
  },
  "language_info": {
   "codemirror_mode": {
    "name": "ipython",
    "version": 3
   },
   "file_extension": ".py",
   "mimetype": "text/x-python",
   "name": "python",
   "nbconvert_exporter": "python",
   "pygments_lexer": "ipython3",
   "version": "3.9.13"
  }
 },
 "nbformat": 4,
 "nbformat_minor": 5
}
