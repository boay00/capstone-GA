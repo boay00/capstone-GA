{
 "cells": [
  {
   "cell_type": "code",
   "execution_count": 23,
   "id": "359dcee7",
   "metadata": {},
   "outputs": [],
   "source": [
    "import pandas as pd\n",
    "import numpy as np\n",
    "from sklearn.linear_model import LinearRegression, RidgeCV, LassoCV, ElasticNetCV\n",
    "from sklearn.model_selection import train_test_split, cross_val_score, GridSearchCV\n",
    "from imblearn.pipeline import Pipeline\n",
    "from sklearn.preprocessing import PolynomialFeatures, StandardScaler"
   ]
  },
  {
   "cell_type": "code",
   "execution_count": 3,
   "id": "b6f54557",
   "metadata": {},
   "outputs": [],
   "source": [
    "df = pd.read_csv('../../2-cleaning-EDA/data/cleaned_random_replays.csv')"
   ]
  },
  {
   "cell_type": "code",
   "execution_count": 4,
   "id": "5991ff49",
   "metadata": {},
   "outputs": [
    {
     "data": {
      "text/html": [
       "<div>\n",
       "<style scoped>\n",
       "    .dataframe tbody tr th:only-of-type {\n",
       "        vertical-align: middle;\n",
       "    }\n",
       "\n",
       "    .dataframe tbody tr th {\n",
       "        vertical-align: top;\n",
       "    }\n",
       "\n",
       "    .dataframe thead th {\n",
       "        text-align: right;\n",
       "    }\n",
       "</style>\n",
       "<table border=\"1\" class=\"dataframe\">\n",
       "  <thead>\n",
       "    <tr style=\"text-align: right;\">\n",
       "      <th></th>\n",
       "      <th>shots</th>\n",
       "      <th>goals</th>\n",
       "      <th>saves</th>\n",
       "      <th>assists</th>\n",
       "      <th>score</th>\n",
       "      <th>mvp</th>\n",
       "      <th>bcpm</th>\n",
       "      <th>avg_amount</th>\n",
       "      <th>amount_collected</th>\n",
       "      <th>amount_stolen</th>\n",
       "      <th>...</th>\n",
       "      <th>percent_behind_ball</th>\n",
       "      <th>percent_infront_ball</th>\n",
       "      <th>percent_most_back</th>\n",
       "      <th>percent_most_forward</th>\n",
       "      <th>percent_closest_to_ball</th>\n",
       "      <th>percent_farthest_from_ball</th>\n",
       "      <th>inflicted</th>\n",
       "      <th>taken</th>\n",
       "      <th>player_rank</th>\n",
       "      <th>numeric_rank</th>\n",
       "    </tr>\n",
       "  </thead>\n",
       "  <tbody>\n",
       "    <tr>\n",
       "      <th>0</th>\n",
       "      <td>0</td>\n",
       "      <td>0</td>\n",
       "      <td>1</td>\n",
       "      <td>0</td>\n",
       "      <td>220</td>\n",
       "      <td>0</td>\n",
       "      <td>241.58151</td>\n",
       "      <td>33.00</td>\n",
       "      <td>1332</td>\n",
       "      <td>224</td>\n",
       "      <td>...</td>\n",
       "      <td>68.022736</td>\n",
       "      <td>31.977266</td>\n",
       "      <td>45.251194</td>\n",
       "      <td>33.099570</td>\n",
       "      <td>27.174898</td>\n",
       "      <td>47.548515</td>\n",
       "      <td>0</td>\n",
       "      <td>0</td>\n",
       "      <td>Silver 2 Division 2</td>\n",
       "      <td>18</td>\n",
       "    </tr>\n",
       "    <tr>\n",
       "      <th>1</th>\n",
       "      <td>0</td>\n",
       "      <td>0</td>\n",
       "      <td>0</td>\n",
       "      <td>0</td>\n",
       "      <td>90</td>\n",
       "      <td>0</td>\n",
       "      <td>200.77383</td>\n",
       "      <td>42.48</td>\n",
       "      <td>1107</td>\n",
       "      <td>137</td>\n",
       "      <td>...</td>\n",
       "      <td>63.572340</td>\n",
       "      <td>36.427658</td>\n",
       "      <td>32.736835</td>\n",
       "      <td>31.013844</td>\n",
       "      <td>35.578260</td>\n",
       "      <td>27.416721</td>\n",
       "      <td>1</td>\n",
       "      <td>0</td>\n",
       "      <td>Silver 2 Division 2</td>\n",
       "      <td>18</td>\n",
       "    </tr>\n",
       "    <tr>\n",
       "      <th>2</th>\n",
       "      <td>0</td>\n",
       "      <td>0</td>\n",
       "      <td>0</td>\n",
       "      <td>0</td>\n",
       "      <td>74</td>\n",
       "      <td>0</td>\n",
       "      <td>114.26153</td>\n",
       "      <td>34.05</td>\n",
       "      <td>630</td>\n",
       "      <td>60</td>\n",
       "      <td>...</td>\n",
       "      <td>64.225230</td>\n",
       "      <td>35.774780</td>\n",
       "      <td>25.391450</td>\n",
       "      <td>34.973700</td>\n",
       "      <td>36.606007</td>\n",
       "      <td>28.021280</td>\n",
       "      <td>0</td>\n",
       "      <td>1</td>\n",
       "      <td>Silver 2 Division 2</td>\n",
       "      <td>18</td>\n",
       "    </tr>\n",
       "    <tr>\n",
       "      <th>3</th>\n",
       "      <td>0</td>\n",
       "      <td>0</td>\n",
       "      <td>0</td>\n",
       "      <td>0</td>\n",
       "      <td>24</td>\n",
       "      <td>0</td>\n",
       "      <td>137.69020</td>\n",
       "      <td>14.24</td>\n",
       "      <td>276</td>\n",
       "      <td>60</td>\n",
       "      <td>...</td>\n",
       "      <td>58.668950</td>\n",
       "      <td>41.331055</td>\n",
       "      <td>16.130373</td>\n",
       "      <td>35.004574</td>\n",
       "      <td>41.739420</td>\n",
       "      <td>16.462957</td>\n",
       "      <td>0</td>\n",
       "      <td>0</td>\n",
       "      <td>Platinum 1 Division 1</td>\n",
       "      <td>37</td>\n",
       "    </tr>\n",
       "    <tr>\n",
       "      <th>4</th>\n",
       "      <td>2</td>\n",
       "      <td>0</td>\n",
       "      <td>0</td>\n",
       "      <td>0</td>\n",
       "      <td>92</td>\n",
       "      <td>0</td>\n",
       "      <td>154.41177</td>\n",
       "      <td>43.05</td>\n",
       "      <td>672</td>\n",
       "      <td>183</td>\n",
       "      <td>...</td>\n",
       "      <td>65.157740</td>\n",
       "      <td>34.842260</td>\n",
       "      <td>27.113974</td>\n",
       "      <td>41.015625</td>\n",
       "      <td>31.709558</td>\n",
       "      <td>34.964767</td>\n",
       "      <td>0</td>\n",
       "      <td>1</td>\n",
       "      <td>Silver 3 Division 4</td>\n",
       "      <td>24</td>\n",
       "    </tr>\n",
       "    <tr>\n",
       "      <th>...</th>\n",
       "      <td>...</td>\n",
       "      <td>...</td>\n",
       "      <td>...</td>\n",
       "      <td>...</td>\n",
       "      <td>...</td>\n",
       "      <td>...</td>\n",
       "      <td>...</td>\n",
       "      <td>...</td>\n",
       "      <td>...</td>\n",
       "      <td>...</td>\n",
       "      <td>...</td>\n",
       "      <td>...</td>\n",
       "      <td>...</td>\n",
       "      <td>...</td>\n",
       "      <td>...</td>\n",
       "      <td>...</td>\n",
       "      <td>...</td>\n",
       "      <td>...</td>\n",
       "      <td>...</td>\n",
       "      <td>...</td>\n",
       "      <td>...</td>\n",
       "    </tr>\n",
       "    <tr>\n",
       "      <th>5129</th>\n",
       "      <td>0</td>\n",
       "      <td>0</td>\n",
       "      <td>0</td>\n",
       "      <td>1</td>\n",
       "      <td>82</td>\n",
       "      <td>0</td>\n",
       "      <td>220.75021</td>\n",
       "      <td>55.64</td>\n",
       "      <td>972</td>\n",
       "      <td>200</td>\n",
       "      <td>...</td>\n",
       "      <td>67.237564</td>\n",
       "      <td>32.762436</td>\n",
       "      <td>30.962566</td>\n",
       "      <td>35.239788</td>\n",
       "      <td>24.224989</td>\n",
       "      <td>37.737990</td>\n",
       "      <td>0</td>\n",
       "      <td>1</td>\n",
       "      <td>Bronze 2 Division 4</td>\n",
       "      <td>8</td>\n",
       "    </tr>\n",
       "    <tr>\n",
       "      <th>5130</th>\n",
       "      <td>6</td>\n",
       "      <td>4</td>\n",
       "      <td>0</td>\n",
       "      <td>1</td>\n",
       "      <td>651</td>\n",
       "      <td>1</td>\n",
       "      <td>329.76266</td>\n",
       "      <td>60.54</td>\n",
       "      <td>1452</td>\n",
       "      <td>734</td>\n",
       "      <td>...</td>\n",
       "      <td>80.040920</td>\n",
       "      <td>19.959084</td>\n",
       "      <td>48.866350</td>\n",
       "      <td>25.171278</td>\n",
       "      <td>41.485294</td>\n",
       "      <td>35.769710</td>\n",
       "      <td>0</td>\n",
       "      <td>0</td>\n",
       "      <td>Bronze 2 Division 4</td>\n",
       "      <td>8</td>\n",
       "    </tr>\n",
       "    <tr>\n",
       "      <th>5131</th>\n",
       "      <td>2</td>\n",
       "      <td>1</td>\n",
       "      <td>1</td>\n",
       "      <td>1</td>\n",
       "      <td>306</td>\n",
       "      <td>0</td>\n",
       "      <td>278.27320</td>\n",
       "      <td>46.01</td>\n",
       "      <td>1243</td>\n",
       "      <td>263</td>\n",
       "      <td>...</td>\n",
       "      <td>71.521706</td>\n",
       "      <td>28.478289</td>\n",
       "      <td>28.245213</td>\n",
       "      <td>34.662884</td>\n",
       "      <td>28.133278</td>\n",
       "      <td>30.558560</td>\n",
       "      <td>2</td>\n",
       "      <td>1</td>\n",
       "      <td>Grand Champion 1 Division 1</td>\n",
       "      <td>73</td>\n",
       "    </tr>\n",
       "    <tr>\n",
       "      <th>5132</th>\n",
       "      <td>4</td>\n",
       "      <td>1</td>\n",
       "      <td>1</td>\n",
       "      <td>0</td>\n",
       "      <td>296</td>\n",
       "      <td>0</td>\n",
       "      <td>387.52283</td>\n",
       "      <td>45.13</td>\n",
       "      <td>1731</td>\n",
       "      <td>85</td>\n",
       "      <td>...</td>\n",
       "      <td>70.528920</td>\n",
       "      <td>29.471087</td>\n",
       "      <td>32.648033</td>\n",
       "      <td>36.677734</td>\n",
       "      <td>35.744934</td>\n",
       "      <td>34.401700</td>\n",
       "      <td>1</td>\n",
       "      <td>0</td>\n",
       "      <td>Grand Champion 1 Division 1</td>\n",
       "      <td>73</td>\n",
       "    </tr>\n",
       "    <tr>\n",
       "      <th>5133</th>\n",
       "      <td>0</td>\n",
       "      <td>0</td>\n",
       "      <td>1</td>\n",
       "      <td>1</td>\n",
       "      <td>176</td>\n",
       "      <td>0</td>\n",
       "      <td>380.35892</td>\n",
       "      <td>49.08</td>\n",
       "      <td>1699</td>\n",
       "      <td>376</td>\n",
       "      <td>...</td>\n",
       "      <td>70.140700</td>\n",
       "      <td>29.859300</td>\n",
       "      <td>39.811947</td>\n",
       "      <td>26.491549</td>\n",
       "      <td>33.730083</td>\n",
       "      <td>35.894180</td>\n",
       "      <td>1</td>\n",
       "      <td>0</td>\n",
       "      <td>Grand Champion 1 Division 1</td>\n",
       "      <td>73</td>\n",
       "    </tr>\n",
       "  </tbody>\n",
       "</table>\n",
       "<p>5134 rows × 48 columns</p>\n",
       "</div>"
      ],
      "text/plain": [
       "      shots  goals  saves  assists  score  mvp       bcpm  avg_amount  \\\n",
       "0         0      0      1        0    220    0  241.58151       33.00   \n",
       "1         0      0      0        0     90    0  200.77383       42.48   \n",
       "2         0      0      0        0     74    0  114.26153       34.05   \n",
       "3         0      0      0        0     24    0  137.69020       14.24   \n",
       "4         2      0      0        0     92    0  154.41177       43.05   \n",
       "...     ...    ...    ...      ...    ...  ...        ...         ...   \n",
       "5129      0      0      0        1     82    0  220.75021       55.64   \n",
       "5130      6      4      0        1    651    1  329.76266       60.54   \n",
       "5131      2      1      1        1    306    0  278.27320       46.01   \n",
       "5132      4      1      1        0    296    0  387.52283       45.13   \n",
       "5133      0      0      1        1    176    0  380.35892       49.08   \n",
       "\n",
       "      amount_collected  amount_stolen  ...  percent_behind_ball  \\\n",
       "0                 1332            224  ...            68.022736   \n",
       "1                 1107            137  ...            63.572340   \n",
       "2                  630             60  ...            64.225230   \n",
       "3                  276             60  ...            58.668950   \n",
       "4                  672            183  ...            65.157740   \n",
       "...                ...            ...  ...                  ...   \n",
       "5129               972            200  ...            67.237564   \n",
       "5130              1452            734  ...            80.040920   \n",
       "5131              1243            263  ...            71.521706   \n",
       "5132              1731             85  ...            70.528920   \n",
       "5133              1699            376  ...            70.140700   \n",
       "\n",
       "      percent_infront_ball  percent_most_back  percent_most_forward  \\\n",
       "0                31.977266          45.251194             33.099570   \n",
       "1                36.427658          32.736835             31.013844   \n",
       "2                35.774780          25.391450             34.973700   \n",
       "3                41.331055          16.130373             35.004574   \n",
       "4                34.842260          27.113974             41.015625   \n",
       "...                    ...                ...                   ...   \n",
       "5129             32.762436          30.962566             35.239788   \n",
       "5130             19.959084          48.866350             25.171278   \n",
       "5131             28.478289          28.245213             34.662884   \n",
       "5132             29.471087          32.648033             36.677734   \n",
       "5133             29.859300          39.811947             26.491549   \n",
       "\n",
       "      percent_closest_to_ball  percent_farthest_from_ball  inflicted  taken  \\\n",
       "0                   27.174898                   47.548515          0      0   \n",
       "1                   35.578260                   27.416721          1      0   \n",
       "2                   36.606007                   28.021280          0      1   \n",
       "3                   41.739420                   16.462957          0      0   \n",
       "4                   31.709558                   34.964767          0      1   \n",
       "...                       ...                         ...        ...    ...   \n",
       "5129                24.224989                   37.737990          0      1   \n",
       "5130                41.485294                   35.769710          0      0   \n",
       "5131                28.133278                   30.558560          2      1   \n",
       "5132                35.744934                   34.401700          1      0   \n",
       "5133                33.730083                   35.894180          1      0   \n",
       "\n",
       "                      player_rank  numeric_rank  \n",
       "0             Silver 2 Division 2            18  \n",
       "1             Silver 2 Division 2            18  \n",
       "2             Silver 2 Division 2            18  \n",
       "3           Platinum 1 Division 1            37  \n",
       "4             Silver 3 Division 4            24  \n",
       "...                           ...           ...  \n",
       "5129          Bronze 2 Division 4             8  \n",
       "5130          Bronze 2 Division 4             8  \n",
       "5131  Grand Champion 1 Division 1            73  \n",
       "5132  Grand Champion 1 Division 1            73  \n",
       "5133  Grand Champion 1 Division 1            73  \n",
       "\n",
       "[5134 rows x 48 columns]"
      ]
     },
     "execution_count": 4,
     "metadata": {},
     "output_type": "execute_result"
    }
   ],
   "source": [
    "df"
   ]
  },
  {
   "cell_type": "code",
   "execution_count": 11,
   "id": "530ae1ad",
   "metadata": {},
   "outputs": [],
   "source": [
    " name_ranks = list(df.player_rank.unique())"
   ]
  },
  {
   "cell_type": "code",
   "execution_count": 8,
   "id": "b7f7da2a",
   "metadata": {},
   "outputs": [],
   "source": [
    "number_ranks = list(df.numeric_rank.unique())"
   ]
  },
  {
   "cell_type": "code",
   "execution_count": 52,
   "id": "1225abdf",
   "metadata": {
    "scrolled": true
   },
   "outputs": [
    {
     "data": {
      "text/plain": [
       "[(1, 'Bronze 1 Division 1'),\n",
       " (2, 'Bronze 1 Division 2'),\n",
       " (3, 'Bronze 1 Division 3'),\n",
       " (4, 'Bronze 1 Division 4'),\n",
       " (5, 'Bronze 2 Division 1'),\n",
       " (6, 'Bronze 2 Division 2'),\n",
       " (7, 'Bronze 2 Division 3'),\n",
       " (8, 'Bronze 2 Division 4'),\n",
       " (9, 'Bronze 3 Division 1'),\n",
       " (10, 'Bronze 3 Division 2'),\n",
       " (11, 'Bronze 3 Division 3'),\n",
       " (12, 'Bronze 3 Division 4'),\n",
       " (14, 'Silver 1 Division 2'),\n",
       " (15, 'Silver 1 Division 3'),\n",
       " (16, 'Silver 1 Division 4'),\n",
       " (17, 'Silver 2 Division 1'),\n",
       " (18, 'Silver 2 Division 2'),\n",
       " (19, 'Silver 2 Division 3'),\n",
       " (20, 'Silver 2 Division 4'),\n",
       " (21, 'Silver 3 Division 1'),\n",
       " (22, 'Silver 3 Division 2'),\n",
       " (23, 'Silver 3 Division 3'),\n",
       " (24, 'Silver 3 Division 4'),\n",
       " (25, 'Gold 1 Division 1'),\n",
       " (26, 'Gold 1 Division 2'),\n",
       " (27, 'Gold 1 Division 3'),\n",
       " (28, 'Gold 1 Division 4'),\n",
       " (29, 'Gold 2 Division 1'),\n",
       " (30, 'Gold 2 Division 2'),\n",
       " (31, 'Gold 2 Division 3'),\n",
       " (32, 'Gold 2 Division 4'),\n",
       " (33, 'Gold 3 Division 1'),\n",
       " (34, 'Gold 3 Division 2'),\n",
       " (35, 'Gold 3 Division 3'),\n",
       " (36, 'Gold 3 Division 4'),\n",
       " (37, 'Platinum 1 Division 1'),\n",
       " (38, 'Platinum 1 Division 2'),\n",
       " (39, 'Platinum 1 Division 3'),\n",
       " (40, 'Platinum 1 Division 4'),\n",
       " (41, 'Platinum 2 Division 1'),\n",
       " (42, 'Platinum 2 Division 2'),\n",
       " (43, 'Platinum 2 Division 3'),\n",
       " (44, 'Platinum 2 Division 4'),\n",
       " (45, 'Platinum 3 Division 1'),\n",
       " (46, 'Platinum 3 Division 2'),\n",
       " (47, 'Platinum 3 Division 3'),\n",
       " (48, 'Platinum 3 Division 4'),\n",
       " (49, 'Diamond 1 Division 1'),\n",
       " (50, 'Diamond 1 Division 2'),\n",
       " (51, 'Diamond 1 Division 3'),\n",
       " (52, 'Diamond 1 Division 4'),\n",
       " (53, 'Diamond 2 Division 1'),\n",
       " (54, 'Diamond 2 Division 2'),\n",
       " (55, 'Diamond 2 Division 3'),\n",
       " (56, 'Diamond 2 Division 4'),\n",
       " (57, 'Diamond 3 Division 1'),\n",
       " (58, 'Diamond 3 Division 2'),\n",
       " (59, 'Diamond 3 Division 3'),\n",
       " (60, 'Diamond 3 Division 4'),\n",
       " (61, 'Champion 1 Division 1'),\n",
       " (62, 'Champion 1 Division 2'),\n",
       " (63, 'Champion 1 Division 3'),\n",
       " (64, 'Champion 1 Division 4'),\n",
       " (65, 'Champion 2 Division 1'),\n",
       " (66, 'Champion 2 Division 2'),\n",
       " (67, 'Champion 2 Division 3'),\n",
       " (68, 'Champion 2 Division 4'),\n",
       " (69, 'Champion 3 Division 1'),\n",
       " (70, 'Champion 3 Division 2'),\n",
       " (71, 'Champion 3 Division 3'),\n",
       " (72, 'Champion 3 Division 4'),\n",
       " (73, 'Grand Champion 1 Division 1'),\n",
       " (74, 'Grand Champion 1 Division 2'),\n",
       " (75, 'Grand Champion 1 Division 3'),\n",
       " (76, 'Grand Champion 1 Division 4'),\n",
       " (77, 'Grand Champion 2 Division 1'),\n",
       " (78, 'Grand Champion 2 Division 2'),\n",
       " (79, 'Grand Champion 2 Division 3'),\n",
       " (80, 'Grand Champion 2 Division 4'),\n",
       " (81, 'Grand Champion 3 Division 1'),\n",
       " (82, 'Grand Champion 3 Division 2'),\n",
       " (83, 'Grand Champion 3 Division 3'),\n",
       " (84, 'Grand Champion 3 Division 4'),\n",
       " (85, 'Supersonic Legend')]"
      ]
     },
     "execution_count": 52,
     "metadata": {},
     "output_type": "execute_result"
    }
   ],
   "source": [
    "sorted(list(zip(number_ranks, name_ranks)))"
   ]
  },
  {
   "cell_type": "code",
   "execution_count": 53,
   "id": "75b90f0b",
   "metadata": {},
   "outputs": [],
   "source": [
    "dict_ranks = {}\n",
    "for i in sorted(list(zip(number_ranks, name_ranks))):\n",
    "    dict_ranks[i[0]] = i[1]"
   ]
  },
  {
   "cell_type": "code",
   "execution_count": 54,
   "id": "ba1f5bec",
   "metadata": {},
   "outputs": [
    {
     "data": {
      "text/plain": [
       "{1: 'Bronze 1 Division 1',\n",
       " 2: 'Bronze 1 Division 2',\n",
       " 3: 'Bronze 1 Division 3',\n",
       " 4: 'Bronze 1 Division 4',\n",
       " 5: 'Bronze 2 Division 1',\n",
       " 6: 'Bronze 2 Division 2',\n",
       " 7: 'Bronze 2 Division 3',\n",
       " 8: 'Bronze 2 Division 4',\n",
       " 9: 'Bronze 3 Division 1',\n",
       " 10: 'Bronze 3 Division 2',\n",
       " 11: 'Bronze 3 Division 3',\n",
       " 12: 'Bronze 3 Division 4',\n",
       " 14: 'Silver 1 Division 2',\n",
       " 15: 'Silver 1 Division 3',\n",
       " 16: 'Silver 1 Division 4',\n",
       " 17: 'Silver 2 Division 1',\n",
       " 18: 'Silver 2 Division 2',\n",
       " 19: 'Silver 2 Division 3',\n",
       " 20: 'Silver 2 Division 4',\n",
       " 21: 'Silver 3 Division 1',\n",
       " 22: 'Silver 3 Division 2',\n",
       " 23: 'Silver 3 Division 3',\n",
       " 24: 'Silver 3 Division 4',\n",
       " 25: 'Gold 1 Division 1',\n",
       " 26: 'Gold 1 Division 2',\n",
       " 27: 'Gold 1 Division 3',\n",
       " 28: 'Gold 1 Division 4',\n",
       " 29: 'Gold 2 Division 1',\n",
       " 30: 'Gold 2 Division 2',\n",
       " 31: 'Gold 2 Division 3',\n",
       " 32: 'Gold 2 Division 4',\n",
       " 33: 'Gold 3 Division 1',\n",
       " 34: 'Gold 3 Division 2',\n",
       " 35: 'Gold 3 Division 3',\n",
       " 36: 'Gold 3 Division 4',\n",
       " 37: 'Platinum 1 Division 1',\n",
       " 38: 'Platinum 1 Division 2',\n",
       " 39: 'Platinum 1 Division 3',\n",
       " 40: 'Platinum 1 Division 4',\n",
       " 41: 'Platinum 2 Division 1',\n",
       " 42: 'Platinum 2 Division 2',\n",
       " 43: 'Platinum 2 Division 3',\n",
       " 44: 'Platinum 2 Division 4',\n",
       " 45: 'Platinum 3 Division 1',\n",
       " 46: 'Platinum 3 Division 2',\n",
       " 47: 'Platinum 3 Division 3',\n",
       " 48: 'Platinum 3 Division 4',\n",
       " 49: 'Diamond 1 Division 1',\n",
       " 50: 'Diamond 1 Division 2',\n",
       " 51: 'Diamond 1 Division 3',\n",
       " 52: 'Diamond 1 Division 4',\n",
       " 53: 'Diamond 2 Division 1',\n",
       " 54: 'Diamond 2 Division 2',\n",
       " 55: 'Diamond 2 Division 3',\n",
       " 56: 'Diamond 2 Division 4',\n",
       " 57: 'Diamond 3 Division 1',\n",
       " 58: 'Diamond 3 Division 2',\n",
       " 59: 'Diamond 3 Division 3',\n",
       " 60: 'Diamond 3 Division 4',\n",
       " 61: 'Champion 1 Division 1',\n",
       " 62: 'Champion 1 Division 2',\n",
       " 63: 'Champion 1 Division 3',\n",
       " 64: 'Champion 1 Division 4',\n",
       " 65: 'Champion 2 Division 1',\n",
       " 66: 'Champion 2 Division 2',\n",
       " 67: 'Champion 2 Division 3',\n",
       " 68: 'Champion 2 Division 4',\n",
       " 69: 'Champion 3 Division 1',\n",
       " 70: 'Champion 3 Division 2',\n",
       " 71: 'Champion 3 Division 3',\n",
       " 72: 'Champion 3 Division 4',\n",
       " 73: 'Grand Champion 1 Division 1',\n",
       " 74: 'Grand Champion 1 Division 2',\n",
       " 75: 'Grand Champion 1 Division 3',\n",
       " 76: 'Grand Champion 1 Division 4',\n",
       " 77: 'Grand Champion 2 Division 1',\n",
       " 78: 'Grand Champion 2 Division 2',\n",
       " 79: 'Grand Champion 2 Division 3',\n",
       " 80: 'Grand Champion 2 Division 4',\n",
       " 81: 'Grand Champion 3 Division 1',\n",
       " 82: 'Grand Champion 3 Division 2',\n",
       " 83: 'Grand Champion 3 Division 3',\n",
       " 84: 'Grand Champion 3 Division 4',\n",
       " 85: 'Supersonic Legend'}"
      ]
     },
     "execution_count": 54,
     "metadata": {},
     "output_type": "execute_result"
    }
   ],
   "source": [
    "dict_ranks"
   ]
  },
  {
   "cell_type": "code",
   "execution_count": 15,
   "id": "820fe68a",
   "metadata": {},
   "outputs": [],
   "source": [
    "df.drop(columns = 'player_rank', inplace=True)"
   ]
  },
  {
   "cell_type": "code",
   "execution_count": 19,
   "id": "9e23694b",
   "metadata": {},
   "outputs": [],
   "source": [
    "df.dropna(inplace=True)"
   ]
  },
  {
   "cell_type": "code",
   "execution_count": 20,
   "id": "87378e71",
   "metadata": {},
   "outputs": [],
   "source": [
    "X = df.drop(columns = 'numeric_rank')\n",
    "y = df.numeric_rank\n",
    "\n",
    "X_train, X_test, y_train, y_test = train_test_split(X, y, random_state=42, stratify = y)"
   ]
  },
  {
   "cell_type": "code",
   "execution_count": 28,
   "id": "3eb59a04",
   "metadata": {},
   "outputs": [],
   "source": [
    "y_base = [y.mean()] * len(y_train)"
   ]
  },
  {
   "cell_type": "code",
   "execution_count": 55,
   "id": "0bf98ccb",
   "metadata": {},
   "outputs": [
    {
     "data": {
      "text/plain": [
       "0.7094730320204974"
      ]
     },
     "execution_count": 55,
     "metadata": {},
     "output_type": "execute_result"
    }
   ],
   "source": [
    "lr = LinearRegression()\n",
    "lr.fit(X_train, y_train)\n",
    "lr.score(X_train, y_train)"
   ]
  },
  {
   "cell_type": "code",
   "execution_count": 56,
   "id": "3d50a963",
   "metadata": {},
   "outputs": [
    {
     "data": {
      "text/plain": [
       "0.6974630815386036"
      ]
     },
     "execution_count": 56,
     "metadata": {},
     "output_type": "execute_result"
    }
   ],
   "source": [
    "lr.score(X_test, y_test)"
   ]
  },
  {
   "cell_type": "code",
   "execution_count": 29,
   "id": "88351b7a",
   "metadata": {
    "collapsed": true
   },
   "outputs": [
    {
     "data": {
      "text/html": [
       "<style>#sk-container-id-1 {color: black;background-color: white;}#sk-container-id-1 pre{padding: 0;}#sk-container-id-1 div.sk-toggleable {background-color: white;}#sk-container-id-1 label.sk-toggleable__label {cursor: pointer;display: block;width: 100%;margin-bottom: 0;padding: 0.3em;box-sizing: border-box;text-align: center;}#sk-container-id-1 label.sk-toggleable__label-arrow:before {content: \"▸\";float: left;margin-right: 0.25em;color: #696969;}#sk-container-id-1 label.sk-toggleable__label-arrow:hover:before {color: black;}#sk-container-id-1 div.sk-estimator:hover label.sk-toggleable__label-arrow:before {color: black;}#sk-container-id-1 div.sk-toggleable__content {max-height: 0;max-width: 0;overflow: hidden;text-align: left;background-color: #f0f8ff;}#sk-container-id-1 div.sk-toggleable__content pre {margin: 0.2em;color: black;border-radius: 0.25em;background-color: #f0f8ff;}#sk-container-id-1 input.sk-toggleable__control:checked~div.sk-toggleable__content {max-height: 200px;max-width: 100%;overflow: auto;}#sk-container-id-1 input.sk-toggleable__control:checked~label.sk-toggleable__label-arrow:before {content: \"▾\";}#sk-container-id-1 div.sk-estimator input.sk-toggleable__control:checked~label.sk-toggleable__label {background-color: #d4ebff;}#sk-container-id-1 div.sk-label input.sk-toggleable__control:checked~label.sk-toggleable__label {background-color: #d4ebff;}#sk-container-id-1 input.sk-hidden--visually {border: 0;clip: rect(1px 1px 1px 1px);clip: rect(1px, 1px, 1px, 1px);height: 1px;margin: -1px;overflow: hidden;padding: 0;position: absolute;width: 1px;}#sk-container-id-1 div.sk-estimator {font-family: monospace;background-color: #f0f8ff;border: 1px dotted black;border-radius: 0.25em;box-sizing: border-box;margin-bottom: 0.5em;}#sk-container-id-1 div.sk-estimator:hover {background-color: #d4ebff;}#sk-container-id-1 div.sk-parallel-item::after {content: \"\";width: 100%;border-bottom: 1px solid gray;flex-grow: 1;}#sk-container-id-1 div.sk-label:hover label.sk-toggleable__label {background-color: #d4ebff;}#sk-container-id-1 div.sk-serial::before {content: \"\";position: absolute;border-left: 1px solid gray;box-sizing: border-box;top: 0;bottom: 0;left: 50%;z-index: 0;}#sk-container-id-1 div.sk-serial {display: flex;flex-direction: column;align-items: center;background-color: white;padding-right: 0.2em;padding-left: 0.2em;position: relative;}#sk-container-id-1 div.sk-item {position: relative;z-index: 1;}#sk-container-id-1 div.sk-parallel {display: flex;align-items: stretch;justify-content: center;background-color: white;position: relative;}#sk-container-id-1 div.sk-item::before, #sk-container-id-1 div.sk-parallel-item::before {content: \"\";position: absolute;border-left: 1px solid gray;box-sizing: border-box;top: 0;bottom: 0;left: 50%;z-index: -1;}#sk-container-id-1 div.sk-parallel-item {display: flex;flex-direction: column;z-index: 1;position: relative;background-color: white;}#sk-container-id-1 div.sk-parallel-item:first-child::after {align-self: flex-end;width: 50%;}#sk-container-id-1 div.sk-parallel-item:last-child::after {align-self: flex-start;width: 50%;}#sk-container-id-1 div.sk-parallel-item:only-child::after {width: 0;}#sk-container-id-1 div.sk-dashed-wrapped {border: 1px dashed gray;margin: 0 0.4em 0.5em 0.4em;box-sizing: border-box;padding-bottom: 0.4em;background-color: white;}#sk-container-id-1 div.sk-label label {font-family: monospace;font-weight: bold;display: inline-block;line-height: 1.2em;}#sk-container-id-1 div.sk-label-container {text-align: center;}#sk-container-id-1 div.sk-container {/* jupyter's `normalize.less` sets `[hidden] { display: none; }` but bootstrap.min.css set `[hidden] { display: none !important; }` so we also need the `!important` here to be able to override the default hidden behavior on the sphinx rendered scikit-learn.org. See: https://github.com/scikit-learn/scikit-learn/issues/21755 */display: inline-block !important;position: relative;}#sk-container-id-1 div.sk-text-repr-fallback {display: none;}</style><div id=\"sk-container-id-1\" class=\"sk-top-container\"><div class=\"sk-text-repr-fallback\"><pre>LinearRegression()</pre><b>In a Jupyter environment, please rerun this cell to show the HTML representation or trust the notebook. <br />On GitHub, the HTML representation is unable to render, please try loading this page with nbviewer.org.</b></div><div class=\"sk-container\" hidden><div class=\"sk-item\"><div class=\"sk-estimator sk-toggleable\"><input class=\"sk-toggleable__control sk-hidden--visually\" id=\"sk-estimator-id-1\" type=\"checkbox\" checked><label for=\"sk-estimator-id-1\" class=\"sk-toggleable__label sk-toggleable__label-arrow\">LinearRegression</label><div class=\"sk-toggleable__content\"><pre>LinearRegression()</pre></div></div></div></div></div>"
      ],
      "text/plain": [
       "LinearRegression()"
      ]
     },
     "execution_count": 29,
     "metadata": {},
     "output_type": "execute_result"
    }
   ],
   "source": [
    "lr.fit(X_train, y_base)"
   ]
  },
  {
   "cell_type": "code",
   "execution_count": 32,
   "id": "af86bd32",
   "metadata": {},
   "outputs": [
    {
     "data": {
      "text/plain": [
       "-1.6550398429515667e-07"
      ]
     },
     "execution_count": 32,
     "metadata": {},
     "output_type": "execute_result"
    }
   ],
   "source": [
    "lr.score(X_train, y_train)"
   ]
  },
  {
   "cell_type": "code",
   "execution_count": 31,
   "id": "37340a15",
   "metadata": {},
   "outputs": [
    {
     "data": {
      "text/plain": [
       "-1.4978557583145147e-06"
      ]
     },
     "execution_count": 31,
     "metadata": {},
     "output_type": "execute_result"
    }
   ],
   "source": [
    "lr.score(X_test, y_test)"
   ]
  },
  {
   "cell_type": "code",
   "execution_count": 33,
   "id": "cf9e12dc",
   "metadata": {},
   "outputs": [],
   "source": [
    "ss = StandardScaler()\n",
    "\n",
    "X_train = ss.fit_transform(X_train)\n",
    "X_test= ss.transform(X_test)"
   ]
  },
  {
   "cell_type": "code",
   "execution_count": 40,
   "id": "531c7b51",
   "metadata": {},
   "outputs": [],
   "source": [
    "poly = PolynomialFeatures(interaction_only=True)\n",
    "\n",
    "X_train_poly = poly.fit_transform(X_train)\n",
    "X_test_poly = poly.transform(X_test)"
   ]
  },
  {
   "cell_type": "code",
   "execution_count": 58,
   "id": "997f5d07",
   "metadata": {},
   "outputs": [
    {
     "data": {
      "text/html": [
       "<style>#sk-container-id-5 {color: black;background-color: white;}#sk-container-id-5 pre{padding: 0;}#sk-container-id-5 div.sk-toggleable {background-color: white;}#sk-container-id-5 label.sk-toggleable__label {cursor: pointer;display: block;width: 100%;margin-bottom: 0;padding: 0.3em;box-sizing: border-box;text-align: center;}#sk-container-id-5 label.sk-toggleable__label-arrow:before {content: \"▸\";float: left;margin-right: 0.25em;color: #696969;}#sk-container-id-5 label.sk-toggleable__label-arrow:hover:before {color: black;}#sk-container-id-5 div.sk-estimator:hover label.sk-toggleable__label-arrow:before {color: black;}#sk-container-id-5 div.sk-toggleable__content {max-height: 0;max-width: 0;overflow: hidden;text-align: left;background-color: #f0f8ff;}#sk-container-id-5 div.sk-toggleable__content pre {margin: 0.2em;color: black;border-radius: 0.25em;background-color: #f0f8ff;}#sk-container-id-5 input.sk-toggleable__control:checked~div.sk-toggleable__content {max-height: 200px;max-width: 100%;overflow: auto;}#sk-container-id-5 input.sk-toggleable__control:checked~label.sk-toggleable__label-arrow:before {content: \"▾\";}#sk-container-id-5 div.sk-estimator input.sk-toggleable__control:checked~label.sk-toggleable__label {background-color: #d4ebff;}#sk-container-id-5 div.sk-label input.sk-toggleable__control:checked~label.sk-toggleable__label {background-color: #d4ebff;}#sk-container-id-5 input.sk-hidden--visually {border: 0;clip: rect(1px 1px 1px 1px);clip: rect(1px, 1px, 1px, 1px);height: 1px;margin: -1px;overflow: hidden;padding: 0;position: absolute;width: 1px;}#sk-container-id-5 div.sk-estimator {font-family: monospace;background-color: #f0f8ff;border: 1px dotted black;border-radius: 0.25em;box-sizing: border-box;margin-bottom: 0.5em;}#sk-container-id-5 div.sk-estimator:hover {background-color: #d4ebff;}#sk-container-id-5 div.sk-parallel-item::after {content: \"\";width: 100%;border-bottom: 1px solid gray;flex-grow: 1;}#sk-container-id-5 div.sk-label:hover label.sk-toggleable__label {background-color: #d4ebff;}#sk-container-id-5 div.sk-serial::before {content: \"\";position: absolute;border-left: 1px solid gray;box-sizing: border-box;top: 0;bottom: 0;left: 50%;z-index: 0;}#sk-container-id-5 div.sk-serial {display: flex;flex-direction: column;align-items: center;background-color: white;padding-right: 0.2em;padding-left: 0.2em;position: relative;}#sk-container-id-5 div.sk-item {position: relative;z-index: 1;}#sk-container-id-5 div.sk-parallel {display: flex;align-items: stretch;justify-content: center;background-color: white;position: relative;}#sk-container-id-5 div.sk-item::before, #sk-container-id-5 div.sk-parallel-item::before {content: \"\";position: absolute;border-left: 1px solid gray;box-sizing: border-box;top: 0;bottom: 0;left: 50%;z-index: -1;}#sk-container-id-5 div.sk-parallel-item {display: flex;flex-direction: column;z-index: 1;position: relative;background-color: white;}#sk-container-id-5 div.sk-parallel-item:first-child::after {align-self: flex-end;width: 50%;}#sk-container-id-5 div.sk-parallel-item:last-child::after {align-self: flex-start;width: 50%;}#sk-container-id-5 div.sk-parallel-item:only-child::after {width: 0;}#sk-container-id-5 div.sk-dashed-wrapped {border: 1px dashed gray;margin: 0 0.4em 0.5em 0.4em;box-sizing: border-box;padding-bottom: 0.4em;background-color: white;}#sk-container-id-5 div.sk-label label {font-family: monospace;font-weight: bold;display: inline-block;line-height: 1.2em;}#sk-container-id-5 div.sk-label-container {text-align: center;}#sk-container-id-5 div.sk-container {/* jupyter's `normalize.less` sets `[hidden] { display: none; }` but bootstrap.min.css set `[hidden] { display: none !important; }` so we also need the `!important` here to be able to override the default hidden behavior on the sphinx rendered scikit-learn.org. See: https://github.com/scikit-learn/scikit-learn/issues/21755 */display: inline-block !important;position: relative;}#sk-container-id-5 div.sk-text-repr-fallback {display: none;}</style><div id=\"sk-container-id-5\" class=\"sk-top-container\"><div class=\"sk-text-repr-fallback\"><pre>LinearRegression()</pre><b>In a Jupyter environment, please rerun this cell to show the HTML representation or trust the notebook. <br />On GitHub, the HTML representation is unable to render, please try loading this page with nbviewer.org.</b></div><div class=\"sk-container\" hidden><div class=\"sk-item\"><div class=\"sk-estimator sk-toggleable\"><input class=\"sk-toggleable__control sk-hidden--visually\" id=\"sk-estimator-id-5\" type=\"checkbox\" checked><label for=\"sk-estimator-id-5\" class=\"sk-toggleable__label sk-toggleable__label-arrow\">LinearRegression</label><div class=\"sk-toggleable__content\"><pre>LinearRegression()</pre></div></div></div></div></div>"
      ],
      "text/plain": [
       "LinearRegression()"
      ]
     },
     "execution_count": 58,
     "metadata": {},
     "output_type": "execute_result"
    }
   ],
   "source": [
    "lr.fit(X_train_poly, y_train)"
   ]
  },
  {
   "cell_type": "code",
   "execution_count": 59,
   "id": "905c01b4",
   "metadata": {},
   "outputs": [
    {
     "data": {
      "text/plain": [
       "0.856270091652021"
      ]
     },
     "execution_count": 59,
     "metadata": {},
     "output_type": "execute_result"
    }
   ],
   "source": [
    "lr.score(X_train_poly, y_train)"
   ]
  },
  {
   "cell_type": "code",
   "execution_count": 60,
   "id": "45f91c58",
   "metadata": {},
   "outputs": [
    {
     "data": {
      "text/plain": [
       "-401286492.5831858"
      ]
     },
     "execution_count": 60,
     "metadata": {},
     "output_type": "execute_result"
    }
   ],
   "source": [
    "lr.score(X_test_poly, y_test)"
   ]
  },
  {
   "cell_type": "code",
   "execution_count": 84,
   "id": "4ce145ca",
   "metadata": {},
   "outputs": [
    {
     "data": {
      "text/html": [
       "<style>#sk-container-id-6 {color: black;background-color: white;}#sk-container-id-6 pre{padding: 0;}#sk-container-id-6 div.sk-toggleable {background-color: white;}#sk-container-id-6 label.sk-toggleable__label {cursor: pointer;display: block;width: 100%;margin-bottom: 0;padding: 0.3em;box-sizing: border-box;text-align: center;}#sk-container-id-6 label.sk-toggleable__label-arrow:before {content: \"▸\";float: left;margin-right: 0.25em;color: #696969;}#sk-container-id-6 label.sk-toggleable__label-arrow:hover:before {color: black;}#sk-container-id-6 div.sk-estimator:hover label.sk-toggleable__label-arrow:before {color: black;}#sk-container-id-6 div.sk-toggleable__content {max-height: 0;max-width: 0;overflow: hidden;text-align: left;background-color: #f0f8ff;}#sk-container-id-6 div.sk-toggleable__content pre {margin: 0.2em;color: black;border-radius: 0.25em;background-color: #f0f8ff;}#sk-container-id-6 input.sk-toggleable__control:checked~div.sk-toggleable__content {max-height: 200px;max-width: 100%;overflow: auto;}#sk-container-id-6 input.sk-toggleable__control:checked~label.sk-toggleable__label-arrow:before {content: \"▾\";}#sk-container-id-6 div.sk-estimator input.sk-toggleable__control:checked~label.sk-toggleable__label {background-color: #d4ebff;}#sk-container-id-6 div.sk-label input.sk-toggleable__control:checked~label.sk-toggleable__label {background-color: #d4ebff;}#sk-container-id-6 input.sk-hidden--visually {border: 0;clip: rect(1px 1px 1px 1px);clip: rect(1px, 1px, 1px, 1px);height: 1px;margin: -1px;overflow: hidden;padding: 0;position: absolute;width: 1px;}#sk-container-id-6 div.sk-estimator {font-family: monospace;background-color: #f0f8ff;border: 1px dotted black;border-radius: 0.25em;box-sizing: border-box;margin-bottom: 0.5em;}#sk-container-id-6 div.sk-estimator:hover {background-color: #d4ebff;}#sk-container-id-6 div.sk-parallel-item::after {content: \"\";width: 100%;border-bottom: 1px solid gray;flex-grow: 1;}#sk-container-id-6 div.sk-label:hover label.sk-toggleable__label {background-color: #d4ebff;}#sk-container-id-6 div.sk-serial::before {content: \"\";position: absolute;border-left: 1px solid gray;box-sizing: border-box;top: 0;bottom: 0;left: 50%;z-index: 0;}#sk-container-id-6 div.sk-serial {display: flex;flex-direction: column;align-items: center;background-color: white;padding-right: 0.2em;padding-left: 0.2em;position: relative;}#sk-container-id-6 div.sk-item {position: relative;z-index: 1;}#sk-container-id-6 div.sk-parallel {display: flex;align-items: stretch;justify-content: center;background-color: white;position: relative;}#sk-container-id-6 div.sk-item::before, #sk-container-id-6 div.sk-parallel-item::before {content: \"\";position: absolute;border-left: 1px solid gray;box-sizing: border-box;top: 0;bottom: 0;left: 50%;z-index: -1;}#sk-container-id-6 div.sk-parallel-item {display: flex;flex-direction: column;z-index: 1;position: relative;background-color: white;}#sk-container-id-6 div.sk-parallel-item:first-child::after {align-self: flex-end;width: 50%;}#sk-container-id-6 div.sk-parallel-item:last-child::after {align-self: flex-start;width: 50%;}#sk-container-id-6 div.sk-parallel-item:only-child::after {width: 0;}#sk-container-id-6 div.sk-dashed-wrapped {border: 1px dashed gray;margin: 0 0.4em 0.5em 0.4em;box-sizing: border-box;padding-bottom: 0.4em;background-color: white;}#sk-container-id-6 div.sk-label label {font-family: monospace;font-weight: bold;display: inline-block;line-height: 1.2em;}#sk-container-id-6 div.sk-label-container {text-align: center;}#sk-container-id-6 div.sk-container {/* jupyter's `normalize.less` sets `[hidden] { display: none; }` but bootstrap.min.css set `[hidden] { display: none !important; }` so we also need the `!important` here to be able to override the default hidden behavior on the sphinx rendered scikit-learn.org. See: https://github.com/scikit-learn/scikit-learn/issues/21755 */display: inline-block !important;position: relative;}#sk-container-id-6 div.sk-text-repr-fallback {display: none;}</style><div id=\"sk-container-id-6\" class=\"sk-top-container\"><div class=\"sk-text-repr-fallback\"><pre>RidgeCV()</pre><b>In a Jupyter environment, please rerun this cell to show the HTML representation or trust the notebook. <br />On GitHub, the HTML representation is unable to render, please try loading this page with nbviewer.org.</b></div><div class=\"sk-container\" hidden><div class=\"sk-item\"><div class=\"sk-estimator sk-toggleable\"><input class=\"sk-toggleable__control sk-hidden--visually\" id=\"sk-estimator-id-6\" type=\"checkbox\" checked><label for=\"sk-estimator-id-6\" class=\"sk-toggleable__label sk-toggleable__label-arrow\">RidgeCV</label><div class=\"sk-toggleable__content\"><pre>RidgeCV()</pre></div></div></div></div></div>"
      ],
      "text/plain": [
       "RidgeCV()"
      ]
     },
     "execution_count": 84,
     "metadata": {},
     "output_type": "execute_result"
    }
   ],
   "source": [
    "ridge = RidgeCV()\n",
    "\n",
    "ridge.fit(X_train_poly, y_train)"
   ]
  },
  {
   "cell_type": "code",
   "execution_count": 85,
   "id": "d53a15f8",
   "metadata": {},
   "outputs": [
    {
     "data": {
      "text/plain": [
       "0.8401841828749106"
      ]
     },
     "execution_count": 85,
     "metadata": {},
     "output_type": "execute_result"
    }
   ],
   "source": [
    "ridge.score(X_train_poly, y_train)"
   ]
  },
  {
   "cell_type": "code",
   "execution_count": 87,
   "id": "3cbe546c",
   "metadata": {},
   "outputs": [
    {
     "data": {
      "text/plain": [
       "0.6093184825027724"
      ]
     },
     "execution_count": 87,
     "metadata": {},
     "output_type": "execute_result"
    }
   ],
   "source": [
    "ridge.score(X_test_poly, y_test)"
   ]
  }
 ],
 "metadata": {
  "kernelspec": {
   "display_name": "Python 3 (ipykernel)",
   "language": "python",
   "name": "python3"
  },
  "language_info": {
   "codemirror_mode": {
    "name": "ipython",
    "version": 3
   },
   "file_extension": ".py",
   "mimetype": "text/x-python",
   "name": "python",
   "nbconvert_exporter": "python",
   "pygments_lexer": "ipython3",
   "version": "3.9.13"
  }
 },
 "nbformat": 4,
 "nbformat_minor": 5
}
