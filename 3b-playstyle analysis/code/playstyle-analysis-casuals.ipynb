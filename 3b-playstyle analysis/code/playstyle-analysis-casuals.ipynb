{
 "cells": [
  {
   "cell_type": "markdown",
   "id": "1bbf7c2a-6d92-4d5f-84a6-70dc8ac1b5a6",
   "metadata": {},
   "source": [
    "## Data Analysis from playstyle classification"
   ]
  },
  {
   "cell_type": "markdown",
   "id": "48b81464-867a-42b0-bf4b-883ddf4898f9",
   "metadata": {},
   "source": [
    "## Imports"
   ]
  },
  {
   "cell_type": "code",
   "execution_count": 1,
   "id": "3bee29ed",
   "metadata": {},
   "outputs": [
    {
     "name": "stderr",
     "output_type": "stream",
     "text": [
      "2023-05-14 15:15:30.350154: I tensorflow/core/platform/cpu_feature_guard.cc:182] This TensorFlow binary is optimized to use available CPU instructions in performance-critical operations.\n",
      "To enable the following instructions: AVX2 FMA, in other operations, rebuild TensorFlow with the appropriate compiler flags.\n"
     ]
    }
   ],
   "source": [
    "import os\n",
    "import pickle\n",
    "import requests\n",
    "import pandas as pd\n",
    "import pandas as pd\n",
    "import numpy as np\n",
    "import matplotlib.pyplot as plt\n",
    "import seaborn as sns\n",
    "from sklearn.metrics import confusion_matrix, ConfusionMatrixDisplay, mean_squared_error, balanced_accuracy_score\n",
    "from sklearn.model_selection import train_test_split, cross_val_score, GridSearchCV\n",
    "from imblearn.pipeline import Pipeline\n",
    "from sklearn.preprocessing import StandardScaler, PolynomialFeatures\n",
    "from sklearn.ensemble import AdaBoostClassifier, RandomForestClassifier, StackingClassifier, ExtraTreesClassifier\n",
    "from sklearn.neighbors import KNeighborsRegressor, KNeighborsClassifier\n",
    "from sklearn.linear_model import LogisticRegression\n",
    "from tensorflow.keras.models import Sequential, load_model\n",
    "from tensorflow.keras.layers import Dense\n",
    "from tensorflow.keras.utils import to_categorical\n",
    "from tensorflow.keras.callbacks import EarlyStopping\n"
   ]
  },
  {
   "cell_type": "code",
   "execution_count": 2,
   "id": "cb8bbe03",
   "metadata": {},
   "outputs": [],
   "source": [
    "boay = pd.read_csv('../../1-data-collection/data/boay00.csv')\n",
    "cho = pd.read_csv('../../1-data-collection/data/cho_shmo.csv')\n",
    "vinu = pd.read_csv('../../1-data-collection/data/vinu.csv')\n",
    "oski = pd.read_csv('../../1-data-collection/data/oski.csv')\n",
    "eden = pd.read_csv('../../1-data-collection/data/eden.csv')\n"
   ]
  },
  {
   "cell_type": "code",
   "execution_count": 3,
   "id": "f96b3d6c",
   "metadata": {},
   "outputs": [],
   "source": [
    "cho.drop(columns = 'Unnamed: 0', inplace = True)\n",
    "boay.drop(columns = 'Unnamed: 0', inplace = True)\n",
    "vinu.drop(columns = 'Unnamed: 0', inplace = True)\n",
    "oski.drop(columns = 'Unnamed: 0', inplace = True)\n",
    "eden.drop(columns = 'Unnamed: 0', inplace = True)"
   ]
  },
  {
   "cell_type": "markdown",
   "id": "aa5d432d-51e1-4925-9c72-dbd2b7b24515",
   "metadata": {},
   "source": [
    "loading in the et model from 3-modeling-playstyle/code/"
   ]
  },
  {
   "cell_type": "code",
   "execution_count": 26,
   "id": "96d782f6",
   "metadata": {},
   "outputs": [],
   "source": [
    "with open('../../et_model_4.pkl', 'rb') as picklefile:\n",
    "    et_model = pickle.load(picklefile)"
   ]
  },
  {
   "cell_type": "code",
   "execution_count": 5,
   "id": "01e96bd3",
   "metadata": {},
   "outputs": [],
   "source": [
    "to_drop = [\n",
    "    'shots_against',\n",
    "    'goals_against',\n",
    "    'shooting_percentage',\n",
    "    'bpm',\n",
    "    'amount_stolen_big',\n",
    "    'amount_stolen_small',\n",
    "    'count_collected_big',\n",
    "    'count_collected_small',\n",
    "    'count_stolen_small',\n",
    "    'count_stolen_big',\n",
    "    'amount_overfill_stolen',\n",
    "    'time_zero_boost',\n",
    "    'time_full_boost',\n",
    "    'time_boost_0_25',\n",
    "    'time_boost_25_50',\n",
    "    'time_boost_50_75',\n",
    "    'time_boost_75_100',\n",
    "    'avg_speed',\n",
    "    'total_distance',\n",
    "    'time_supersonic_speed',\n",
    "    'time_boost_speed',\n",
    "    'time_slow_speed',\n",
    "    'time_ground',\n",
    "    'time_low_air',\n",
    "    'time_high_air',\n",
    "    'time_powerslide',\n",
    "    'time_defensive_third',\n",
    "    'time_neutral_third',\n",
    "    'time_offensive_third',\n",
    "    'time_defensive_half',\n",
    "    'time_offensive_half',\n",
    "    'time_behind_ball',\n",
    "    'time_infront_ball',\n",
    "    'time_most_back',\n",
    "    'time_most_forward',\n",
    "    'time_closest_to_ball',\n",
    "    'time_farthest_from_ball',\n",
    "#     'goals_against_while_last_defender',\n",
    "    'mvp',\n",
    "    'taken',\n",
    "    'goals',\n",
    "    'assists',\n",
    "    'avg_distance_to_ball_possession',\n",
    "    'shots',\n",
    "    'amount_stolen'\n",
    "]"
   ]
  },
  {
   "cell_type": "code",
   "execution_count": 6,
   "id": "112ca068",
   "metadata": {},
   "outputs": [],
   "source": [
    "boay.drop(columns = to_drop, inplace = True)\n",
    "cho.drop(columns = to_drop, inplace = True)\n",
    "vinu.drop(columns = to_drop, inplace = True)\n",
    "oski.drop(columns = to_drop, inplace = True)\n",
    "eden.drop(columns = to_drop, inplace = True)\n"
   ]
  },
  {
   "cell_type": "code",
   "execution_count": 7,
   "id": "5c08ed09",
   "metadata": {},
   "outputs": [],
   "source": [
    "for col in boay.columns[:-1]:\n",
    "    boay[col] = boay[col].astype(float)\n",
    "\n",
    "for col in cho.columns[:-1]:\n",
    "    cho[col] = cho[col].astype(float)\n",
    "    \n",
    "for col in vinu.columns[:-1]:\n",
    "    vinu[col] = vinu[col].astype(float)\n",
    "    \n",
    "for col in oski.columns[:-1]:\n",
    "    oski[col] = oski[col].astype(float)\n",
    "    \n",
    "for col in eden.columns[:-1]:\n",
    "    eden[col] = eden[col].astype(float)"
   ]
  },
  {
   "cell_type": "code",
   "execution_count": 8,
   "id": "c00f3ead",
   "metadata": {},
   "outputs": [],
   "source": [
    "cho.drop(columns = 'goals_against_while_last_defender', inplace = True)\n",
    "vinu.drop(columns = 'goals_against_while_last_defender', inplace = True)"
   ]
  },
  {
   "cell_type": "code",
   "execution_count": 9,
   "id": "bfb5ab8e",
   "metadata": {},
   "outputs": [],
   "source": [
    "eden.drop(columns = 'goals_against_while_last_defender', inplace = True)"
   ]
  },
  {
   "cell_type": "code",
   "execution_count": 10,
   "id": "26aef1df",
   "metadata": {},
   "outputs": [],
   "source": [
    "# instantiated ss and poly\n",
    "poly = PolynomialFeatures(interaction_only= True)\n",
    "ss = StandardScaler()"
   ]
  },
  {
   "cell_type": "code",
   "execution_count": 37,
   "id": "d8e10c4c-ef32-40a7-9d7b-4f57cb91ebd1",
   "metadata": {},
   "outputs": [
    {
     "name": "stdout",
     "output_type": "stream",
     "text": [
      "M0nkey M00n    18\n",
      "Oski            1\n",
      "dtype: int64\n",
      "Monkeymoon    0.458823\n",
      "Oski          0.269122\n",
      "Vati          0.272055\n",
      "dtype: float64\n"
     ]
    }
   ],
   "source": [
    "cho_preds = pd.DataFrame(et_model.predict_proba(cho.drop(columns = 'player_name')), columns = ['Monkeymoon','Oski','Vati'])\n",
    "\n",
    "print(pd.DataFrame(et_model.predict(cho.drop(columns = 'player_name'))).value_counts())\n",
    "\n",
    "print(cho_preds.mean())"
   ]
  },
  {
   "cell_type": "markdown",
   "id": "7a23c483-7a51-4ea3-93af-3d2d71f0b62c",
   "metadata": {},
   "source": [
    "- cho shmo is predicted to play like monkey moon in 18 of 19 games, and the probabilities indicate some resemblance to oski and vatira\n",
    "- it is likely that cho does not match any playstyle too closely however"
   ]
  },
  {
   "cell_type": "code",
   "execution_count": 28,
   "id": "7c4b7b5d",
   "metadata": {},
   "outputs": [
    {
     "name": "stdout",
     "output_type": "stream",
     "text": [
      "M0nkey M00n    11\n",
      "Vati            6\n",
      "Oski            2\n",
      "dtype: int64\n",
      "Monkeymoon    0.407955\n",
      "Oski          0.233010\n",
      "Vati          0.359034\n",
      "dtype: float64\n"
     ]
    }
   ],
   "source": [
    "boay_preds = pd.DataFrame(et_model.predict_proba(boay.drop(columns = 'player_name')), columns = ['Monkeymoon','Oski','Vati'])\n",
    "\n",
    "print(pd.DataFrame(et_model.predict(boay.drop(columns = 'player_name'))).value_counts())\n",
    "\n",
    "print(boay_preds.mean())"
   ]
  },
  {
   "cell_type": "markdown",
   "id": "eb4d02c8-929f-48c3-b102-dc5ea8caacbb",
   "metadata": {},
   "source": [
    "- boay has a stronger match to monkey moon and vatira than oski, however since all the scores are close in value, boay does not match any playstyle too closely"
   ]
  },
  {
   "cell_type": "code",
   "execution_count": 29,
   "id": "bb833e0f-1ff2-4938-8f42-30d1e25680e7",
   "metadata": {},
   "outputs": [
    {
     "name": "stdout",
     "output_type": "stream",
     "text": [
      "M0nkey M00n    28\n",
      "Vati            5\n",
      "Oski            1\n",
      "dtype: int64\n",
      "Monkeymoon    0.469814\n",
      "Oski          0.233730\n",
      "Vati          0.296456\n",
      "dtype: float64\n"
     ]
    }
   ],
   "source": [
    "vinu_preds = pd.DataFrame(et_model.predict_proba(vinu.drop(columns = 'player_name')), columns = ['Monkeymoon','Oski','Vati'])\n",
    "\n",
    "print(pd.DataFrame(et_model.predict(vinu.drop(columns = 'player_name'))).value_counts())\n",
    "\n",
    "print(vinu_preds.mean())"
   ]
  },
  {
   "cell_type": "markdown",
   "id": "000fcab1-2696-4707-a8ff-01810ae4752b",
   "metadata": {},
   "source": [
    "- vinu strongly resembles monkey moon, and shares a minor match with vatira"
   ]
  },
  {
   "cell_type": "code",
   "execution_count": 30,
   "id": "158ce8d9",
   "metadata": {},
   "outputs": [],
   "source": [
    "oski.dropna(inplace = True)"
   ]
  },
  {
   "cell_type": "code",
   "execution_count": 31,
   "id": "8d524f47",
   "metadata": {},
   "outputs": [
    {
     "name": "stdout",
     "output_type": "stream",
     "text": [
      "Oski           310\n",
      "Vati            11\n",
      "M0nkey M00n      2\n",
      "dtype: int64\n",
      "Monkeymoon    0.028905\n",
      "Oski          0.878778\n",
      "Vati          0.092318\n",
      "dtype: float64\n"
     ]
    }
   ],
   "source": [
    "oski_preds = pd.DataFrame(et_model.predict_proba(oski.drop(columns = 'player_name')), columns = ['Monkeymoon','Oski','Vati'])\n",
    "\n",
    "print(pd.DataFrame(et_model.predict(oski.drop(columns = 'player_name'))).value_counts())\n",
    "\n",
    "print(oski_preds.mean())"
   ]
  },
  {
   "cell_type": "markdown",
   "id": "ecb80f2b-214c-468c-8312-39bab303592e",
   "metadata": {},
   "source": [
    "- as expected, oski has a high prediction for their own class"
   ]
  },
  {
   "cell_type": "code",
   "execution_count": 32,
   "id": "b2ed8000",
   "metadata": {},
   "outputs": [],
   "source": [
    "eden.dropna(inplace = True)"
   ]
  },
  {
   "cell_type": "code",
   "execution_count": 33,
   "id": "b8fc59f1",
   "metadata": {},
   "outputs": [
    {
     "name": "stdout",
     "output_type": "stream",
     "text": [
      "Vati           23\n",
      "M0nkey M00n    20\n",
      "Oski            6\n",
      "dtype: int64\n",
      "Monkeymoon    0.345987\n",
      "Oski          0.245163\n",
      "Vati          0.408850\n",
      "dtype: float64\n"
     ]
    }
   ],
   "source": [
    "eden_preds = pd.DataFrame(et_model.predict_proba(eden.drop(columns = 'player_name')), columns = ['Monkeymoon','Oski','Vati'])\n",
    "\n",
    "print(pd.DataFrame(et_model.predict(eden.drop(columns = 'player_name'))).value_counts())\n",
    "\n",
    "print(eden_preds.mean())"
   ]
  },
  {
   "cell_type": "markdown",
   "id": "59a77260-88d0-47b7-880d-ad5a7361ef29",
   "metadata": {},
   "source": [
    "- eden has no clear connection to any of the three playstyles from these games and the et model\n",
    "- most similar to vatira and monkey moon"
   ]
  },
  {
   "cell_type": "code",
   "execution_count": 40,
   "id": "8e728928-cbff-4d26-8e07-f69619309316",
   "metadata": {},
   "outputs": [],
   "source": [
    "model = load_model('../../tf_save_model_3.h5')"
   ]
  },
  {
   "cell_type": "code",
   "execution_count": 38,
   "id": "91936713-e3b8-4b15-823a-a6f59b60ce87",
   "metadata": {},
   "outputs": [],
   "source": [
    "with open('../../ss_ps.pkl', 'rb') as picklefile:\n",
    "    ss = pickle.load(picklefile)"
   ]
  },
  {
   "cell_type": "code",
   "execution_count": 39,
   "id": "a2d21f6b-2eac-41b5-894c-ceab29974538",
   "metadata": {},
   "outputs": [],
   "source": [
    "with open('../../poly_ps.pkl', 'rb') as picklefile:\n",
    "    poly = pickle.load(picklefile)"
   ]
  },
  {
   "cell_type": "code",
   "execution_count": 46,
   "id": "ae119349-1128-492b-9833-b2dc7f7e933a",
   "metadata": {},
   "outputs": [
    {
     "name": "stdout",
     "output_type": "stream",
     "text": [
      "1/1 [==============================] - 0s 47ms/step\n"
     ]
    },
    {
     "data": {
      "text/plain": [
       "monkeymoon    0.329779\n",
       "oski          0.197065\n",
       "vatira        0.473156\n",
       "dtype: float32"
      ]
     },
     "execution_count": 46,
     "metadata": {},
     "output_type": "execute_result"
    }
   ],
   "source": [
    "boay_nn_preds = model.predict(poly.transform(ss.transform(boay.drop(columns = 'player_name'))))\n",
    "\n",
    "boay_nn_preds = pd.DataFrame(boay_nn_preds, columns = ['monkeymoon','oski','vatira'])\n",
    "\n",
    "boay_nn_preds.mean()"
   ]
  },
  {
   "cell_type": "code",
   "execution_count": 47,
   "id": "df019031-c7a9-412b-b8c1-e4b8512ab12b",
   "metadata": {},
   "outputs": [
    {
     "name": "stdout",
     "output_type": "stream",
     "text": [
      "1/1 [==============================] - 0s 25ms/step\n"
     ]
    },
    {
     "data": {
      "text/plain": [
       "monkeymoon    0.280151\n",
       "oski          0.261441\n",
       "vatira        0.458407\n",
       "dtype: float32"
      ]
     },
     "execution_count": 47,
     "metadata": {},
     "output_type": "execute_result"
    }
   ],
   "source": [
    "cho_nn_preds = model.predict(poly.transform(ss.transform(cho.drop(columns = 'player_name'))))\n",
    "\n",
    "cho_nn_preds = pd.DataFrame(cho_nn_preds, columns = ['monkeymoon','oski','vatira'])\n",
    "\n",
    "cho_nn_preds.mean()"
   ]
  },
  {
   "cell_type": "code",
   "execution_count": 49,
   "id": "dd5b5ea7-14aa-4389-b444-5094353a4b96",
   "metadata": {},
   "outputs": [
    {
     "name": "stdout",
     "output_type": "stream",
     "text": [
      "11/11 [==============================] - 0s 3ms/step\n"
     ]
    },
    {
     "data": {
      "text/plain": [
       "monkeymoon    0.072459\n",
       "oski          0.745346\n",
       "vatira        0.182195\n",
       "dtype: float32"
      ]
     },
     "execution_count": 49,
     "metadata": {},
     "output_type": "execute_result"
    }
   ],
   "source": [
    "oski_nn_preds = model.predict(poly.transform(ss.transform(oski.drop(columns = 'player_name'))))\n",
    "\n",
    "oski_nn_preds = pd.DataFrame(oski_nn_preds, columns = ['monkeymoon','oski','vatira'])\n",
    "\n",
    "oski_nn_preds.mean()"
   ]
  },
  {
   "cell_type": "code",
   "execution_count": 52,
   "id": "99da6f05-d0ac-49dd-9247-2232903078a7",
   "metadata": {},
   "outputs": [
    {
     "name": "stdout",
     "output_type": "stream",
     "text": [
      "2/2 [==============================] - 0s 6ms/step\n"
     ]
    },
    {
     "data": {
      "text/plain": [
       "monkeymoon    0.483403\n",
       "oski          0.188337\n",
       "vatira        0.328260\n",
       "dtype: float32"
      ]
     },
     "execution_count": 52,
     "metadata": {},
     "output_type": "execute_result"
    }
   ],
   "source": [
    "vinu_nn_preds = model.predict(poly.transform(ss.transform(vinu.drop(columns = 'player_name'))))\n",
    "\n",
    "vinu_nn_preds = pd.DataFrame(vinu_nn_preds, columns = ['monkeymoon','oski','vatira'])\n",
    "\n",
    "vinu_nn_preds.mean()"
   ]
  },
  {
   "cell_type": "code",
   "execution_count": 50,
   "id": "ee851b42-5824-4941-8a76-f812e92595e1",
   "metadata": {},
   "outputs": [
    {
     "name": "stdout",
     "output_type": "stream",
     "text": [
      "2/2 [==============================] - 0s 8ms/step\n"
     ]
    },
    {
     "data": {
      "text/plain": [
       "monkeymoon    0.256505\n",
       "oski          0.275255\n",
       "vatira        0.468240\n",
       "dtype: float32"
      ]
     },
     "execution_count": 50,
     "metadata": {},
     "output_type": "execute_result"
    }
   ],
   "source": [
    "eden_nn_preds = model.predict(poly.transform(ss.transform(eden.drop(columns = 'player_name'))))\n",
    "\n",
    "eden_nn_preds = pd.DataFrame(eden_nn_preds, columns = ['monkeymoon','oski','vatira'])\n",
    "\n",
    "eden_nn_preds.mean()"
   ]
  },
  {
   "cell_type": "markdown",
   "id": "3bbb80bc-b7fd-4172-b3f1-b6f2067f6967",
   "metadata": {},
   "source": [
    "## Neural Network Conclusions\n",
    "---\n",
    "\n",
    "- Cho, boay, and eden all has closer similarities to vatira on average than the other two pros, oski and monkey moon\n",
    "- Oski has the closest match with oski\n",
    "- Vinu has the closest match with monkey moon, unlike any of the other players analysed here"
   ]
  },
  {
   "cell_type": "code",
   "execution_count": 73,
   "id": "bb67144e",
   "metadata": {},
   "outputs": [],
   "source": [
    "boay.to_csv('../../3-modeling-playstyle/data/boay_.csv')"
   ]
  }
 ],
 "metadata": {
  "kernelspec": {
   "display_name": "Python 3 (ipykernel)",
   "language": "python",
   "name": "python3"
  },
  "language_info": {
   "codemirror_mode": {
    "name": "ipython",
    "version": 3
   },
   "file_extension": ".py",
   "mimetype": "text/x-python",
   "name": "python",
   "nbconvert_exporter": "python",
   "pygments_lexer": "ipython3",
   "version": "3.9.13"
  }
 },
 "nbformat": 4,
 "nbformat_minor": 5
}
