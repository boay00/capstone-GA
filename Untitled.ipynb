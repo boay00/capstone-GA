{
 "cells": [
  {
   "cell_type": "code",
   "execution_count": 1,
   "id": "dbd8918d-f689-4a71-b405-42d34fc51472",
   "metadata": {},
   "outputs": [],
   "source": [
    "import requests\n",
    "import json\n",
    "import pandas as pd\n",
    "import numpy as np\n",
    "\n",
    "import matplotlib.pyplot as plt\n",
    "import matplotlib.tri as tri\n",
    "import seaborn as sns\n",
    "\n",
    "import pickle\n",
    "from math import pi "
   ]
  },
  {
   "cell_type": "code",
   "execution_count": 2,
   "id": "111edcaf-3c84-4856-8011-78b2b164d995",
   "metadata": {},
   "outputs": [],
   "source": [
    "res = requests.get(f'https://ballchasing.com/api/replays/36778dbd-048b-46e3-aef1-94a3895d2543',\n",
    "                  headers={\n",
    "                      'Authorization': 'mPuO0QZqG0wXdB9gDZHp7KKI09KplWLsYXkJQzJ5'})\n",
    "\n",
    "data = res.json()"
   ]
  },
  {
   "cell_type": "code",
   "execution_count": 8,
   "id": "a8aa4f69-cd65-4227-a460-622757939b30",
   "metadata": {},
   "outputs": [
    {
     "ename": "IndexError",
     "evalue": "list index out of range",
     "output_type": "error",
     "traceback": [
      "\u001b[0;31m---------------------------------------------------------------------------\u001b[0m",
      "\u001b[0;31mIndexError\u001b[0m                                Traceback (most recent call last)",
      "\u001b[0;32m/var/folders/5h/p8nqld_13hg44lctlhg2ns8c0000gn/T/ipykernel_5398/3763370311.py\u001b[0m in \u001b[0;36m<module>\u001b[0;34m\u001b[0m\n\u001b[0;32m----> 1\u001b[0;31m \u001b[0mdata\u001b[0m\u001b[0;34m[\u001b[0m\u001b[0;34m'orange'\u001b[0m\u001b[0;34m]\u001b[0m\u001b[0;34m[\u001b[0m\u001b[0;34m'players'\u001b[0m\u001b[0;34m]\u001b[0m\u001b[0;34m[\u001b[0m\u001b[0;36m3\u001b[0m\u001b[0;34m]\u001b[0m\u001b[0;34m\u001b[0m\u001b[0;34m\u001b[0m\u001b[0m\n\u001b[0m",
      "\u001b[0;31mIndexError\u001b[0m: list index out of range"
     ]
    }
   ],
   "source": [
    "data['orange']['players'][3]"
   ]
  },
  {
   "cell_type": "code",
   "execution_count": null,
   "id": "4d5b8f62-59e4-4f0e-9540-46b2c67f90c6",
   "metadata": {},
   "outputs": [],
   "source": [
    "def get_data(replay_id, player_name):\n",
    "    res = requests.get(f'https://ballchasing.com/api/replays/{replay_id}',\n",
    "                  headers={\n",
    "                      'Authorization': 'mPuO0QZqG0wXdB9gDZHp7KKI09KplWLsYXkJQzJ5'})\n",
    "\n",
    "    data = res.json()\n",
    "    \n",
    "    player_data = data['orange']['players'][0]['stats']\n",
    "    player_data = dict(player_data, **player_data['core'])\n",
    "    player_data = dict(player_data, **player_data['boost'])\n",
    "    player_data = dict(player_data, **player_data['movement'])\n",
    "    player_data = dict(player_data, **player_data['positioning'])\n",
    "    player_data = dict(player_data, **player_data['demo'])\n",
    "    del player_data['core']\n",
    "    del player_data['boost']\n",
    "    del player_data['movement']\n",
    "    del player_data['positioning']\n",
    "    del player_data['demo']\n",
    "\n",
    "#     player_data['title'] = data['title']\n",
    "    player_data['player_name'] = player_name\n",
    "    \n",
    "    df = pd.DataFrame(columns = player_data.keys())\n",
    "    \n",
    "    try:\n",
    "        for j in range(0, min([len(data['orange']['players']), len(data['blue']['players'])])):\n",
    "\n",
    "            if player_name != None:\n",
    "                if data['orange']['players'][j]['name'][:4].lower() == player_name[:4].lower():\n",
    "                    player_data = data['orange']['players'][j]['stats']\n",
    "\n",
    "                    player_data = dict(player_data, **player_data['core'])\n",
    "                    player_data = dict(player_data, **player_data['boost'])\n",
    "                    player_data = dict(player_data, **player_data['movement'])\n",
    "                    player_data = dict(player_data, **player_data['positioning'])\n",
    "                    player_data = dict(player_data, **player_data['demo'])\n",
    "                    del player_data['core']\n",
    "                    del player_data['boost']\n",
    "                    del player_data['movement']\n",
    "                    del player_data['positioning']\n",
    "                    del player_data['demo']\n",
    "\n",
    "                    player_data['title'] = data['title']\n",
    "                    player_data['player_name'] = player_name\n",
    "                    df.loc[player_data['title'], :] = player_data\n",
    "\n",
    "                elif data['blue']['players'][j]['name'][:4].lower() == player_name[:4].lower():\n",
    "\n",
    "                    player_data = data['blue']['players'][j]['stats']\n",
    "\n",
    "                    player_data = dict(player_data, **player_data['core'])\n",
    "                    player_data = dict(player_data, **player_data['boost'])\n",
    "                    player_data = dict(player_data, **player_data['movement'])\n",
    "                    player_data = dict(player_data, **player_data['positioning'])\n",
    "                    player_data = dict(player_data, **player_data['demo'])\n",
    "                    del player_data['core']\n",
    "                    del player_data['boost']\n",
    "                    del player_data['movement']\n",
    "                    del player_data['positioning']\n",
    "                    del player_data['demo']\n",
    "\n",
    "                    player_data['title'] = data['title']\n",
    "                    player_data['player_name'] = player_name\n",
    "\n",
    "                    df.loc[player_data['title'], :] = player_data\n",
    "\n",
    "    except KeyError:\n",
    "        errors += 1\n",
    "        print(f'KeyError in match {i}, errors = {errors}')\n",
    "            \n",
    "\n",
    "    return df"
   ]
  }
 ],
 "metadata": {
  "kernelspec": {
   "display_name": "Python 3 (ipykernel)",
   "language": "python",
   "name": "python3"
  },
  "language_info": {
   "codemirror_mode": {
    "name": "ipython",
    "version": 3
   },
   "file_extension": ".py",
   "mimetype": "text/x-python",
   "name": "python",
   "nbconvert_exporter": "python",
   "pygments_lexer": "ipython3",
   "version": "3.9.13"
  }
 },
 "nbformat": 4,
 "nbformat_minor": 5
}
