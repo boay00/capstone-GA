{
 "cells": [
  {
   "cell_type": "code",
   "execution_count": 1,
   "id": "0aad6185",
   "metadata": {},
   "outputs": [],
   "source": [
    "import pandas as pd\n",
    "import numpy as np\n",
    "import matplotlib.pyplot as plt\n",
    "import seaborn as sns\n",
    "from sklearn.model_selection import train_test_split, cross_val_score, GridSearchCV\n",
    "from imblearn.pipeline import Pipeline\n",
    "from sklearn.naive_bayes import MultinomialNB, BernoulliNB, GaussianNB\n",
    "from sklearn.preprocessing import StandardScaler, PolynomialFeatures\n",
    "from sklearn.ensemble import AdaBoostClassifier, RandomForestClassifier, StackingClassifier, ExtraTreesClassifier\n",
    "from sklearn.neighbors import KNeighborsRegressor, KNeighborsClassifier\n",
    "from sklearn.linear_model import LogisticRegression\n",
    "from sklearn.metrics import confusion_matrix, ConfusionMatrixDisplay, mean_squared_error, balanced_accuracy_score\n",
    "from tensorflow.keras.models import Sequential\n",
    "from tensorflow.keras.layers import Dense\n",
    "from tensorflow.keras.utils import to_categorical\n",
    "from tensorflow.keras.callbacks import EarlyStopping\n",
    "import os\n",
    "import pickle"
   ]
  },
  {
   "cell_type": "code",
   "execution_count": 2,
   "id": "c3b07019",
   "metadata": {},
   "outputs": [],
   "source": [
    "df = pd.read_csv('../../2-cleaning-EDA/data/pros.csv')"
   ]
  },
  {
   "cell_type": "code",
   "execution_count": 3,
   "id": "fff4bcdc",
   "metadata": {},
   "outputs": [
    {
     "data": {
      "text/plain": [
       "(958, 48)"
      ]
     },
     "execution_count": 3,
     "metadata": {},
     "output_type": "execute_result"
    }
   ],
   "source": [
    "df.shape"
   ]
  },
  {
   "cell_type": "code",
   "execution_count": 4,
   "id": "59f57300",
   "metadata": {},
   "outputs": [],
   "source": [
    "df.drop(columns = ['Unnamed: 0',\n",
    "                   'mvp',\n",
    "                   'taken',\n",
    "                   'goals',\n",
    "                   'assists',\n",
    "                   'avg_distance_to_ball_possession',\n",
    "                   'shots',\n",
    "                   'amount_stolen'\n",
    "                  ],\n",
    "                   inplace = True)"
   ]
  },
  {
   "cell_type": "code",
   "execution_count": 5,
   "id": "2a2c46fb",
   "metadata": {},
   "outputs": [
    {
     "data": {
      "text/plain": [
       "saves                                         0\n",
       "score                                       378\n",
       "bcpm                                  420.76846\n",
       "avg_amount                                48.78\n",
       "amount_collected                           2338\n",
       "amount_collected_big                       1535\n",
       "amount_collected_small                      803\n",
       "amount_overfill                             296\n",
       "amount_used_while_supersonic                389\n",
       "percent_zero_boost                    12.957797\n",
       "percent_full_boost                    10.159272\n",
       "percent_boost_0_25                    33.467205\n",
       "percent_boost_25_50                   27.739504\n",
       "percent_boost_50_75                   10.636721\n",
       "percent_boost_75_100                  28.156569\n",
       "count_powerslide                             84\n",
       "avg_powerslide_duration                    0.12\n",
       "avg_speed_percentage                   66.13043\n",
       "percent_slow_speed                     47.60705\n",
       "percent_boost_speed                   38.449085\n",
       "percent_supersonic_speed              13.943866\n",
       "percent_ground                        57.991005\n",
       "percent_low_air                       36.374813\n",
       "percent_high_air                       5.634183\n",
       "avg_distance_to_ball                       2836\n",
       "avg_distance_to_ball_no_possession         2882\n",
       "avg_distance_to_mates                      3486\n",
       "percent_defensive_third               56.550423\n",
       "percent_offensive_third                17.34085\n",
       "percent_neutral_third                  26.10873\n",
       "percent_defensive_half                 70.49387\n",
       "percent_offensive_half                29.506132\n",
       "percent_behind_ball                    78.26921\n",
       "percent_infront_ball                  21.730787\n",
       "percent_most_back                      35.63394\n",
       "percent_most_forward                  28.555145\n",
       "percent_closest_to_ball               29.365007\n",
       "percent_farthest_from_ball            34.854073\n",
       "inflicted                                     0\n",
       "player_name                                Oski\n",
       "Name: 0, dtype: object"
      ]
     },
     "execution_count": 5,
     "metadata": {},
     "output_type": "execute_result"
    }
   ],
   "source": [
    "df.iloc[0, :]"
   ]
  },
  {
   "cell_type": "code",
   "execution_count": 6,
   "id": "1845a867",
   "metadata": {},
   "outputs": [],
   "source": [
    "X = df.drop(columns = 'player_name')\n",
    "y = df.player_name\n",
    "\n",
    "X_train, X_test, y_train, y_test = train_test_split(X, y, random_state=42, stratify=y)"
   ]
  },
  {
   "cell_type": "code",
   "execution_count": 7,
   "id": "c6448745",
   "metadata": {},
   "outputs": [
    {
     "data": {
      "text/plain": [
       "Vati           0.398329\n",
       "Oski           0.337047\n",
       "M0nkey M00n    0.264624\n",
       "Name: player_name, dtype: float64"
      ]
     },
     "execution_count": 7,
     "metadata": {},
     "output_type": "execute_result"
    }
   ],
   "source": [
    "y_train.value_counts(normalize = True)"
   ]
  },
  {
   "cell_type": "code",
   "execution_count": 8,
   "id": "f8638707",
   "metadata": {},
   "outputs": [],
   "source": [
    "ss = StandardScaler()\n",
    "\n",
    "# X_train = pd.DataFrame(ss.fit_transform(X_train), columns = ss.get_feature_names_out())\n",
    "# X_test = pd.DataFrame(ss.transform(X_test), columns = ss.get_feature_names_out())\n"
   ]
  },
  {
   "cell_type": "code",
   "execution_count": 9,
   "id": "50640bfe",
   "metadata": {},
   "outputs": [
    {
     "data": {
      "text/html": [
       "<style>#sk-container-id-1 {color: black;background-color: white;}#sk-container-id-1 pre{padding: 0;}#sk-container-id-1 div.sk-toggleable {background-color: white;}#sk-container-id-1 label.sk-toggleable__label {cursor: pointer;display: block;width: 100%;margin-bottom: 0;padding: 0.3em;box-sizing: border-box;text-align: center;}#sk-container-id-1 label.sk-toggleable__label-arrow:before {content: \"▸\";float: left;margin-right: 0.25em;color: #696969;}#sk-container-id-1 label.sk-toggleable__label-arrow:hover:before {color: black;}#sk-container-id-1 div.sk-estimator:hover label.sk-toggleable__label-arrow:before {color: black;}#sk-container-id-1 div.sk-toggleable__content {max-height: 0;max-width: 0;overflow: hidden;text-align: left;background-color: #f0f8ff;}#sk-container-id-1 div.sk-toggleable__content pre {margin: 0.2em;color: black;border-radius: 0.25em;background-color: #f0f8ff;}#sk-container-id-1 input.sk-toggleable__control:checked~div.sk-toggleable__content {max-height: 200px;max-width: 100%;overflow: auto;}#sk-container-id-1 input.sk-toggleable__control:checked~label.sk-toggleable__label-arrow:before {content: \"▾\";}#sk-container-id-1 div.sk-estimator input.sk-toggleable__control:checked~label.sk-toggleable__label {background-color: #d4ebff;}#sk-container-id-1 div.sk-label input.sk-toggleable__control:checked~label.sk-toggleable__label {background-color: #d4ebff;}#sk-container-id-1 input.sk-hidden--visually {border: 0;clip: rect(1px 1px 1px 1px);clip: rect(1px, 1px, 1px, 1px);height: 1px;margin: -1px;overflow: hidden;padding: 0;position: absolute;width: 1px;}#sk-container-id-1 div.sk-estimator {font-family: monospace;background-color: #f0f8ff;border: 1px dotted black;border-radius: 0.25em;box-sizing: border-box;margin-bottom: 0.5em;}#sk-container-id-1 div.sk-estimator:hover {background-color: #d4ebff;}#sk-container-id-1 div.sk-parallel-item::after {content: \"\";width: 100%;border-bottom: 1px solid gray;flex-grow: 1;}#sk-container-id-1 div.sk-label:hover label.sk-toggleable__label {background-color: #d4ebff;}#sk-container-id-1 div.sk-serial::before {content: \"\";position: absolute;border-left: 1px solid gray;box-sizing: border-box;top: 0;bottom: 0;left: 50%;z-index: 0;}#sk-container-id-1 div.sk-serial {display: flex;flex-direction: column;align-items: center;background-color: white;padding-right: 0.2em;padding-left: 0.2em;position: relative;}#sk-container-id-1 div.sk-item {position: relative;z-index: 1;}#sk-container-id-1 div.sk-parallel {display: flex;align-items: stretch;justify-content: center;background-color: white;position: relative;}#sk-container-id-1 div.sk-item::before, #sk-container-id-1 div.sk-parallel-item::before {content: \"\";position: absolute;border-left: 1px solid gray;box-sizing: border-box;top: 0;bottom: 0;left: 50%;z-index: -1;}#sk-container-id-1 div.sk-parallel-item {display: flex;flex-direction: column;z-index: 1;position: relative;background-color: white;}#sk-container-id-1 div.sk-parallel-item:first-child::after {align-self: flex-end;width: 50%;}#sk-container-id-1 div.sk-parallel-item:last-child::after {align-self: flex-start;width: 50%;}#sk-container-id-1 div.sk-parallel-item:only-child::after {width: 0;}#sk-container-id-1 div.sk-dashed-wrapped {border: 1px dashed gray;margin: 0 0.4em 0.5em 0.4em;box-sizing: border-box;padding-bottom: 0.4em;background-color: white;}#sk-container-id-1 div.sk-label label {font-family: monospace;font-weight: bold;display: inline-block;line-height: 1.2em;}#sk-container-id-1 div.sk-label-container {text-align: center;}#sk-container-id-1 div.sk-container {/* jupyter's `normalize.less` sets `[hidden] { display: none; }` but bootstrap.min.css set `[hidden] { display: none !important; }` so we also need the `!important` here to be able to override the default hidden behavior on the sphinx rendered scikit-learn.org. See: https://github.com/scikit-learn/scikit-learn/issues/21755 */display: inline-block !important;position: relative;}#sk-container-id-1 div.sk-text-repr-fallback {display: none;}</style><div id=\"sk-container-id-1\" class=\"sk-top-container\"><div class=\"sk-text-repr-fallback\"><pre>KNeighborsClassifier(n_neighbors=2)</pre><b>In a Jupyter environment, please rerun this cell to show the HTML representation or trust the notebook. <br />On GitHub, the HTML representation is unable to render, please try loading this page with nbviewer.org.</b></div><div class=\"sk-container\" hidden><div class=\"sk-item\"><div class=\"sk-estimator sk-toggleable\"><input class=\"sk-toggleable__control sk-hidden--visually\" id=\"sk-estimator-id-1\" type=\"checkbox\" checked><label for=\"sk-estimator-id-1\" class=\"sk-toggleable__label sk-toggleable__label-arrow\">KNeighborsClassifier</label><div class=\"sk-toggleable__content\"><pre>KNeighborsClassifier(n_neighbors=2)</pre></div></div></div></div></div>"
      ],
      "text/plain": [
       "KNeighborsClassifier(n_neighbors=2)"
      ]
     },
     "execution_count": 9,
     "metadata": {},
     "output_type": "execute_result"
    }
   ],
   "source": [
    "knn = KNeighborsClassifier(n_neighbors=2)\n",
    "\n",
    "knn.fit(X_train, y_train)"
   ]
  },
  {
   "cell_type": "code",
   "execution_count": 10,
   "id": "86dd6acd",
   "metadata": {},
   "outputs": [
    {
     "data": {
      "text/plain": [
       "0.8690807799442897"
      ]
     },
     "execution_count": 10,
     "metadata": {},
     "output_type": "execute_result"
    }
   ],
   "source": [
    "knn.score(X_train, y_train)"
   ]
  },
  {
   "cell_type": "code",
   "execution_count": 11,
   "id": "67a089a4",
   "metadata": {},
   "outputs": [
    {
     "data": {
      "text/plain": [
       "0.6958333333333333"
      ]
     },
     "execution_count": 11,
     "metadata": {},
     "output_type": "execute_result"
    }
   ],
   "source": [
    "knn.score(X_test, y_test)"
   ]
  },
  {
   "cell_type": "code",
   "execution_count": 12,
   "id": "0cf2527e",
   "metadata": {},
   "outputs": [
    {
     "data": {
      "text/html": [
       "<style>#sk-container-id-2 {color: black;background-color: white;}#sk-container-id-2 pre{padding: 0;}#sk-container-id-2 div.sk-toggleable {background-color: white;}#sk-container-id-2 label.sk-toggleable__label {cursor: pointer;display: block;width: 100%;margin-bottom: 0;padding: 0.3em;box-sizing: border-box;text-align: center;}#sk-container-id-2 label.sk-toggleable__label-arrow:before {content: \"▸\";float: left;margin-right: 0.25em;color: #696969;}#sk-container-id-2 label.sk-toggleable__label-arrow:hover:before {color: black;}#sk-container-id-2 div.sk-estimator:hover label.sk-toggleable__label-arrow:before {color: black;}#sk-container-id-2 div.sk-toggleable__content {max-height: 0;max-width: 0;overflow: hidden;text-align: left;background-color: #f0f8ff;}#sk-container-id-2 div.sk-toggleable__content pre {margin: 0.2em;color: black;border-radius: 0.25em;background-color: #f0f8ff;}#sk-container-id-2 input.sk-toggleable__control:checked~div.sk-toggleable__content {max-height: 200px;max-width: 100%;overflow: auto;}#sk-container-id-2 input.sk-toggleable__control:checked~label.sk-toggleable__label-arrow:before {content: \"▾\";}#sk-container-id-2 div.sk-estimator input.sk-toggleable__control:checked~label.sk-toggleable__label {background-color: #d4ebff;}#sk-container-id-2 div.sk-label input.sk-toggleable__control:checked~label.sk-toggleable__label {background-color: #d4ebff;}#sk-container-id-2 input.sk-hidden--visually {border: 0;clip: rect(1px 1px 1px 1px);clip: rect(1px, 1px, 1px, 1px);height: 1px;margin: -1px;overflow: hidden;padding: 0;position: absolute;width: 1px;}#sk-container-id-2 div.sk-estimator {font-family: monospace;background-color: #f0f8ff;border: 1px dotted black;border-radius: 0.25em;box-sizing: border-box;margin-bottom: 0.5em;}#sk-container-id-2 div.sk-estimator:hover {background-color: #d4ebff;}#sk-container-id-2 div.sk-parallel-item::after {content: \"\";width: 100%;border-bottom: 1px solid gray;flex-grow: 1;}#sk-container-id-2 div.sk-label:hover label.sk-toggleable__label {background-color: #d4ebff;}#sk-container-id-2 div.sk-serial::before {content: \"\";position: absolute;border-left: 1px solid gray;box-sizing: border-box;top: 0;bottom: 0;left: 50%;z-index: 0;}#sk-container-id-2 div.sk-serial {display: flex;flex-direction: column;align-items: center;background-color: white;padding-right: 0.2em;padding-left: 0.2em;position: relative;}#sk-container-id-2 div.sk-item {position: relative;z-index: 1;}#sk-container-id-2 div.sk-parallel {display: flex;align-items: stretch;justify-content: center;background-color: white;position: relative;}#sk-container-id-2 div.sk-item::before, #sk-container-id-2 div.sk-parallel-item::before {content: \"\";position: absolute;border-left: 1px solid gray;box-sizing: border-box;top: 0;bottom: 0;left: 50%;z-index: -1;}#sk-container-id-2 div.sk-parallel-item {display: flex;flex-direction: column;z-index: 1;position: relative;background-color: white;}#sk-container-id-2 div.sk-parallel-item:first-child::after {align-self: flex-end;width: 50%;}#sk-container-id-2 div.sk-parallel-item:last-child::after {align-self: flex-start;width: 50%;}#sk-container-id-2 div.sk-parallel-item:only-child::after {width: 0;}#sk-container-id-2 div.sk-dashed-wrapped {border: 1px dashed gray;margin: 0 0.4em 0.5em 0.4em;box-sizing: border-box;padding-bottom: 0.4em;background-color: white;}#sk-container-id-2 div.sk-label label {font-family: monospace;font-weight: bold;display: inline-block;line-height: 1.2em;}#sk-container-id-2 div.sk-label-container {text-align: center;}#sk-container-id-2 div.sk-container {/* jupyter's `normalize.less` sets `[hidden] { display: none; }` but bootstrap.min.css set `[hidden] { display: none !important; }` so we also need the `!important` here to be able to override the default hidden behavior on the sphinx rendered scikit-learn.org. See: https://github.com/scikit-learn/scikit-learn/issues/21755 */display: inline-block !important;position: relative;}#sk-container-id-2 div.sk-text-repr-fallback {display: none;}</style><div id=\"sk-container-id-2\" class=\"sk-top-container\"><div class=\"sk-text-repr-fallback\"><pre>ExtraTreesClassifier()</pre><b>In a Jupyter environment, please rerun this cell to show the HTML representation or trust the notebook. <br />On GitHub, the HTML representation is unable to render, please try loading this page with nbviewer.org.</b></div><div class=\"sk-container\" hidden><div class=\"sk-item\"><div class=\"sk-estimator sk-toggleable\"><input class=\"sk-toggleable__control sk-hidden--visually\" id=\"sk-estimator-id-2\" type=\"checkbox\" checked><label for=\"sk-estimator-id-2\" class=\"sk-toggleable__label sk-toggleable__label-arrow\">ExtraTreesClassifier</label><div class=\"sk-toggleable__content\"><pre>ExtraTreesClassifier()</pre></div></div></div></div></div>"
      ],
      "text/plain": [
       "ExtraTreesClassifier()"
      ]
     },
     "execution_count": 12,
     "metadata": {},
     "output_type": "execute_result"
    }
   ],
   "source": [
    "et = ExtraTreesClassifier()\n",
    "\n",
    "et.fit(X_train, y_train)\n"
   ]
  },
  {
   "cell_type": "code",
   "execution_count": 13,
   "id": "11a600d5",
   "metadata": {},
   "outputs": [
    {
     "data": {
      "text/plain": [
       "1.0"
      ]
     },
     "execution_count": 13,
     "metadata": {},
     "output_type": "execute_result"
    }
   ],
   "source": [
    "et.score(X_train, y_train)"
   ]
  },
  {
   "cell_type": "code",
   "execution_count": 14,
   "id": "37be1a7f",
   "metadata": {},
   "outputs": [
    {
     "data": {
      "text/plain": [
       "0.9125"
      ]
     },
     "execution_count": 14,
     "metadata": {},
     "output_type": "execute_result"
    }
   ],
   "source": [
    "et.score(X_test, y_test)"
   ]
  },
  {
   "cell_type": "code",
   "execution_count": 15,
   "id": "34095632",
   "metadata": {},
   "outputs": [],
   "source": [
    "poly = PolynomialFeatures(interaction_only=True)\n",
    "\n",
    "X_train_poly = pd.DataFrame(poly.fit_transform(X_train), columns=poly.get_feature_names_out())\n",
    "X_test_poly = pd.DataFrame(poly.transform(X_test), columns=poly.get_feature_names_out())"
   ]
  },
  {
   "cell_type": "code",
   "execution_count": 16,
   "id": "4a067f22",
   "metadata": {},
   "outputs": [
    {
     "data": {
      "text/plain": [
       "(718, 781)"
      ]
     },
     "execution_count": 16,
     "metadata": {},
     "output_type": "execute_result"
    }
   ],
   "source": [
    "X_train_poly.shape"
   ]
  },
  {
   "cell_type": "code",
   "execution_count": 17,
   "id": "448265ca",
   "metadata": {},
   "outputs": [
    {
     "data": {
      "text/html": [
       "<style>#sk-container-id-3 {color: black;background-color: white;}#sk-container-id-3 pre{padding: 0;}#sk-container-id-3 div.sk-toggleable {background-color: white;}#sk-container-id-3 label.sk-toggleable__label {cursor: pointer;display: block;width: 100%;margin-bottom: 0;padding: 0.3em;box-sizing: border-box;text-align: center;}#sk-container-id-3 label.sk-toggleable__label-arrow:before {content: \"▸\";float: left;margin-right: 0.25em;color: #696969;}#sk-container-id-3 label.sk-toggleable__label-arrow:hover:before {color: black;}#sk-container-id-3 div.sk-estimator:hover label.sk-toggleable__label-arrow:before {color: black;}#sk-container-id-3 div.sk-toggleable__content {max-height: 0;max-width: 0;overflow: hidden;text-align: left;background-color: #f0f8ff;}#sk-container-id-3 div.sk-toggleable__content pre {margin: 0.2em;color: black;border-radius: 0.25em;background-color: #f0f8ff;}#sk-container-id-3 input.sk-toggleable__control:checked~div.sk-toggleable__content {max-height: 200px;max-width: 100%;overflow: auto;}#sk-container-id-3 input.sk-toggleable__control:checked~label.sk-toggleable__label-arrow:before {content: \"▾\";}#sk-container-id-3 div.sk-estimator input.sk-toggleable__control:checked~label.sk-toggleable__label {background-color: #d4ebff;}#sk-container-id-3 div.sk-label input.sk-toggleable__control:checked~label.sk-toggleable__label {background-color: #d4ebff;}#sk-container-id-3 input.sk-hidden--visually {border: 0;clip: rect(1px 1px 1px 1px);clip: rect(1px, 1px, 1px, 1px);height: 1px;margin: -1px;overflow: hidden;padding: 0;position: absolute;width: 1px;}#sk-container-id-3 div.sk-estimator {font-family: monospace;background-color: #f0f8ff;border: 1px dotted black;border-radius: 0.25em;box-sizing: border-box;margin-bottom: 0.5em;}#sk-container-id-3 div.sk-estimator:hover {background-color: #d4ebff;}#sk-container-id-3 div.sk-parallel-item::after {content: \"\";width: 100%;border-bottom: 1px solid gray;flex-grow: 1;}#sk-container-id-3 div.sk-label:hover label.sk-toggleable__label {background-color: #d4ebff;}#sk-container-id-3 div.sk-serial::before {content: \"\";position: absolute;border-left: 1px solid gray;box-sizing: border-box;top: 0;bottom: 0;left: 50%;z-index: 0;}#sk-container-id-3 div.sk-serial {display: flex;flex-direction: column;align-items: center;background-color: white;padding-right: 0.2em;padding-left: 0.2em;position: relative;}#sk-container-id-3 div.sk-item {position: relative;z-index: 1;}#sk-container-id-3 div.sk-parallel {display: flex;align-items: stretch;justify-content: center;background-color: white;position: relative;}#sk-container-id-3 div.sk-item::before, #sk-container-id-3 div.sk-parallel-item::before {content: \"\";position: absolute;border-left: 1px solid gray;box-sizing: border-box;top: 0;bottom: 0;left: 50%;z-index: -1;}#sk-container-id-3 div.sk-parallel-item {display: flex;flex-direction: column;z-index: 1;position: relative;background-color: white;}#sk-container-id-3 div.sk-parallel-item:first-child::after {align-self: flex-end;width: 50%;}#sk-container-id-3 div.sk-parallel-item:last-child::after {align-self: flex-start;width: 50%;}#sk-container-id-3 div.sk-parallel-item:only-child::after {width: 0;}#sk-container-id-3 div.sk-dashed-wrapped {border: 1px dashed gray;margin: 0 0.4em 0.5em 0.4em;box-sizing: border-box;padding-bottom: 0.4em;background-color: white;}#sk-container-id-3 div.sk-label label {font-family: monospace;font-weight: bold;display: inline-block;line-height: 1.2em;}#sk-container-id-3 div.sk-label-container {text-align: center;}#sk-container-id-3 div.sk-container {/* jupyter's `normalize.less` sets `[hidden] { display: none; }` but bootstrap.min.css set `[hidden] { display: none !important; }` so we also need the `!important` here to be able to override the default hidden behavior on the sphinx rendered scikit-learn.org. See: https://github.com/scikit-learn/scikit-learn/issues/21755 */display: inline-block !important;position: relative;}#sk-container-id-3 div.sk-text-repr-fallback {display: none;}</style><div id=\"sk-container-id-3\" class=\"sk-top-container\"><div class=\"sk-text-repr-fallback\"><pre>KNeighborsClassifier(n_neighbors=2)</pre><b>In a Jupyter environment, please rerun this cell to show the HTML representation or trust the notebook. <br />On GitHub, the HTML representation is unable to render, please try loading this page with nbviewer.org.</b></div><div class=\"sk-container\" hidden><div class=\"sk-item\"><div class=\"sk-estimator sk-toggleable\"><input class=\"sk-toggleable__control sk-hidden--visually\" id=\"sk-estimator-id-3\" type=\"checkbox\" checked><label for=\"sk-estimator-id-3\" class=\"sk-toggleable__label sk-toggleable__label-arrow\">KNeighborsClassifier</label><div class=\"sk-toggleable__content\"><pre>KNeighborsClassifier(n_neighbors=2)</pre></div></div></div></div></div>"
      ],
      "text/plain": [
       "KNeighborsClassifier(n_neighbors=2)"
      ]
     },
     "execution_count": 17,
     "metadata": {},
     "output_type": "execute_result"
    }
   ],
   "source": [
    "knn.fit(X_train_poly, y_train)"
   ]
  },
  {
   "cell_type": "code",
   "execution_count": 18,
   "id": "ea992620",
   "metadata": {},
   "outputs": [
    {
     "data": {
      "text/plain": [
       "0.8635097493036211"
      ]
     },
     "execution_count": 18,
     "metadata": {},
     "output_type": "execute_result"
    }
   ],
   "source": [
    "knn.score(X_train_poly, y_train)"
   ]
  },
  {
   "cell_type": "code",
   "execution_count": 19,
   "id": "e4d43cf5",
   "metadata": {},
   "outputs": [
    {
     "data": {
      "text/plain": [
       "0.7083333333333334"
      ]
     },
     "execution_count": 19,
     "metadata": {},
     "output_type": "execute_result"
    }
   ],
   "source": [
    "knn.score(X_test_poly, y_test)"
   ]
  },
  {
   "cell_type": "code",
   "execution_count": 20,
   "id": "8c07f00a",
   "metadata": {},
   "outputs": [
    {
     "data": {
      "text/html": [
       "<style>#sk-container-id-4 {color: black;background-color: white;}#sk-container-id-4 pre{padding: 0;}#sk-container-id-4 div.sk-toggleable {background-color: white;}#sk-container-id-4 label.sk-toggleable__label {cursor: pointer;display: block;width: 100%;margin-bottom: 0;padding: 0.3em;box-sizing: border-box;text-align: center;}#sk-container-id-4 label.sk-toggleable__label-arrow:before {content: \"▸\";float: left;margin-right: 0.25em;color: #696969;}#sk-container-id-4 label.sk-toggleable__label-arrow:hover:before {color: black;}#sk-container-id-4 div.sk-estimator:hover label.sk-toggleable__label-arrow:before {color: black;}#sk-container-id-4 div.sk-toggleable__content {max-height: 0;max-width: 0;overflow: hidden;text-align: left;background-color: #f0f8ff;}#sk-container-id-4 div.sk-toggleable__content pre {margin: 0.2em;color: black;border-radius: 0.25em;background-color: #f0f8ff;}#sk-container-id-4 input.sk-toggleable__control:checked~div.sk-toggleable__content {max-height: 200px;max-width: 100%;overflow: auto;}#sk-container-id-4 input.sk-toggleable__control:checked~label.sk-toggleable__label-arrow:before {content: \"▾\";}#sk-container-id-4 div.sk-estimator input.sk-toggleable__control:checked~label.sk-toggleable__label {background-color: #d4ebff;}#sk-container-id-4 div.sk-label input.sk-toggleable__control:checked~label.sk-toggleable__label {background-color: #d4ebff;}#sk-container-id-4 input.sk-hidden--visually {border: 0;clip: rect(1px 1px 1px 1px);clip: rect(1px, 1px, 1px, 1px);height: 1px;margin: -1px;overflow: hidden;padding: 0;position: absolute;width: 1px;}#sk-container-id-4 div.sk-estimator {font-family: monospace;background-color: #f0f8ff;border: 1px dotted black;border-radius: 0.25em;box-sizing: border-box;margin-bottom: 0.5em;}#sk-container-id-4 div.sk-estimator:hover {background-color: #d4ebff;}#sk-container-id-4 div.sk-parallel-item::after {content: \"\";width: 100%;border-bottom: 1px solid gray;flex-grow: 1;}#sk-container-id-4 div.sk-label:hover label.sk-toggleable__label {background-color: #d4ebff;}#sk-container-id-4 div.sk-serial::before {content: \"\";position: absolute;border-left: 1px solid gray;box-sizing: border-box;top: 0;bottom: 0;left: 50%;z-index: 0;}#sk-container-id-4 div.sk-serial {display: flex;flex-direction: column;align-items: center;background-color: white;padding-right: 0.2em;padding-left: 0.2em;position: relative;}#sk-container-id-4 div.sk-item {position: relative;z-index: 1;}#sk-container-id-4 div.sk-parallel {display: flex;align-items: stretch;justify-content: center;background-color: white;position: relative;}#sk-container-id-4 div.sk-item::before, #sk-container-id-4 div.sk-parallel-item::before {content: \"\";position: absolute;border-left: 1px solid gray;box-sizing: border-box;top: 0;bottom: 0;left: 50%;z-index: -1;}#sk-container-id-4 div.sk-parallel-item {display: flex;flex-direction: column;z-index: 1;position: relative;background-color: white;}#sk-container-id-4 div.sk-parallel-item:first-child::after {align-self: flex-end;width: 50%;}#sk-container-id-4 div.sk-parallel-item:last-child::after {align-self: flex-start;width: 50%;}#sk-container-id-4 div.sk-parallel-item:only-child::after {width: 0;}#sk-container-id-4 div.sk-dashed-wrapped {border: 1px dashed gray;margin: 0 0.4em 0.5em 0.4em;box-sizing: border-box;padding-bottom: 0.4em;background-color: white;}#sk-container-id-4 div.sk-label label {font-family: monospace;font-weight: bold;display: inline-block;line-height: 1.2em;}#sk-container-id-4 div.sk-label-container {text-align: center;}#sk-container-id-4 div.sk-container {/* jupyter's `normalize.less` sets `[hidden] { display: none; }` but bootstrap.min.css set `[hidden] { display: none !important; }` so we also need the `!important` here to be able to override the default hidden behavior on the sphinx rendered scikit-learn.org. See: https://github.com/scikit-learn/scikit-learn/issues/21755 */display: inline-block !important;position: relative;}#sk-container-id-4 div.sk-text-repr-fallback {display: none;}</style><div id=\"sk-container-id-4\" class=\"sk-top-container\"><div class=\"sk-text-repr-fallback\"><pre>ExtraTreesClassifier()</pre><b>In a Jupyter environment, please rerun this cell to show the HTML representation or trust the notebook. <br />On GitHub, the HTML representation is unable to render, please try loading this page with nbviewer.org.</b></div><div class=\"sk-container\" hidden><div class=\"sk-item\"><div class=\"sk-estimator sk-toggleable\"><input class=\"sk-toggleable__control sk-hidden--visually\" id=\"sk-estimator-id-4\" type=\"checkbox\" checked><label for=\"sk-estimator-id-4\" class=\"sk-toggleable__label sk-toggleable__label-arrow\">ExtraTreesClassifier</label><div class=\"sk-toggleable__content\"><pre>ExtraTreesClassifier()</pre></div></div></div></div></div>"
      ],
      "text/plain": [
       "ExtraTreesClassifier()"
      ]
     },
     "execution_count": 20,
     "metadata": {},
     "output_type": "execute_result"
    }
   ],
   "source": [
    "et.fit(X_train_poly, y_train)"
   ]
  },
  {
   "cell_type": "code",
   "execution_count": 21,
   "id": "7bcba6f2",
   "metadata": {},
   "outputs": [
    {
     "data": {
      "text/plain": [
       "1.0"
      ]
     },
     "execution_count": 21,
     "metadata": {},
     "output_type": "execute_result"
    }
   ],
   "source": [
    "et.score(X_train_poly, y_train)"
   ]
  },
  {
   "cell_type": "code",
   "execution_count": 22,
   "id": "28a42182",
   "metadata": {},
   "outputs": [
    {
     "data": {
      "text/plain": [
       "0.9083333333333333"
      ]
     },
     "execution_count": 22,
     "metadata": {},
     "output_type": "execute_result"
    }
   ],
   "source": [
    "et.score(X_test_poly, y_test)"
   ]
  },
  {
   "cell_type": "code",
   "execution_count": 23,
   "id": "3ba4693d",
   "metadata": {},
   "outputs": [],
   "source": [
    "def get_accuracies(X_train, y_train, X_test, y_test, model, model_name:str, scores_df=None, norm=None, confusion = True):\n",
    "    \n",
    "    # Takes training and test splits, a desired model and model name (string),\n",
    "    # current scoring dataframe and norm parameter for the heatmap output\n",
    "    \n",
    "    # Creates columns for scoring metrics on first run\n",
    "    if scores_df is None:\n",
    "        scores_df = pd.DataFrame(columns = ['train_acc', 'test_acc', 'bal_acc'])\n",
    "    \n",
    "    # fits model to training data\n",
    "    model.fit(X_train, y_train)\n",
    "    \n",
    "    # produces a confusion matrix for the prediction and true values of the test data\n",
    "    if confusion == True:\n",
    "        ConfusionMatrixDisplay.from_estimator(model, X_test, y_test, cmap='Blues', normalize=norm)\n",
    "    \n",
    "    # predicted subreddits for each row, used to calculate balanced accuracy\n",
    "    preds = model.predict(X_test)\n",
    "    train_acc = model.score(X_train, y_train)\n",
    "    test_acc = model.score(X_test, y_test)\n",
    "    bal_acc = balanced_accuracy_score(y_test, preds)\n",
    "\n",
    "    # dataframe updated with model name and corresponding scores\n",
    "    scores_df.loc[model_name,:] = [train_acc, test_acc, bal_acc]\n",
    "    \n",
    "    print(scores_df)\n",
    "    \n",
    "    return scores_df"
   ]
  },
  {
   "cell_type": "code",
   "execution_count": 24,
   "id": "43ea6191",
   "metadata": {},
   "outputs": [],
   "source": [
    "pipe_knn = Pipeline([\n",
    "    ('ss', StandardScaler()),\n",
    "    ('knn', KNeighborsClassifier())\n",
    "])"
   ]
  },
  {
   "cell_type": "code",
   "execution_count": 25,
   "id": "f600cf78",
   "metadata": {},
   "outputs": [],
   "source": [
    "gs_knn = GridSearchCV(\n",
    "    pipe_knn,\n",
    "    param_grid={\n",
    "        'knn__n_neighbors' : [3, 5, 7, 9, 10, 15],\n",
    "        'knn__weights' : ['uniform', 'distance'],\n",
    "        'knn__p' : [1, 1.5, 2]\n",
    "    },\n",
    "    cv = 3,\n",
    "    verbose = 1,\n",
    "    n_jobs = -1,\n",
    "    scoring='balanced_accuracy'\n",
    ")"
   ]
  },
  {
   "cell_type": "code",
   "execution_count": 26,
   "id": "6e7e2061",
   "metadata": {
    "scrolled": true
   },
   "outputs": [
    {
     "name": "stdout",
     "output_type": "stream",
     "text": [
      "Fitting 3 folds for each of 36 candidates, totalling 108 fits\n"
     ]
    },
    {
     "data": {
      "text/html": [
       "<style>#sk-container-id-5 {color: black;background-color: white;}#sk-container-id-5 pre{padding: 0;}#sk-container-id-5 div.sk-toggleable {background-color: white;}#sk-container-id-5 label.sk-toggleable__label {cursor: pointer;display: block;width: 100%;margin-bottom: 0;padding: 0.3em;box-sizing: border-box;text-align: center;}#sk-container-id-5 label.sk-toggleable__label-arrow:before {content: \"▸\";float: left;margin-right: 0.25em;color: #696969;}#sk-container-id-5 label.sk-toggleable__label-arrow:hover:before {color: black;}#sk-container-id-5 div.sk-estimator:hover label.sk-toggleable__label-arrow:before {color: black;}#sk-container-id-5 div.sk-toggleable__content {max-height: 0;max-width: 0;overflow: hidden;text-align: left;background-color: #f0f8ff;}#sk-container-id-5 div.sk-toggleable__content pre {margin: 0.2em;color: black;border-radius: 0.25em;background-color: #f0f8ff;}#sk-container-id-5 input.sk-toggleable__control:checked~div.sk-toggleable__content {max-height: 200px;max-width: 100%;overflow: auto;}#sk-container-id-5 input.sk-toggleable__control:checked~label.sk-toggleable__label-arrow:before {content: \"▾\";}#sk-container-id-5 div.sk-estimator input.sk-toggleable__control:checked~label.sk-toggleable__label {background-color: #d4ebff;}#sk-container-id-5 div.sk-label input.sk-toggleable__control:checked~label.sk-toggleable__label {background-color: #d4ebff;}#sk-container-id-5 input.sk-hidden--visually {border: 0;clip: rect(1px 1px 1px 1px);clip: rect(1px, 1px, 1px, 1px);height: 1px;margin: -1px;overflow: hidden;padding: 0;position: absolute;width: 1px;}#sk-container-id-5 div.sk-estimator {font-family: monospace;background-color: #f0f8ff;border: 1px dotted black;border-radius: 0.25em;box-sizing: border-box;margin-bottom: 0.5em;}#sk-container-id-5 div.sk-estimator:hover {background-color: #d4ebff;}#sk-container-id-5 div.sk-parallel-item::after {content: \"\";width: 100%;border-bottom: 1px solid gray;flex-grow: 1;}#sk-container-id-5 div.sk-label:hover label.sk-toggleable__label {background-color: #d4ebff;}#sk-container-id-5 div.sk-serial::before {content: \"\";position: absolute;border-left: 1px solid gray;box-sizing: border-box;top: 0;bottom: 0;left: 50%;z-index: 0;}#sk-container-id-5 div.sk-serial {display: flex;flex-direction: column;align-items: center;background-color: white;padding-right: 0.2em;padding-left: 0.2em;position: relative;}#sk-container-id-5 div.sk-item {position: relative;z-index: 1;}#sk-container-id-5 div.sk-parallel {display: flex;align-items: stretch;justify-content: center;background-color: white;position: relative;}#sk-container-id-5 div.sk-item::before, #sk-container-id-5 div.sk-parallel-item::before {content: \"\";position: absolute;border-left: 1px solid gray;box-sizing: border-box;top: 0;bottom: 0;left: 50%;z-index: -1;}#sk-container-id-5 div.sk-parallel-item {display: flex;flex-direction: column;z-index: 1;position: relative;background-color: white;}#sk-container-id-5 div.sk-parallel-item:first-child::after {align-self: flex-end;width: 50%;}#sk-container-id-5 div.sk-parallel-item:last-child::after {align-self: flex-start;width: 50%;}#sk-container-id-5 div.sk-parallel-item:only-child::after {width: 0;}#sk-container-id-5 div.sk-dashed-wrapped {border: 1px dashed gray;margin: 0 0.4em 0.5em 0.4em;box-sizing: border-box;padding-bottom: 0.4em;background-color: white;}#sk-container-id-5 div.sk-label label {font-family: monospace;font-weight: bold;display: inline-block;line-height: 1.2em;}#sk-container-id-5 div.sk-label-container {text-align: center;}#sk-container-id-5 div.sk-container {/* jupyter's `normalize.less` sets `[hidden] { display: none; }` but bootstrap.min.css set `[hidden] { display: none !important; }` so we also need the `!important` here to be able to override the default hidden behavior on the sphinx rendered scikit-learn.org. See: https://github.com/scikit-learn/scikit-learn/issues/21755 */display: inline-block !important;position: relative;}#sk-container-id-5 div.sk-text-repr-fallback {display: none;}</style><div id=\"sk-container-id-5\" class=\"sk-top-container\"><div class=\"sk-text-repr-fallback\"><pre>GridSearchCV(cv=3,\n",
       "             estimator=Pipeline(steps=[(&#x27;ss&#x27;, StandardScaler()),\n",
       "                                       (&#x27;knn&#x27;, KNeighborsClassifier())]),\n",
       "             n_jobs=-1,\n",
       "             param_grid={&#x27;knn__n_neighbors&#x27;: [3, 5, 7, 9, 10, 15],\n",
       "                         &#x27;knn__p&#x27;: [1, 1.5, 2],\n",
       "                         &#x27;knn__weights&#x27;: [&#x27;uniform&#x27;, &#x27;distance&#x27;]},\n",
       "             scoring=&#x27;balanced_accuracy&#x27;, verbose=1)</pre><b>In a Jupyter environment, please rerun this cell to show the HTML representation or trust the notebook. <br />On GitHub, the HTML representation is unable to render, please try loading this page with nbviewer.org.</b></div><div class=\"sk-container\" hidden><div class=\"sk-item sk-dashed-wrapped\"><div class=\"sk-label-container\"><div class=\"sk-label sk-toggleable\"><input class=\"sk-toggleable__control sk-hidden--visually\" id=\"sk-estimator-id-5\" type=\"checkbox\" ><label for=\"sk-estimator-id-5\" class=\"sk-toggleable__label sk-toggleable__label-arrow\">GridSearchCV</label><div class=\"sk-toggleable__content\"><pre>GridSearchCV(cv=3,\n",
       "             estimator=Pipeline(steps=[(&#x27;ss&#x27;, StandardScaler()),\n",
       "                                       (&#x27;knn&#x27;, KNeighborsClassifier())]),\n",
       "             n_jobs=-1,\n",
       "             param_grid={&#x27;knn__n_neighbors&#x27;: [3, 5, 7, 9, 10, 15],\n",
       "                         &#x27;knn__p&#x27;: [1, 1.5, 2],\n",
       "                         &#x27;knn__weights&#x27;: [&#x27;uniform&#x27;, &#x27;distance&#x27;]},\n",
       "             scoring=&#x27;balanced_accuracy&#x27;, verbose=1)</pre></div></div></div><div class=\"sk-parallel\"><div class=\"sk-parallel-item\"><div class=\"sk-item\"><div class=\"sk-label-container\"><div class=\"sk-label sk-toggleable\"><input class=\"sk-toggleable__control sk-hidden--visually\" id=\"sk-estimator-id-6\" type=\"checkbox\" ><label for=\"sk-estimator-id-6\" class=\"sk-toggleable__label sk-toggleable__label-arrow\">estimator: Pipeline</label><div class=\"sk-toggleable__content\"><pre>Pipeline(steps=[(&#x27;ss&#x27;, StandardScaler()), (&#x27;knn&#x27;, KNeighborsClassifier())])</pre></div></div></div><div class=\"sk-serial\"><div class=\"sk-item\"><div class=\"sk-serial\"><div class=\"sk-item\"><div class=\"sk-estimator sk-toggleable\"><input class=\"sk-toggleable__control sk-hidden--visually\" id=\"sk-estimator-id-7\" type=\"checkbox\" ><label for=\"sk-estimator-id-7\" class=\"sk-toggleable__label sk-toggleable__label-arrow\">StandardScaler</label><div class=\"sk-toggleable__content\"><pre>StandardScaler()</pre></div></div></div><div class=\"sk-item\"><div class=\"sk-estimator sk-toggleable\"><input class=\"sk-toggleable__control sk-hidden--visually\" id=\"sk-estimator-id-8\" type=\"checkbox\" ><label for=\"sk-estimator-id-8\" class=\"sk-toggleable__label sk-toggleable__label-arrow\">KNeighborsClassifier</label><div class=\"sk-toggleable__content\"><pre>KNeighborsClassifier()</pre></div></div></div></div></div></div></div></div></div></div></div></div>"
      ],
      "text/plain": [
       "GridSearchCV(cv=3,\n",
       "             estimator=Pipeline(steps=[('ss', StandardScaler()),\n",
       "                                       ('knn', KNeighborsClassifier())]),\n",
       "             n_jobs=-1,\n",
       "             param_grid={'knn__n_neighbors': [3, 5, 7, 9, 10, 15],\n",
       "                         'knn__p': [1, 1.5, 2],\n",
       "                         'knn__weights': ['uniform', 'distance']},\n",
       "             scoring='balanced_accuracy', verbose=1)"
      ]
     },
     "execution_count": 26,
     "metadata": {},
     "output_type": "execute_result"
    }
   ],
   "source": [
    "gs_knn.fit(X_train, y_train)"
   ]
  },
  {
   "cell_type": "code",
   "execution_count": 27,
   "id": "4a907cd3",
   "metadata": {},
   "outputs": [
    {
     "data": {
      "text/plain": [
       "{'knn__n_neighbors': 7, 'knn__p': 1, 'knn__weights': 'distance'}"
      ]
     },
     "execution_count": 27,
     "metadata": {},
     "output_type": "execute_result"
    }
   ],
   "source": [
    "gs_knn.best_params_"
   ]
  },
  {
   "cell_type": "code",
   "execution_count": 28,
   "id": "9e3d8494",
   "metadata": {},
   "outputs": [
    {
     "name": "stdout",
     "output_type": "stream",
     "text": [
      "    train_acc test_acc   bal_acc\n",
      "knn       1.0   0.8625  0.868717\n"
     ]
    },
    {
     "data": {
      "image/png": "[encoded data removed]",
      "text/plain": [
       "<Figure size 640x480 with 2 Axes>"
      ]
     },
     "metadata": {},
     "output_type": "display_data"
    }
   ],
   "source": [
    "scores_df = get_accuracies(X_train, y_train, X_test, y_test, \n",
    "                           gs_knn.best_estimator_, \n",
    "                           'knn',\n",
    "                           norm = 'true')"
   ]
  },
  {
   "cell_type": "code",
   "execution_count": 29,
   "id": "8e2fd0d0",
   "metadata": {},
   "outputs": [],
   "source": [
    "pipe_et = Pipeline([\n",
    "#     ('ss', StandardScaler()),\n",
    "    ('et', ExtraTreesClassifier())\n",
    "])"
   ]
  },
  {
   "cell_type": "code",
   "execution_count": 30,
   "id": "a4db3127",
   "metadata": {},
   "outputs": [],
   "source": [
    "gs_et = GridSearchCV(\n",
    "    pipe_et,\n",
    "    param_grid={\n",
    "        'et__n_estimators' : [46],\n",
    "        'et__max_depth' : [5,7,10,15],\n",
    "        'et__min_samples_split' : [1.0, 2,3,4]\n",
    "    },\n",
    "    cv = 5,\n",
    "    verbose = 1,\n",
    "    n_jobs = -1,\n",
    "    scoring = 'balanced_accuracy'\n",
    ")"
   ]
  },
  {
   "cell_type": "code",
   "execution_count": 31,
   "id": "5c015256",
   "metadata": {
    "scrolled": true
   },
   "outputs": [
    {
     "name": "stdout",
     "output_type": "stream",
     "text": [
      "Fitting 5 folds for each of 16 candidates, totalling 80 fits\n"
     ]
    },
    {
     "data": {
      "text/html": [
       "<style>#sk-container-id-6 {color: black;background-color: white;}#sk-container-id-6 pre{padding: 0;}#sk-container-id-6 div.sk-toggleable {background-color: white;}#sk-container-id-6 label.sk-toggleable__label {cursor: pointer;display: block;width: 100%;margin-bottom: 0;padding: 0.3em;box-sizing: border-box;text-align: center;}#sk-container-id-6 label.sk-toggleable__label-arrow:before {content: \"▸\";float: left;margin-right: 0.25em;color: #696969;}#sk-container-id-6 label.sk-toggleable__label-arrow:hover:before {color: black;}#sk-container-id-6 div.sk-estimator:hover label.sk-toggleable__label-arrow:before {color: black;}#sk-container-id-6 div.sk-toggleable__content {max-height: 0;max-width: 0;overflow: hidden;text-align: left;background-color: #f0f8ff;}#sk-container-id-6 div.sk-toggleable__content pre {margin: 0.2em;color: black;border-radius: 0.25em;background-color: #f0f8ff;}#sk-container-id-6 input.sk-toggleable__control:checked~div.sk-toggleable__content {max-height: 200px;max-width: 100%;overflow: auto;}#sk-container-id-6 input.sk-toggleable__control:checked~label.sk-toggleable__label-arrow:before {content: \"▾\";}#sk-container-id-6 div.sk-estimator input.sk-toggleable__control:checked~label.sk-toggleable__label {background-color: #d4ebff;}#sk-container-id-6 div.sk-label input.sk-toggleable__control:checked~label.sk-toggleable__label {background-color: #d4ebff;}#sk-container-id-6 input.sk-hidden--visually {border: 0;clip: rect(1px 1px 1px 1px);clip: rect(1px, 1px, 1px, 1px);height: 1px;margin: -1px;overflow: hidden;padding: 0;position: absolute;width: 1px;}#sk-container-id-6 div.sk-estimator {font-family: monospace;background-color: #f0f8ff;border: 1px dotted black;border-radius: 0.25em;box-sizing: border-box;margin-bottom: 0.5em;}#sk-container-id-6 div.sk-estimator:hover {background-color: #d4ebff;}#sk-container-id-6 div.sk-parallel-item::after {content: \"\";width: 100%;border-bottom: 1px solid gray;flex-grow: 1;}#sk-container-id-6 div.sk-label:hover label.sk-toggleable__label {background-color: #d4ebff;}#sk-container-id-6 div.sk-serial::before {content: \"\";position: absolute;border-left: 1px solid gray;box-sizing: border-box;top: 0;bottom: 0;left: 50%;z-index: 0;}#sk-container-id-6 div.sk-serial {display: flex;flex-direction: column;align-items: center;background-color: white;padding-right: 0.2em;padding-left: 0.2em;position: relative;}#sk-container-id-6 div.sk-item {position: relative;z-index: 1;}#sk-container-id-6 div.sk-parallel {display: flex;align-items: stretch;justify-content: center;background-color: white;position: relative;}#sk-container-id-6 div.sk-item::before, #sk-container-id-6 div.sk-parallel-item::before {content: \"\";position: absolute;border-left: 1px solid gray;box-sizing: border-box;top: 0;bottom: 0;left: 50%;z-index: -1;}#sk-container-id-6 div.sk-parallel-item {display: flex;flex-direction: column;z-index: 1;position: relative;background-color: white;}#sk-container-id-6 div.sk-parallel-item:first-child::after {align-self: flex-end;width: 50%;}#sk-container-id-6 div.sk-parallel-item:last-child::after {align-self: flex-start;width: 50%;}#sk-container-id-6 div.sk-parallel-item:only-child::after {width: 0;}#sk-container-id-6 div.sk-dashed-wrapped {border: 1px dashed gray;margin: 0 0.4em 0.5em 0.4em;box-sizing: border-box;padding-bottom: 0.4em;background-color: white;}#sk-container-id-6 div.sk-label label {font-family: monospace;font-weight: bold;display: inline-block;line-height: 1.2em;}#sk-container-id-6 div.sk-label-container {text-align: center;}#sk-container-id-6 div.sk-container {/* jupyter's `normalize.less` sets `[hidden] { display: none; }` but bootstrap.min.css set `[hidden] { display: none !important; }` so we also need the `!important` here to be able to override the default hidden behavior on the sphinx rendered scikit-learn.org. See: https://github.com/scikit-learn/scikit-learn/issues/21755 */display: inline-block !important;position: relative;}#sk-container-id-6 div.sk-text-repr-fallback {display: none;}</style><div id=\"sk-container-id-6\" class=\"sk-top-container\"><div class=\"sk-text-repr-fallback\"><pre>GridSearchCV(cv=5, estimator=Pipeline(steps=[(&#x27;et&#x27;, ExtraTreesClassifier())]),\n",
       "             n_jobs=-1,\n",
       "             param_grid={&#x27;et__max_depth&#x27;: [5, 7, 10, 15],\n",
       "                         &#x27;et__min_samples_split&#x27;: [1.0, 2, 3, 4],\n",
       "                         &#x27;et__n_estimators&#x27;: [46]},\n",
       "             scoring=&#x27;balanced_accuracy&#x27;, verbose=1)</pre><b>In a Jupyter environment, please rerun this cell to show the HTML representation or trust the notebook. <br />On GitHub, the HTML representation is unable to render, please try loading this page with nbviewer.org.</b></div><div class=\"sk-container\" hidden><div class=\"sk-item sk-dashed-wrapped\"><div class=\"sk-label-container\"><div class=\"sk-label sk-toggleable\"><input class=\"sk-toggleable__control sk-hidden--visually\" id=\"sk-estimator-id-9\" type=\"checkbox\" ><label for=\"sk-estimator-id-9\" class=\"sk-toggleable__label sk-toggleable__label-arrow\">GridSearchCV</label><div class=\"sk-toggleable__content\"><pre>GridSearchCV(cv=5, estimator=Pipeline(steps=[(&#x27;et&#x27;, ExtraTreesClassifier())]),\n",
       "             n_jobs=-1,\n",
       "             param_grid={&#x27;et__max_depth&#x27;: [5, 7, 10, 15],\n",
       "                         &#x27;et__min_samples_split&#x27;: [1.0, 2, 3, 4],\n",
       "                         &#x27;et__n_estimators&#x27;: [46]},\n",
       "             scoring=&#x27;balanced_accuracy&#x27;, verbose=1)</pre></div></div></div><div class=\"sk-parallel\"><div class=\"sk-parallel-item\"><div class=\"sk-item\"><div class=\"sk-label-container\"><div class=\"sk-label sk-toggleable\"><input class=\"sk-toggleable__control sk-hidden--visually\" id=\"sk-estimator-id-10\" type=\"checkbox\" ><label for=\"sk-estimator-id-10\" class=\"sk-toggleable__label sk-toggleable__label-arrow\">estimator: Pipeline</label><div class=\"sk-toggleable__content\"><pre>Pipeline(steps=[(&#x27;et&#x27;, ExtraTreesClassifier())])</pre></div></div></div><div class=\"sk-serial\"><div class=\"sk-item\"><div class=\"sk-serial\"><div class=\"sk-item\"><div class=\"sk-estimator sk-toggleable\"><input class=\"sk-toggleable__control sk-hidden--visually\" id=\"sk-estimator-id-11\" type=\"checkbox\" ><label for=\"sk-estimator-id-11\" class=\"sk-toggleable__label sk-toggleable__label-arrow\">ExtraTreesClassifier</label><div class=\"sk-toggleable__content\"><pre>ExtraTreesClassifier()</pre></div></div></div></div></div></div></div></div></div></div></div></div>"
      ],
      "text/plain": [
       "GridSearchCV(cv=5, estimator=Pipeline(steps=[('et', ExtraTreesClassifier())]),\n",
       "             n_jobs=-1,\n",
       "             param_grid={'et__max_depth': [5, 7, 10, 15],\n",
       "                         'et__min_samples_split': [1.0, 2, 3, 4],\n",
       "                         'et__n_estimators': [46]},\n",
       "             scoring='balanced_accuracy', verbose=1)"
      ]
     },
     "execution_count": 31,
     "metadata": {},
     "output_type": "execute_result"
    }
   ],
   "source": [
    "gs_et.fit(X_train, y_train)"
   ]
  },
  {
   "cell_type": "code",
   "execution_count": 32,
   "id": "64117c7d",
   "metadata": {},
   "outputs": [
    {
     "data": {
      "text/html": [
       "<style>#sk-container-id-7 {color: black;background-color: white;}#sk-container-id-7 pre{padding: 0;}#sk-container-id-7 div.sk-toggleable {background-color: white;}#sk-container-id-7 label.sk-toggleable__label {cursor: pointer;display: block;width: 100%;margin-bottom: 0;padding: 0.3em;box-sizing: border-box;text-align: center;}#sk-container-id-7 label.sk-toggleable__label-arrow:before {content: \"▸\";float: left;margin-right: 0.25em;color: #696969;}#sk-container-id-7 label.sk-toggleable__label-arrow:hover:before {color: black;}#sk-container-id-7 div.sk-estimator:hover label.sk-toggleable__label-arrow:before {color: black;}#sk-container-id-7 div.sk-toggleable__content {max-height: 0;max-width: 0;overflow: hidden;text-align: left;background-color: #f0f8ff;}#sk-container-id-7 div.sk-toggleable__content pre {margin: 0.2em;color: black;border-radius: 0.25em;background-color: #f0f8ff;}#sk-container-id-7 input.sk-toggleable__control:checked~div.sk-toggleable__content {max-height: 200px;max-width: 100%;overflow: auto;}#sk-container-id-7 input.sk-toggleable__control:checked~label.sk-toggleable__label-arrow:before {content: \"▾\";}#sk-container-id-7 div.sk-estimator input.sk-toggleable__control:checked~label.sk-toggleable__label {background-color: #d4ebff;}#sk-container-id-7 div.sk-label input.sk-toggleable__control:checked~label.sk-toggleable__label {background-color: #d4ebff;}#sk-container-id-7 input.sk-hidden--visually {border: 0;clip: rect(1px 1px 1px 1px);clip: rect(1px, 1px, 1px, 1px);height: 1px;margin: -1px;overflow: hidden;padding: 0;position: absolute;width: 1px;}#sk-container-id-7 div.sk-estimator {font-family: monospace;background-color: #f0f8ff;border: 1px dotted black;border-radius: 0.25em;box-sizing: border-box;margin-bottom: 0.5em;}#sk-container-id-7 div.sk-estimator:hover {background-color: #d4ebff;}#sk-container-id-7 div.sk-parallel-item::after {content: \"\";width: 100%;border-bottom: 1px solid gray;flex-grow: 1;}#sk-container-id-7 div.sk-label:hover label.sk-toggleable__label {background-color: #d4ebff;}#sk-container-id-7 div.sk-serial::before {content: \"\";position: absolute;border-left: 1px solid gray;box-sizing: border-box;top: 0;bottom: 0;left: 50%;z-index: 0;}#sk-container-id-7 div.sk-serial {display: flex;flex-direction: column;align-items: center;background-color: white;padding-right: 0.2em;padding-left: 0.2em;position: relative;}#sk-container-id-7 div.sk-item {position: relative;z-index: 1;}#sk-container-id-7 div.sk-parallel {display: flex;align-items: stretch;justify-content: center;background-color: white;position: relative;}#sk-container-id-7 div.sk-item::before, #sk-container-id-7 div.sk-parallel-item::before {content: \"\";position: absolute;border-left: 1px solid gray;box-sizing: border-box;top: 0;bottom: 0;left: 50%;z-index: -1;}#sk-container-id-7 div.sk-parallel-item {display: flex;flex-direction: column;z-index: 1;position: relative;background-color: white;}#sk-container-id-7 div.sk-parallel-item:first-child::after {align-self: flex-end;width: 50%;}#sk-container-id-7 div.sk-parallel-item:last-child::after {align-self: flex-start;width: 50%;}#sk-container-id-7 div.sk-parallel-item:only-child::after {width: 0;}#sk-container-id-7 div.sk-dashed-wrapped {border: 1px dashed gray;margin: 0 0.4em 0.5em 0.4em;box-sizing: border-box;padding-bottom: 0.4em;background-color: white;}#sk-container-id-7 div.sk-label label {font-family: monospace;font-weight: bold;display: inline-block;line-height: 1.2em;}#sk-container-id-7 div.sk-label-container {text-align: center;}#sk-container-id-7 div.sk-container {/* jupyter's `normalize.less` sets `[hidden] { display: none; }` but bootstrap.min.css set `[hidden] { display: none !important; }` so we also need the `!important` here to be able to override the default hidden behavior on the sphinx rendered scikit-learn.org. See: https://github.com/scikit-learn/scikit-learn/issues/21755 */display: inline-block !important;position: relative;}#sk-container-id-7 div.sk-text-repr-fallback {display: none;}</style><div id=\"sk-container-id-7\" class=\"sk-top-container\"><div class=\"sk-text-repr-fallback\"><pre>Pipeline(steps=[(&#x27;et&#x27;,\n",
       "                 ExtraTreesClassifier(max_depth=15, min_samples_split=3,\n",
       "                                      n_estimators=46))])</pre><b>In a Jupyter environment, please rerun this cell to show the HTML representation or trust the notebook. <br />On GitHub, the HTML representation is unable to render, please try loading this page with nbviewer.org.</b></div><div class=\"sk-container\" hidden><div class=\"sk-item sk-dashed-wrapped\"><div class=\"sk-label-container\"><div class=\"sk-label sk-toggleable\"><input class=\"sk-toggleable__control sk-hidden--visually\" id=\"sk-estimator-id-12\" type=\"checkbox\" ><label for=\"sk-estimator-id-12\" class=\"sk-toggleable__label sk-toggleable__label-arrow\">Pipeline</label><div class=\"sk-toggleable__content\"><pre>Pipeline(steps=[(&#x27;et&#x27;,\n",
       "                 ExtraTreesClassifier(max_depth=15, min_samples_split=3,\n",
       "                                      n_estimators=46))])</pre></div></div></div><div class=\"sk-serial\"><div class=\"sk-item\"><div class=\"sk-estimator sk-toggleable\"><input class=\"sk-toggleable__control sk-hidden--visually\" id=\"sk-estimator-id-13\" type=\"checkbox\" ><label for=\"sk-estimator-id-13\" class=\"sk-toggleable__label sk-toggleable__label-arrow\">ExtraTreesClassifier</label><div class=\"sk-toggleable__content\"><pre>ExtraTreesClassifier(max_depth=15, min_samples_split=3, n_estimators=46)</pre></div></div></div></div></div></div></div>"
      ],
      "text/plain": [
       "Pipeline(steps=[('et',\n",
       "                 ExtraTreesClassifier(max_depth=15, min_samples_split=3,\n",
       "                                      n_estimators=46))])"
      ]
     },
     "execution_count": 32,
     "metadata": {},
     "output_type": "execute_result"
    }
   ],
   "source": [
    "gs_et.best_estimator_"
   ]
  },
  {
   "cell_type": "code",
   "execution_count": 33,
   "id": "6624ba8b",
   "metadata": {},
   "outputs": [
    {
     "name": "stdout",
     "output_type": "stream",
     "text": [
      "    train_acc test_acc   bal_acc\n",
      "knn       1.0   0.8625  0.868717\n",
      "et        1.0   0.9125  0.911027\n"
     ]
    },
    {
     "data": {
      "image/png": "[encoded data removed]",
      "text/plain": [
       "<Figure size 640x480 with 2 Axes>"
      ]
     },
     "metadata": {},
     "output_type": "display_data"
    }
   ],
   "source": [
    "scores_df = get_accuracies(X_train, y_train, X_test, y_test, \n",
    "                           gs_et.best_estimator_, \n",
    "                           'et',\n",
    "                           scores_df = scores_df,\n",
    "                           norm = 'true')"
   ]
  },
  {
   "cell_type": "code",
   "execution_count": 34,
   "id": "845091e4",
   "metadata": {},
   "outputs": [],
   "source": [
    "importances = gs_et.best_estimator_.named_steps['et'].feature_importances_"
   ]
  },
  {
   "cell_type": "code",
   "execution_count": 35,
   "id": "c3994b49",
   "metadata": {},
   "outputs": [],
   "source": [
    "features = []\n",
    "for i in range(39):\n",
    "    features.append((importances[i],df.columns[i]))"
   ]
  },
  {
   "cell_type": "code",
   "execution_count": 36,
   "id": "4e24ccd3",
   "metadata": {},
   "outputs": [],
   "source": [
    "features.sort()"
   ]
  },
  {
   "cell_type": "code",
   "execution_count": 37,
   "id": "e2f0dcee",
   "metadata": {},
   "outputs": [],
   "source": [
    "features = features[::-1]"
   ]
  },
  {
   "cell_type": "code",
   "execution_count": 38,
   "id": "143aec37",
   "metadata": {},
   "outputs": [],
   "source": [
    "feature_importances = pd.DataFrame(features, columns = ['prediction weight', 'stat'])"
   ]
  },
  {
   "cell_type": "code",
   "execution_count": 39,
   "id": "7135ff9d",
   "metadata": {},
   "outputs": [
    {
     "data": {
      "text/html": [
       "<div>\n",
       "<style scoped>\n",
       "    .dataframe tbody tr th:only-of-type {\n",
       "        vertical-align: middle;\n",
       "    }\n",
       "\n",
       "    .dataframe tbody tr th {\n",
       "        vertical-align: top;\n",
       "    }\n",
       "\n",
       "    .dataframe thead th {\n",
       "        text-align: right;\n",
       "    }\n",
       "</style>\n",
       "<table border=\"1\" class=\"dataframe\">\n",
       "  <thead>\n",
       "    <tr style=\"text-align: right;\">\n",
       "      <th></th>\n",
       "      <th>prediction weight</th>\n",
       "      <th>stat</th>\n",
       "    </tr>\n",
       "  </thead>\n",
       "  <tbody>\n",
       "    <tr>\n",
       "      <th>0</th>\n",
       "      <td>0.057702</td>\n",
       "      <td>count_powerslide</td>\n",
       "    </tr>\n",
       "    <tr>\n",
       "      <th>1</th>\n",
       "      <td>0.056005</td>\n",
       "      <td>bcpm</td>\n",
       "    </tr>\n",
       "    <tr>\n",
       "      <th>2</th>\n",
       "      <td>0.055926</td>\n",
       "      <td>percent_supersonic_speed</td>\n",
       "    </tr>\n",
       "    <tr>\n",
       "      <th>3</th>\n",
       "      <td>0.045361</td>\n",
       "      <td>percent_full_boost</td>\n",
       "    </tr>\n",
       "    <tr>\n",
       "      <th>4</th>\n",
       "      <td>0.042042</td>\n",
       "      <td>percent_low_air</td>\n",
       "    </tr>\n",
       "    <tr>\n",
       "      <th>5</th>\n",
       "      <td>0.040600</td>\n",
       "      <td>percent_farthest_from_ball</td>\n",
       "    </tr>\n",
       "    <tr>\n",
       "      <th>6</th>\n",
       "      <td>0.040424</td>\n",
       "      <td>percent_ground</td>\n",
       "    </tr>\n",
       "    <tr>\n",
       "      <th>7</th>\n",
       "      <td>0.039149</td>\n",
       "      <td>percent_slow_speed</td>\n",
       "    </tr>\n",
       "    <tr>\n",
       "      <th>8</th>\n",
       "      <td>0.038844</td>\n",
       "      <td>avg_speed_percentage</td>\n",
       "    </tr>\n",
       "    <tr>\n",
       "      <th>9</th>\n",
       "      <td>0.035933</td>\n",
       "      <td>percent_boost_75_100</td>\n",
       "    </tr>\n",
       "    <tr>\n",
       "      <th>10</th>\n",
       "      <td>0.033051</td>\n",
       "      <td>amount_used_while_supersonic</td>\n",
       "    </tr>\n",
       "    <tr>\n",
       "      <th>11</th>\n",
       "      <td>0.032961</td>\n",
       "      <td>percent_boost_0_25</td>\n",
       "    </tr>\n",
       "    <tr>\n",
       "      <th>12</th>\n",
       "      <td>0.029756</td>\n",
       "      <td>avg_amount</td>\n",
       "    </tr>\n",
       "    <tr>\n",
       "      <th>13</th>\n",
       "      <td>0.029051</td>\n",
       "      <td>avg_powerslide_duration</td>\n",
       "    </tr>\n",
       "    <tr>\n",
       "      <th>14</th>\n",
       "      <td>0.027607</td>\n",
       "      <td>avg_distance_to_mates</td>\n",
       "    </tr>\n",
       "    <tr>\n",
       "      <th>15</th>\n",
       "      <td>0.027508</td>\n",
       "      <td>percent_most_back</td>\n",
       "    </tr>\n",
       "    <tr>\n",
       "      <th>16</th>\n",
       "      <td>0.025270</td>\n",
       "      <td>percent_zero_boost</td>\n",
       "    </tr>\n",
       "    <tr>\n",
       "      <th>17</th>\n",
       "      <td>0.021040</td>\n",
       "      <td>percent_boost_50_75</td>\n",
       "    </tr>\n",
       "    <tr>\n",
       "      <th>18</th>\n",
       "      <td>0.020348</td>\n",
       "      <td>percent_most_forward</td>\n",
       "    </tr>\n",
       "    <tr>\n",
       "      <th>19</th>\n",
       "      <td>0.019032</td>\n",
       "      <td>amount_collected</td>\n",
       "    </tr>\n",
       "    <tr>\n",
       "      <th>20</th>\n",
       "      <td>0.018520</td>\n",
       "      <td>percent_closest_to_ball</td>\n",
       "    </tr>\n",
       "    <tr>\n",
       "      <th>21</th>\n",
       "      <td>0.017687</td>\n",
       "      <td>amount_collected_big</td>\n",
       "    </tr>\n",
       "    <tr>\n",
       "      <th>22</th>\n",
       "      <td>0.017464</td>\n",
       "      <td>saves</td>\n",
       "    </tr>\n",
       "    <tr>\n",
       "      <th>23</th>\n",
       "      <td>0.017062</td>\n",
       "      <td>percent_infront_ball</td>\n",
       "    </tr>\n",
       "    <tr>\n",
       "      <th>24</th>\n",
       "      <td>0.016107</td>\n",
       "      <td>amount_collected_small</td>\n",
       "    </tr>\n",
       "    <tr>\n",
       "      <th>25</th>\n",
       "      <td>0.015493</td>\n",
       "      <td>percent_neutral_third</td>\n",
       "    </tr>\n",
       "    <tr>\n",
       "      <th>26</th>\n",
       "      <td>0.015428</td>\n",
       "      <td>percent_behind_ball</td>\n",
       "    </tr>\n",
       "    <tr>\n",
       "      <th>27</th>\n",
       "      <td>0.015233</td>\n",
       "      <td>amount_overfill</td>\n",
       "    </tr>\n",
       "    <tr>\n",
       "      <th>28</th>\n",
       "      <td>0.014910</td>\n",
       "      <td>percent_defensive_third</td>\n",
       "    </tr>\n",
       "    <tr>\n",
       "      <th>29</th>\n",
       "      <td>0.014882</td>\n",
       "      <td>avg_distance_to_ball_no_possession</td>\n",
       "    </tr>\n",
       "    <tr>\n",
       "      <th>30</th>\n",
       "      <td>0.014046</td>\n",
       "      <td>avg_distance_to_ball</td>\n",
       "    </tr>\n",
       "    <tr>\n",
       "      <th>31</th>\n",
       "      <td>0.013988</td>\n",
       "      <td>percent_offensive_third</td>\n",
       "    </tr>\n",
       "    <tr>\n",
       "      <th>32</th>\n",
       "      <td>0.013912</td>\n",
       "      <td>percent_defensive_half</td>\n",
       "    </tr>\n",
       "    <tr>\n",
       "      <th>33</th>\n",
       "      <td>0.013811</td>\n",
       "      <td>percent_boost_25_50</td>\n",
       "    </tr>\n",
       "    <tr>\n",
       "      <th>34</th>\n",
       "      <td>0.013790</td>\n",
       "      <td>percent_boost_speed</td>\n",
       "    </tr>\n",
       "    <tr>\n",
       "      <th>35</th>\n",
       "      <td>0.013776</td>\n",
       "      <td>percent_offensive_half</td>\n",
       "    </tr>\n",
       "    <tr>\n",
       "      <th>36</th>\n",
       "      <td>0.012513</td>\n",
       "      <td>score</td>\n",
       "    </tr>\n",
       "    <tr>\n",
       "      <th>37</th>\n",
       "      <td>0.012348</td>\n",
       "      <td>percent_high_air</td>\n",
       "    </tr>\n",
       "    <tr>\n",
       "      <th>38</th>\n",
       "      <td>0.011424</td>\n",
       "      <td>inflicted</td>\n",
       "    </tr>\n",
       "  </tbody>\n",
       "</table>\n",
       "</div>"
      ],
      "text/plain": [
       "    prediction weight                                stat\n",
       "0            0.057702                    count_powerslide\n",
       "1            0.056005                                bcpm\n",
       "2            0.055926            percent_supersonic_speed\n",
       "3            0.045361                  percent_full_boost\n",
       "4            0.042042                     percent_low_air\n",
       "5            0.040600          percent_farthest_from_ball\n",
       "6            0.040424                      percent_ground\n",
       "7            0.039149                  percent_slow_speed\n",
       "8            0.038844                avg_speed_percentage\n",
       "9            0.035933                percent_boost_75_100\n",
       "10           0.033051        amount_used_while_supersonic\n",
       "11           0.032961                  percent_boost_0_25\n",
       "12           0.029756                          avg_amount\n",
       "13           0.029051             avg_powerslide_duration\n",
       "14           0.027607               avg_distance_to_mates\n",
       "15           0.027508                   percent_most_back\n",
       "16           0.025270                  percent_zero_boost\n",
       "17           0.021040                 percent_boost_50_75\n",
       "18           0.020348                percent_most_forward\n",
       "19           0.019032                    amount_collected\n",
       "20           0.018520             percent_closest_to_ball\n",
       "21           0.017687                amount_collected_big\n",
       "22           0.017464                               saves\n",
       "23           0.017062                percent_infront_ball\n",
       "24           0.016107              amount_collected_small\n",
       "25           0.015493               percent_neutral_third\n",
       "26           0.015428                 percent_behind_ball\n",
       "27           0.015233                     amount_overfill\n",
       "28           0.014910             percent_defensive_third\n",
       "29           0.014882  avg_distance_to_ball_no_possession\n",
       "30           0.014046                avg_distance_to_ball\n",
       "31           0.013988             percent_offensive_third\n",
       "32           0.013912              percent_defensive_half\n",
       "33           0.013811                 percent_boost_25_50\n",
       "34           0.013790                 percent_boost_speed\n",
       "35           0.013776              percent_offensive_half\n",
       "36           0.012513                               score\n",
       "37           0.012348                    percent_high_air\n",
       "38           0.011424                           inflicted"
      ]
     },
     "execution_count": 39,
     "metadata": {},
     "output_type": "execute_result"
    }
   ],
   "source": [
    "feature_importances"
   ]
  },
  {
   "cell_type": "code",
   "execution_count": 40,
   "id": "88678455",
   "metadata": {},
   "outputs": [
    {
     "name": "stdout",
     "output_type": "stream",
     "text": [
      "Fitting 5 folds for each of 16 candidates, totalling 80 fits\n"
     ]
    },
    {
     "data": {
      "text/html": [
       "<style>#sk-container-id-8 {color: black;background-color: white;}#sk-container-id-8 pre{padding: 0;}#sk-container-id-8 div.sk-toggleable {background-color: white;}#sk-container-id-8 label.sk-toggleable__label {cursor: pointer;display: block;width: 100%;margin-bottom: 0;padding: 0.3em;box-sizing: border-box;text-align: center;}#sk-container-id-8 label.sk-toggleable__label-arrow:before {content: \"▸\";float: left;margin-right: 0.25em;color: #696969;}#sk-container-id-8 label.sk-toggleable__label-arrow:hover:before {color: black;}#sk-container-id-8 div.sk-estimator:hover label.sk-toggleable__label-arrow:before {color: black;}#sk-container-id-8 div.sk-toggleable__content {max-height: 0;max-width: 0;overflow: hidden;text-align: left;background-color: #f0f8ff;}#sk-container-id-8 div.sk-toggleable__content pre {margin: 0.2em;color: black;border-radius: 0.25em;background-color: #f0f8ff;}#sk-container-id-8 input.sk-toggleable__control:checked~div.sk-toggleable__content {max-height: 200px;max-width: 100%;overflow: auto;}#sk-container-id-8 input.sk-toggleable__control:checked~label.sk-toggleable__label-arrow:before {content: \"▾\";}#sk-container-id-8 div.sk-estimator input.sk-toggleable__control:checked~label.sk-toggleable__label {background-color: #d4ebff;}#sk-container-id-8 div.sk-label input.sk-toggleable__control:checked~label.sk-toggleable__label {background-color: #d4ebff;}#sk-container-id-8 input.sk-hidden--visually {border: 0;clip: rect(1px 1px 1px 1px);clip: rect(1px, 1px, 1px, 1px);height: 1px;margin: -1px;overflow: hidden;padding: 0;position: absolute;width: 1px;}#sk-container-id-8 div.sk-estimator {font-family: monospace;background-color: #f0f8ff;border: 1px dotted black;border-radius: 0.25em;box-sizing: border-box;margin-bottom: 0.5em;}#sk-container-id-8 div.sk-estimator:hover {background-color: #d4ebff;}#sk-container-id-8 div.sk-parallel-item::after {content: \"\";width: 100%;border-bottom: 1px solid gray;flex-grow: 1;}#sk-container-id-8 div.sk-label:hover label.sk-toggleable__label {background-color: #d4ebff;}#sk-container-id-8 div.sk-serial::before {content: \"\";position: absolute;border-left: 1px solid gray;box-sizing: border-box;top: 0;bottom: 0;left: 50%;z-index: 0;}#sk-container-id-8 div.sk-serial {display: flex;flex-direction: column;align-items: center;background-color: white;padding-right: 0.2em;padding-left: 0.2em;position: relative;}#sk-container-id-8 div.sk-item {position: relative;z-index: 1;}#sk-container-id-8 div.sk-parallel {display: flex;align-items: stretch;justify-content: center;background-color: white;position: relative;}#sk-container-id-8 div.sk-item::before, #sk-container-id-8 div.sk-parallel-item::before {content: \"\";position: absolute;border-left: 1px solid gray;box-sizing: border-box;top: 0;bottom: 0;left: 50%;z-index: -1;}#sk-container-id-8 div.sk-parallel-item {display: flex;flex-direction: column;z-index: 1;position: relative;background-color: white;}#sk-container-id-8 div.sk-parallel-item:first-child::after {align-self: flex-end;width: 50%;}#sk-container-id-8 div.sk-parallel-item:last-child::after {align-self: flex-start;width: 50%;}#sk-container-id-8 div.sk-parallel-item:only-child::after {width: 0;}#sk-container-id-8 div.sk-dashed-wrapped {border: 1px dashed gray;margin: 0 0.4em 0.5em 0.4em;box-sizing: border-box;padding-bottom: 0.4em;background-color: white;}#sk-container-id-8 div.sk-label label {font-family: monospace;font-weight: bold;display: inline-block;line-height: 1.2em;}#sk-container-id-8 div.sk-label-container {text-align: center;}#sk-container-id-8 div.sk-container {/* jupyter's `normalize.less` sets `[hidden] { display: none; }` but bootstrap.min.css set `[hidden] { display: none !important; }` so we also need the `!important` here to be able to override the default hidden behavior on the sphinx rendered scikit-learn.org. See: https://github.com/scikit-learn/scikit-learn/issues/21755 */display: inline-block !important;position: relative;}#sk-container-id-8 div.sk-text-repr-fallback {display: none;}</style><div id=\"sk-container-id-8\" class=\"sk-top-container\"><div class=\"sk-text-repr-fallback\"><pre>GridSearchCV(cv=5, estimator=Pipeline(steps=[(&#x27;et&#x27;, ExtraTreesClassifier())]),\n",
       "             n_jobs=-1,\n",
       "             param_grid={&#x27;et__max_depth&#x27;: [5, 7, 10, 15],\n",
       "                         &#x27;et__min_samples_split&#x27;: [1.0, 2, 3, 4],\n",
       "                         &#x27;et__n_estimators&#x27;: [46]},\n",
       "             scoring=&#x27;balanced_accuracy&#x27;, verbose=1)</pre><b>In a Jupyter environment, please rerun this cell to show the HTML representation or trust the notebook. <br />On GitHub, the HTML representation is unable to render, please try loading this page with nbviewer.org.</b></div><div class=\"sk-container\" hidden><div class=\"sk-item sk-dashed-wrapped\"><div class=\"sk-label-container\"><div class=\"sk-label sk-toggleable\"><input class=\"sk-toggleable__control sk-hidden--visually\" id=\"sk-estimator-id-14\" type=\"checkbox\" ><label for=\"sk-estimator-id-14\" class=\"sk-toggleable__label sk-toggleable__label-arrow\">GridSearchCV</label><div class=\"sk-toggleable__content\"><pre>GridSearchCV(cv=5, estimator=Pipeline(steps=[(&#x27;et&#x27;, ExtraTreesClassifier())]),\n",
       "             n_jobs=-1,\n",
       "             param_grid={&#x27;et__max_depth&#x27;: [5, 7, 10, 15],\n",
       "                         &#x27;et__min_samples_split&#x27;: [1.0, 2, 3, 4],\n",
       "                         &#x27;et__n_estimators&#x27;: [46]},\n",
       "             scoring=&#x27;balanced_accuracy&#x27;, verbose=1)</pre></div></div></div><div class=\"sk-parallel\"><div class=\"sk-parallel-item\"><div class=\"sk-item\"><div class=\"sk-label-container\"><div class=\"sk-label sk-toggleable\"><input class=\"sk-toggleable__control sk-hidden--visually\" id=\"sk-estimator-id-15\" type=\"checkbox\" ><label for=\"sk-estimator-id-15\" class=\"sk-toggleable__label sk-toggleable__label-arrow\">estimator: Pipeline</label><div class=\"sk-toggleable__content\"><pre>Pipeline(steps=[(&#x27;et&#x27;, ExtraTreesClassifier())])</pre></div></div></div><div class=\"sk-serial\"><div class=\"sk-item\"><div class=\"sk-serial\"><div class=\"sk-item\"><div class=\"sk-estimator sk-toggleable\"><input class=\"sk-toggleable__control sk-hidden--visually\" id=\"sk-estimator-id-16\" type=\"checkbox\" ><label for=\"sk-estimator-id-16\" class=\"sk-toggleable__label sk-toggleable__label-arrow\">ExtraTreesClassifier</label><div class=\"sk-toggleable__content\"><pre>ExtraTreesClassifier()</pre></div></div></div></div></div></div></div></div></div></div></div></div>"
      ],
      "text/plain": [
       "GridSearchCV(cv=5, estimator=Pipeline(steps=[('et', ExtraTreesClassifier())]),\n",
       "             n_jobs=-1,\n",
       "             param_grid={'et__max_depth': [5, 7, 10, 15],\n",
       "                         'et__min_samples_split': [1.0, 2, 3, 4],\n",
       "                         'et__n_estimators': [46]},\n",
       "             scoring='balanced_accuracy', verbose=1)"
      ]
     },
     "execution_count": 40,
     "metadata": {},
     "output_type": "execute_result"
    }
   ],
   "source": [
    "gs_et.fit(X_train_poly, y_train)"
   ]
  },
  {
   "cell_type": "code",
   "execution_count": 41,
   "id": "a5067683",
   "metadata": {},
   "outputs": [
    {
     "name": "stdout",
     "output_type": "stream",
     "text": [
      "        train_acc test_acc   bal_acc\n",
      "knn           1.0   0.8625  0.868717\n",
      "et            1.0   0.9125  0.911027\n",
      "et_poly       1.0   0.9125  0.913599\n"
     ]
    },
    {
     "data": {
      "image/png": "[encoded data removed]",
      "text/plain": [
       "<Figure size 640x480 with 2 Axes>"
      ]
     },
     "metadata": {},
     "output_type": "display_data"
    }
   ],
   "source": [
    "scores_df = get_accuracies(X_train_poly, y_train, X_test_poly, y_test, \n",
    "                           gs_et.best_estimator_, \n",
    "                           'et_poly',\n",
    "                           scores_df = scores_df,\n",
    "                           norm = 'true')"
   ]
  },
  {
   "cell_type": "code",
   "execution_count": 42,
   "id": "c8c7b7ff",
   "metadata": {},
   "outputs": [],
   "source": [
    "probabilities = pd.DataFrame(gs_et.best_estimator_.predict_proba(X_test_poly), columns = ['MonkeyMoon', 'Oski', 'Vatira'])"
   ]
  },
  {
   "cell_type": "code",
   "execution_count": 43,
   "id": "d55cdfba",
   "metadata": {
    "scrolled": true
   },
   "outputs": [
    {
     "data": {
      "text/html": [
       "<div>\n",
       "<style scoped>\n",
       "    .dataframe tbody tr th:only-of-type {\n",
       "        vertical-align: middle;\n",
       "    }\n",
       "\n",
       "    .dataframe tbody tr th {\n",
       "        vertical-align: top;\n",
       "    }\n",
       "\n",
       "    .dataframe thead th {\n",
       "        text-align: right;\n",
       "    }\n",
       "</style>\n",
       "<table border=\"1\" class=\"dataframe\">\n",
       "  <thead>\n",
       "    <tr style=\"text-align: right;\">\n",
       "      <th></th>\n",
       "      <th>MonkeyMoon</th>\n",
       "      <th>Oski</th>\n",
       "      <th>Vatira</th>\n",
       "    </tr>\n",
       "  </thead>\n",
       "  <tbody>\n",
       "    <tr>\n",
       "      <th>0</th>\n",
       "      <td>0.000000</td>\n",
       "      <td>1.000000</td>\n",
       "      <td>0.000000</td>\n",
       "    </tr>\n",
       "    <tr>\n",
       "      <th>1</th>\n",
       "      <td>0.065217</td>\n",
       "      <td>0.054348</td>\n",
       "      <td>0.880435</td>\n",
       "    </tr>\n",
       "    <tr>\n",
       "      <th>2</th>\n",
       "      <td>0.967391</td>\n",
       "      <td>0.021739</td>\n",
       "      <td>0.010870</td>\n",
       "    </tr>\n",
       "    <tr>\n",
       "      <th>3</th>\n",
       "      <td>0.858696</td>\n",
       "      <td>0.108696</td>\n",
       "      <td>0.032609</td>\n",
       "    </tr>\n",
       "    <tr>\n",
       "      <th>4</th>\n",
       "      <td>0.706522</td>\n",
       "      <td>0.054348</td>\n",
       "      <td>0.239130</td>\n",
       "    </tr>\n",
       "    <tr>\n",
       "      <th>...</th>\n",
       "      <td>...</td>\n",
       "      <td>...</td>\n",
       "      <td>...</td>\n",
       "    </tr>\n",
       "    <tr>\n",
       "      <th>235</th>\n",
       "      <td>0.869565</td>\n",
       "      <td>0.000000</td>\n",
       "      <td>0.130435</td>\n",
       "    </tr>\n",
       "    <tr>\n",
       "      <th>236</th>\n",
       "      <td>0.815217</td>\n",
       "      <td>0.097826</td>\n",
       "      <td>0.086957</td>\n",
       "    </tr>\n",
       "    <tr>\n",
       "      <th>237</th>\n",
       "      <td>0.000334</td>\n",
       "      <td>0.261854</td>\n",
       "      <td>0.737812</td>\n",
       "    </tr>\n",
       "    <tr>\n",
       "      <th>238</th>\n",
       "      <td>0.000000</td>\n",
       "      <td>1.000000</td>\n",
       "      <td>0.000000</td>\n",
       "    </tr>\n",
       "    <tr>\n",
       "      <th>239</th>\n",
       "      <td>0.065552</td>\n",
       "      <td>0.555017</td>\n",
       "      <td>0.379431</td>\n",
       "    </tr>\n",
       "  </tbody>\n",
       "</table>\n",
       "<p>240 rows × 3 columns</p>\n",
       "</div>"
      ],
      "text/plain": [
       "     MonkeyMoon      Oski    Vatira\n",
       "0      0.000000  1.000000  0.000000\n",
       "1      0.065217  0.054348  0.880435\n",
       "2      0.967391  0.021739  0.010870\n",
       "3      0.858696  0.108696  0.032609\n",
       "4      0.706522  0.054348  0.239130\n",
       "..          ...       ...       ...\n",
       "235    0.869565  0.000000  0.130435\n",
       "236    0.815217  0.097826  0.086957\n",
       "237    0.000334  0.261854  0.737812\n",
       "238    0.000000  1.000000  0.000000\n",
       "239    0.065552  0.555017  0.379431\n",
       "\n",
       "[240 rows x 3 columns]"
      ]
     },
     "execution_count": 43,
     "metadata": {},
     "output_type": "execute_result"
    }
   ],
   "source": [
    "probabilities"
   ]
  },
  {
   "cell_type": "code",
   "execution_count": 44,
   "id": "d4975409",
   "metadata": {},
   "outputs": [
    {
     "data": {
      "text/html": [
       "<style>#sk-container-id-9 {color: black;background-color: white;}#sk-container-id-9 pre{padding: 0;}#sk-container-id-9 div.sk-toggleable {background-color: white;}#sk-container-id-9 label.sk-toggleable__label {cursor: pointer;display: block;width: 100%;margin-bottom: 0;padding: 0.3em;box-sizing: border-box;text-align: center;}#sk-container-id-9 label.sk-toggleable__label-arrow:before {content: \"▸\";float: left;margin-right: 0.25em;color: #696969;}#sk-container-id-9 label.sk-toggleable__label-arrow:hover:before {color: black;}#sk-container-id-9 div.sk-estimator:hover label.sk-toggleable__label-arrow:before {color: black;}#sk-container-id-9 div.sk-toggleable__content {max-height: 0;max-width: 0;overflow: hidden;text-align: left;background-color: #f0f8ff;}#sk-container-id-9 div.sk-toggleable__content pre {margin: 0.2em;color: black;border-radius: 0.25em;background-color: #f0f8ff;}#sk-container-id-9 input.sk-toggleable__control:checked~div.sk-toggleable__content {max-height: 200px;max-width: 100%;overflow: auto;}#sk-container-id-9 input.sk-toggleable__control:checked~label.sk-toggleable__label-arrow:before {content: \"▾\";}#sk-container-id-9 div.sk-estimator input.sk-toggleable__control:checked~label.sk-toggleable__label {background-color: #d4ebff;}#sk-container-id-9 div.sk-label input.sk-toggleable__control:checked~label.sk-toggleable__label {background-color: #d4ebff;}#sk-container-id-9 input.sk-hidden--visually {border: 0;clip: rect(1px 1px 1px 1px);clip: rect(1px, 1px, 1px, 1px);height: 1px;margin: -1px;overflow: hidden;padding: 0;position: absolute;width: 1px;}#sk-container-id-9 div.sk-estimator {font-family: monospace;background-color: #f0f8ff;border: 1px dotted black;border-radius: 0.25em;box-sizing: border-box;margin-bottom: 0.5em;}#sk-container-id-9 div.sk-estimator:hover {background-color: #d4ebff;}#sk-container-id-9 div.sk-parallel-item::after {content: \"\";width: 100%;border-bottom: 1px solid gray;flex-grow: 1;}#sk-container-id-9 div.sk-label:hover label.sk-toggleable__label {background-color: #d4ebff;}#sk-container-id-9 div.sk-serial::before {content: \"\";position: absolute;border-left: 1px solid gray;box-sizing: border-box;top: 0;bottom: 0;left: 50%;z-index: 0;}#sk-container-id-9 div.sk-serial {display: flex;flex-direction: column;align-items: center;background-color: white;padding-right: 0.2em;padding-left: 0.2em;position: relative;}#sk-container-id-9 div.sk-item {position: relative;z-index: 1;}#sk-container-id-9 div.sk-parallel {display: flex;align-items: stretch;justify-content: center;background-color: white;position: relative;}#sk-container-id-9 div.sk-item::before, #sk-container-id-9 div.sk-parallel-item::before {content: \"\";position: absolute;border-left: 1px solid gray;box-sizing: border-box;top: 0;bottom: 0;left: 50%;z-index: -1;}#sk-container-id-9 div.sk-parallel-item {display: flex;flex-direction: column;z-index: 1;position: relative;background-color: white;}#sk-container-id-9 div.sk-parallel-item:first-child::after {align-self: flex-end;width: 50%;}#sk-container-id-9 div.sk-parallel-item:last-child::after {align-self: flex-start;width: 50%;}#sk-container-id-9 div.sk-parallel-item:only-child::after {width: 0;}#sk-container-id-9 div.sk-dashed-wrapped {border: 1px dashed gray;margin: 0 0.4em 0.5em 0.4em;box-sizing: border-box;padding-bottom: 0.4em;background-color: white;}#sk-container-id-9 div.sk-label label {font-family: monospace;font-weight: bold;display: inline-block;line-height: 1.2em;}#sk-container-id-9 div.sk-label-container {text-align: center;}#sk-container-id-9 div.sk-container {/* jupyter's `normalize.less` sets `[hidden] { display: none; }` but bootstrap.min.css set `[hidden] { display: none !important; }` so we also need the `!important` here to be able to override the default hidden behavior on the sphinx rendered scikit-learn.org. See: https://github.com/scikit-learn/scikit-learn/issues/21755 */display: inline-block !important;position: relative;}#sk-container-id-9 div.sk-text-repr-fallback {display: none;}</style><div id=\"sk-container-id-9\" class=\"sk-top-container\"><div class=\"sk-text-repr-fallback\"><pre>MultinomialNB()</pre><b>In a Jupyter environment, please rerun this cell to show the HTML representation or trust the notebook. <br />On GitHub, the HTML representation is unable to render, please try loading this page with nbviewer.org.</b></div><div class=\"sk-container\" hidden><div class=\"sk-item\"><div class=\"sk-estimator sk-toggleable\"><input class=\"sk-toggleable__control sk-hidden--visually\" id=\"sk-estimator-id-17\" type=\"checkbox\" checked><label for=\"sk-estimator-id-17\" class=\"sk-toggleable__label sk-toggleable__label-arrow\">MultinomialNB</label><div class=\"sk-toggleable__content\"><pre>MultinomialNB()</pre></div></div></div></div></div>"
      ],
      "text/plain": [
       "MultinomialNB()"
      ]
     },
     "execution_count": 44,
     "metadata": {},
     "output_type": "execute_result"
    }
   ],
   "source": [
    "mnb = MultinomialNB()\n",
    "mnb.fit(X_train, y_train)"
   ]
  },
  {
   "cell_type": "code",
   "execution_count": 45,
   "id": "19032f5d",
   "metadata": {},
   "outputs": [
    {
     "data": {
      "text/plain": [
       "0.6044568245125348"
      ]
     },
     "execution_count": 45,
     "metadata": {},
     "output_type": "execute_result"
    }
   ],
   "source": [
    "mnb.score(X_train, y_train)"
   ]
  },
  {
   "cell_type": "code",
   "execution_count": 46,
   "id": "62819f31",
   "metadata": {},
   "outputs": [
    {
     "data": {
      "text/plain": [
       "0.6333333333333333"
      ]
     },
     "execution_count": 46,
     "metadata": {},
     "output_type": "execute_result"
    }
   ],
   "source": [
    "mnb.score(X_test, y_test)"
   ]
  },
  {
   "cell_type": "code",
   "execution_count": 47,
   "id": "e017c190",
   "metadata": {},
   "outputs": [],
   "source": [
    "pipe_gnb = Pipeline([\n",
    "    ('ss', StandardScaler()),\n",
    "    ('gnb', GaussianNB())\n",
    "])"
   ]
  },
  {
   "cell_type": "code",
   "execution_count": 48,
   "id": "5c7147b1",
   "metadata": {},
   "outputs": [],
   "source": [
    "gs_gnb = GridSearchCV(\n",
    "    pipe_gnb,\n",
    "    param_grid = {\n",
    "    },\n",
    "    cv = 5,\n",
    "    verbose = 1,\n",
    "    n_jobs = -1,\n",
    "    scoring = 'balanced_accuracy'\n",
    ")"
   ]
  },
  {
   "cell_type": "code",
   "execution_count": 49,
   "id": "fe01fbb3",
   "metadata": {},
   "outputs": [
    {
     "name": "stdout",
     "output_type": "stream",
     "text": [
      "Fitting 5 folds for each of 1 candidates, totalling 5 fits\n"
     ]
    },
    {
     "data": {
      "text/html": [
       "<style>#sk-container-id-10 {color: black;background-color: white;}#sk-container-id-10 pre{padding: 0;}#sk-container-id-10 div.sk-toggleable {background-color: white;}#sk-container-id-10 label.sk-toggleable__label {cursor: pointer;display: block;width: 100%;margin-bottom: 0;padding: 0.3em;box-sizing: border-box;text-align: center;}#sk-container-id-10 label.sk-toggleable__label-arrow:before {content: \"▸\";float: left;margin-right: 0.25em;color: #696969;}#sk-container-id-10 label.sk-toggleable__label-arrow:hover:before {color: black;}#sk-container-id-10 div.sk-estimator:hover label.sk-toggleable__label-arrow:before {color: black;}#sk-container-id-10 div.sk-toggleable__content {max-height: 0;max-width: 0;overflow: hidden;text-align: left;background-color: #f0f8ff;}#sk-container-id-10 div.sk-toggleable__content pre {margin: 0.2em;color: black;border-radius: 0.25em;background-color: #f0f8ff;}#sk-container-id-10 input.sk-toggleable__control:checked~div.sk-toggleable__content {max-height: 200px;max-width: 100%;overflow: auto;}#sk-container-id-10 input.sk-toggleable__control:checked~label.sk-toggleable__label-arrow:before {content: \"▾\";}#sk-container-id-10 div.sk-estimator input.sk-toggleable__control:checked~label.sk-toggleable__label {background-color: #d4ebff;}#sk-container-id-10 div.sk-label input.sk-toggleable__control:checked~label.sk-toggleable__label {background-color: #d4ebff;}#sk-container-id-10 input.sk-hidden--visually {border: 0;clip: rect(1px 1px 1px 1px);clip: rect(1px, 1px, 1px, 1px);height: 1px;margin: -1px;overflow: hidden;padding: 0;position: absolute;width: 1px;}#sk-container-id-10 div.sk-estimator {font-family: monospace;background-color: #f0f8ff;border: 1px dotted black;border-radius: 0.25em;box-sizing: border-box;margin-bottom: 0.5em;}#sk-container-id-10 div.sk-estimator:hover {background-color: #d4ebff;}#sk-container-id-10 div.sk-parallel-item::after {content: \"\";width: 100%;border-bottom: 1px solid gray;flex-grow: 1;}#sk-container-id-10 div.sk-label:hover label.sk-toggleable__label {background-color: #d4ebff;}#sk-container-id-10 div.sk-serial::before {content: \"\";position: absolute;border-left: 1px solid gray;box-sizing: border-box;top: 0;bottom: 0;left: 50%;z-index: 0;}#sk-container-id-10 div.sk-serial {display: flex;flex-direction: column;align-items: center;background-color: white;padding-right: 0.2em;padding-left: 0.2em;position: relative;}#sk-container-id-10 div.sk-item {position: relative;z-index: 1;}#sk-container-id-10 div.sk-parallel {display: flex;align-items: stretch;justify-content: center;background-color: white;position: relative;}#sk-container-id-10 div.sk-item::before, #sk-container-id-10 div.sk-parallel-item::before {content: \"\";position: absolute;border-left: 1px solid gray;box-sizing: border-box;top: 0;bottom: 0;left: 50%;z-index: -1;}#sk-container-id-10 div.sk-parallel-item {display: flex;flex-direction: column;z-index: 1;position: relative;background-color: white;}#sk-container-id-10 div.sk-parallel-item:first-child::after {align-self: flex-end;width: 50%;}#sk-container-id-10 div.sk-parallel-item:last-child::after {align-self: flex-start;width: 50%;}#sk-container-id-10 div.sk-parallel-item:only-child::after {width: 0;}#sk-container-id-10 div.sk-dashed-wrapped {border: 1px dashed gray;margin: 0 0.4em 0.5em 0.4em;box-sizing: border-box;padding-bottom: 0.4em;background-color: white;}#sk-container-id-10 div.sk-label label {font-family: monospace;font-weight: bold;display: inline-block;line-height: 1.2em;}#sk-container-id-10 div.sk-label-container {text-align: center;}#sk-container-id-10 div.sk-container {/* jupyter's `normalize.less` sets `[hidden] { display: none; }` but bootstrap.min.css set `[hidden] { display: none !important; }` so we also need the `!important` here to be able to override the default hidden behavior on the sphinx rendered scikit-learn.org. See: https://github.com/scikit-learn/scikit-learn/issues/21755 */display: inline-block !important;position: relative;}#sk-container-id-10 div.sk-text-repr-fallback {display: none;}</style><div id=\"sk-container-id-10\" class=\"sk-top-container\"><div class=\"sk-text-repr-fallback\"><pre>GridSearchCV(cv=5,\n",
       "             estimator=Pipeline(steps=[(&#x27;ss&#x27;, StandardScaler()),\n",
       "                                       (&#x27;gnb&#x27;, GaussianNB())]),\n",
       "             n_jobs=-1, param_grid={}, scoring=&#x27;balanced_accuracy&#x27;, verbose=1)</pre><b>In a Jupyter environment, please rerun this cell to show the HTML representation or trust the notebook. <br />On GitHub, the HTML representation is unable to render, please try loading this page with nbviewer.org.</b></div><div class=\"sk-container\" hidden><div class=\"sk-item sk-dashed-wrapped\"><div class=\"sk-label-container\"><div class=\"sk-label sk-toggleable\"><input class=\"sk-toggleable__control sk-hidden--visually\" id=\"sk-estimator-id-18\" type=\"checkbox\" ><label for=\"sk-estimator-id-18\" class=\"sk-toggleable__label sk-toggleable__label-arrow\">GridSearchCV</label><div class=\"sk-toggleable__content\"><pre>GridSearchCV(cv=5,\n",
       "             estimator=Pipeline(steps=[(&#x27;ss&#x27;, StandardScaler()),\n",
       "                                       (&#x27;gnb&#x27;, GaussianNB())]),\n",
       "             n_jobs=-1, param_grid={}, scoring=&#x27;balanced_accuracy&#x27;, verbose=1)</pre></div></div></div><div class=\"sk-parallel\"><div class=\"sk-parallel-item\"><div class=\"sk-item\"><div class=\"sk-label-container\"><div class=\"sk-label sk-toggleable\"><input class=\"sk-toggleable__control sk-hidden--visually\" id=\"sk-estimator-id-19\" type=\"checkbox\" ><label for=\"sk-estimator-id-19\" class=\"sk-toggleable__label sk-toggleable__label-arrow\">estimator: Pipeline</label><div class=\"sk-toggleable__content\"><pre>Pipeline(steps=[(&#x27;ss&#x27;, StandardScaler()), (&#x27;gnb&#x27;, GaussianNB())])</pre></div></div></div><div class=\"sk-serial\"><div class=\"sk-item\"><div class=\"sk-serial\"><div class=\"sk-item\"><div class=\"sk-estimator sk-toggleable\"><input class=\"sk-toggleable__control sk-hidden--visually\" id=\"sk-estimator-id-20\" type=\"checkbox\" ><label for=\"sk-estimator-id-20\" class=\"sk-toggleable__label sk-toggleable__label-arrow\">StandardScaler</label><div class=\"sk-toggleable__content\"><pre>StandardScaler()</pre></div></div></div><div class=\"sk-item\"><div class=\"sk-estimator sk-toggleable\"><input class=\"sk-toggleable__control sk-hidden--visually\" id=\"sk-estimator-id-21\" type=\"checkbox\" ><label for=\"sk-estimator-id-21\" class=\"sk-toggleable__label sk-toggleable__label-arrow\">GaussianNB</label><div class=\"sk-toggleable__content\"><pre>GaussianNB()</pre></div></div></div></div></div></div></div></div></div></div></div></div>"
      ],
      "text/plain": [
       "GridSearchCV(cv=5,\n",
       "             estimator=Pipeline(steps=[('ss', StandardScaler()),\n",
       "                                       ('gnb', GaussianNB())]),\n",
       "             n_jobs=-1, param_grid={}, scoring='balanced_accuracy', verbose=1)"
      ]
     },
     "execution_count": 49,
     "metadata": {},
     "output_type": "execute_result"
    }
   ],
   "source": [
    "gs_gnb.fit(X_train, y_train)"
   ]
  },
  {
   "cell_type": "code",
   "execution_count": 50,
   "id": "9dac8806",
   "metadata": {
    "scrolled": true
   },
   "outputs": [
    {
     "name": "stdout",
     "output_type": "stream",
     "text": [
      "        train_acc test_acc   bal_acc\n",
      "knn           1.0   0.8625  0.868717\n",
      "et            1.0   0.9125  0.911027\n",
      "et_poly       1.0   0.9125  0.913599\n",
      "gnb      0.779944    0.725  0.740649\n"
     ]
    },
    {
     "data": {
      "image/png": "[encoded data removed]",
      "text/plain": [
       "<Figure size 640x480 with 2 Axes>"
      ]
     },
     "metadata": {},
     "output_type": "display_data"
    }
   ],
   "source": [
    "scores_df = get_accuracies(X_train, y_train, X_test, y_test, \n",
    "                           gs_gnb.best_estimator_, \n",
    "                           'gnb',\n",
    "                           scores_df = scores_df,\n",
    "                           norm = 'true')"
   ]
  },
  {
   "cell_type": "code",
   "execution_count": 51,
   "id": "f111be90",
   "metadata": {},
   "outputs": [],
   "source": [
    "stack = [\n",
    "#     ('gnb', gs_gnb.best_estimator_),\n",
    "    ('knn', gs_knn.best_estimator_)\n",
    "]\n",
    "\n",
    "stx = StackingClassifier(\n",
    "    estimators=stack,\n",
    "    final_estimator=gs_et.best_estimator_\n",
    ")"
   ]
  },
  {
   "cell_type": "code",
   "execution_count": 52,
   "id": "9c44feeb",
   "metadata": {},
   "outputs": [
    {
     "name": "stdout",
     "output_type": "stream",
     "text": [
      "        train_acc  test_acc   bal_acc\n",
      "knn           1.0    0.8625  0.868717\n",
      "et            1.0    0.9125  0.911027\n",
      "et_poly       1.0    0.9125  0.913599\n",
      "gnb      0.779944     0.725  0.740649\n",
      "stack         1.0  0.841667  0.845789\n"
     ]
    },
    {
     "data": {
      "image/png": "[encoded data removed]",
      "text/plain": [
       "<Figure size 640x480 with 2 Axes>"
      ]
     },
     "metadata": {},
     "output_type": "display_data"
    }
   ],
   "source": [
    "scores_df = get_accuracies(X_train, y_train, X_test, y_test, \n",
    "                           stx, \n",
    "                           'stack',\n",
    "                           scores_df = scores_df,\n",
    "                           norm = 'true')"
   ]
  },
  {
   "cell_type": "code",
   "execution_count": 53,
   "id": "6772ab8e",
   "metadata": {},
   "outputs": [
    {
     "name": "stdout",
     "output_type": "stream",
     "text": [
      "Fitting 3 folds for each of 36 candidates, totalling 108 fits\n"
     ]
    },
    {
     "data": {
      "text/html": [
       "<style>#sk-container-id-11 {color: black;background-color: white;}#sk-container-id-11 pre{padding: 0;}#sk-container-id-11 div.sk-toggleable {background-color: white;}#sk-container-id-11 label.sk-toggleable__label {cursor: pointer;display: block;width: 100%;margin-bottom: 0;padding: 0.3em;box-sizing: border-box;text-align: center;}#sk-container-id-11 label.sk-toggleable__label-arrow:before {content: \"▸\";float: left;margin-right: 0.25em;color: #696969;}#sk-container-id-11 label.sk-toggleable__label-arrow:hover:before {color: black;}#sk-container-id-11 div.sk-estimator:hover label.sk-toggleable__label-arrow:before {color: black;}#sk-container-id-11 div.sk-toggleable__content {max-height: 0;max-width: 0;overflow: hidden;text-align: left;background-color: #f0f8ff;}#sk-container-id-11 div.sk-toggleable__content pre {margin: 0.2em;color: black;border-radius: 0.25em;background-color: #f0f8ff;}#sk-container-id-11 input.sk-toggleable__control:checked~div.sk-toggleable__content {max-height: 200px;max-width: 100%;overflow: auto;}#sk-container-id-11 input.sk-toggleable__control:checked~label.sk-toggleable__label-arrow:before {content: \"▾\";}#sk-container-id-11 div.sk-estimator input.sk-toggleable__control:checked~label.sk-toggleable__label {background-color: #d4ebff;}#sk-container-id-11 div.sk-label input.sk-toggleable__control:checked~label.sk-toggleable__label {background-color: #d4ebff;}#sk-container-id-11 input.sk-hidden--visually {border: 0;clip: rect(1px 1px 1px 1px);clip: rect(1px, 1px, 1px, 1px);height: 1px;margin: -1px;overflow: hidden;padding: 0;position: absolute;width: 1px;}#sk-container-id-11 div.sk-estimator {font-family: monospace;background-color: #f0f8ff;border: 1px dotted black;border-radius: 0.25em;box-sizing: border-box;margin-bottom: 0.5em;}#sk-container-id-11 div.sk-estimator:hover {background-color: #d4ebff;}#sk-container-id-11 div.sk-parallel-item::after {content: \"\";width: 100%;border-bottom: 1px solid gray;flex-grow: 1;}#sk-container-id-11 div.sk-label:hover label.sk-toggleable__label {background-color: #d4ebff;}#sk-container-id-11 div.sk-serial::before {content: \"\";position: absolute;border-left: 1px solid gray;box-sizing: border-box;top: 0;bottom: 0;left: 50%;z-index: 0;}#sk-container-id-11 div.sk-serial {display: flex;flex-direction: column;align-items: center;background-color: white;padding-right: 0.2em;padding-left: 0.2em;position: relative;}#sk-container-id-11 div.sk-item {position: relative;z-index: 1;}#sk-container-id-11 div.sk-parallel {display: flex;align-items: stretch;justify-content: center;background-color: white;position: relative;}#sk-container-id-11 div.sk-item::before, #sk-container-id-11 div.sk-parallel-item::before {content: \"\";position: absolute;border-left: 1px solid gray;box-sizing: border-box;top: 0;bottom: 0;left: 50%;z-index: -1;}#sk-container-id-11 div.sk-parallel-item {display: flex;flex-direction: column;z-index: 1;position: relative;background-color: white;}#sk-container-id-11 div.sk-parallel-item:first-child::after {align-self: flex-end;width: 50%;}#sk-container-id-11 div.sk-parallel-item:last-child::after {align-self: flex-start;width: 50%;}#sk-container-id-11 div.sk-parallel-item:only-child::after {width: 0;}#sk-container-id-11 div.sk-dashed-wrapped {border: 1px dashed gray;margin: 0 0.4em 0.5em 0.4em;box-sizing: border-box;padding-bottom: 0.4em;background-color: white;}#sk-container-id-11 div.sk-label label {font-family: monospace;font-weight: bold;display: inline-block;line-height: 1.2em;}#sk-container-id-11 div.sk-label-container {text-align: center;}#sk-container-id-11 div.sk-container {/* jupyter's `normalize.less` sets `[hidden] { display: none; }` but bootstrap.min.css set `[hidden] { display: none !important; }` so we also need the `!important` here to be able to override the default hidden behavior on the sphinx rendered scikit-learn.org. See: https://github.com/scikit-learn/scikit-learn/issues/21755 */display: inline-block !important;position: relative;}#sk-container-id-11 div.sk-text-repr-fallback {display: none;}</style><div id=\"sk-container-id-11\" class=\"sk-top-container\"><div class=\"sk-text-repr-fallback\"><pre>GridSearchCV(cv=3,\n",
       "             estimator=Pipeline(steps=[(&#x27;ss&#x27;, StandardScaler()),\n",
       "                                       (&#x27;knn&#x27;, KNeighborsClassifier())]),\n",
       "             n_jobs=-1,\n",
       "             param_grid={&#x27;knn__n_neighbors&#x27;: [3, 5, 7, 9, 10, 15],\n",
       "                         &#x27;knn__p&#x27;: [1, 1.5, 2],\n",
       "                         &#x27;knn__weights&#x27;: [&#x27;uniform&#x27;, &#x27;distance&#x27;]},\n",
       "             scoring=&#x27;balanced_accuracy&#x27;, verbose=1)</pre><b>In a Jupyter environment, please rerun this cell to show the HTML representation or trust the notebook. <br />On GitHub, the HTML representation is unable to render, please try loading this page with nbviewer.org.</b></div><div class=\"sk-container\" hidden><div class=\"sk-item sk-dashed-wrapped\"><div class=\"sk-label-container\"><div class=\"sk-label sk-toggleable\"><input class=\"sk-toggleable__control sk-hidden--visually\" id=\"sk-estimator-id-22\" type=\"checkbox\" ><label for=\"sk-estimator-id-22\" class=\"sk-toggleable__label sk-toggleable__label-arrow\">GridSearchCV</label><div class=\"sk-toggleable__content\"><pre>GridSearchCV(cv=3,\n",
       "             estimator=Pipeline(steps=[(&#x27;ss&#x27;, StandardScaler()),\n",
       "                                       (&#x27;knn&#x27;, KNeighborsClassifier())]),\n",
       "             n_jobs=-1,\n",
       "             param_grid={&#x27;knn__n_neighbors&#x27;: [3, 5, 7, 9, 10, 15],\n",
       "                         &#x27;knn__p&#x27;: [1, 1.5, 2],\n",
       "                         &#x27;knn__weights&#x27;: [&#x27;uniform&#x27;, &#x27;distance&#x27;]},\n",
       "             scoring=&#x27;balanced_accuracy&#x27;, verbose=1)</pre></div></div></div><div class=\"sk-parallel\"><div class=\"sk-parallel-item\"><div class=\"sk-item\"><div class=\"sk-label-container\"><div class=\"sk-label sk-toggleable\"><input class=\"sk-toggleable__control sk-hidden--visually\" id=\"sk-estimator-id-23\" type=\"checkbox\" ><label for=\"sk-estimator-id-23\" class=\"sk-toggleable__label sk-toggleable__label-arrow\">estimator: Pipeline</label><div class=\"sk-toggleable__content\"><pre>Pipeline(steps=[(&#x27;ss&#x27;, StandardScaler()), (&#x27;knn&#x27;, KNeighborsClassifier())])</pre></div></div></div><div class=\"sk-serial\"><div class=\"sk-item\"><div class=\"sk-serial\"><div class=\"sk-item\"><div class=\"sk-estimator sk-toggleable\"><input class=\"sk-toggleable__control sk-hidden--visually\" id=\"sk-estimator-id-24\" type=\"checkbox\" ><label for=\"sk-estimator-id-24\" class=\"sk-toggleable__label sk-toggleable__label-arrow\">StandardScaler</label><div class=\"sk-toggleable__content\"><pre>StandardScaler()</pre></div></div></div><div class=\"sk-item\"><div class=\"sk-estimator sk-toggleable\"><input class=\"sk-toggleable__control sk-hidden--visually\" id=\"sk-estimator-id-25\" type=\"checkbox\" ><label for=\"sk-estimator-id-25\" class=\"sk-toggleable__label sk-toggleable__label-arrow\">KNeighborsClassifier</label><div class=\"sk-toggleable__content\"><pre>KNeighborsClassifier()</pre></div></div></div></div></div></div></div></div></div></div></div></div>"
      ],
      "text/plain": [
       "GridSearchCV(cv=3,\n",
       "             estimator=Pipeline(steps=[('ss', StandardScaler()),\n",
       "                                       ('knn', KNeighborsClassifier())]),\n",
       "             n_jobs=-1,\n",
       "             param_grid={'knn__n_neighbors': [3, 5, 7, 9, 10, 15],\n",
       "                         'knn__p': [1, 1.5, 2],\n",
       "                         'knn__weights': ['uniform', 'distance']},\n",
       "             scoring='balanced_accuracy', verbose=1)"
      ]
     },
     "execution_count": 53,
     "metadata": {},
     "output_type": "execute_result"
    }
   ],
   "source": [
    "gs_knn.fit(X_train_poly, y_train)\n"
   ]
  },
  {
   "cell_type": "code",
   "execution_count": 54,
   "id": "6ff45abf",
   "metadata": {},
   "outputs": [
    {
     "name": "stdout",
     "output_type": "stream",
     "text": [
      "Fitting 5 folds for each of 16 candidates, totalling 80 fits\n"
     ]
    },
    {
     "data": {
      "text/html": [
       "<style>#sk-container-id-12 {color: black;background-color: white;}#sk-container-id-12 pre{padding: 0;}#sk-container-id-12 div.sk-toggleable {background-color: white;}#sk-container-id-12 label.sk-toggleable__label {cursor: pointer;display: block;width: 100%;margin-bottom: 0;padding: 0.3em;box-sizing: border-box;text-align: center;}#sk-container-id-12 label.sk-toggleable__label-arrow:before {content: \"▸\";float: left;margin-right: 0.25em;color: #696969;}#sk-container-id-12 label.sk-toggleable__label-arrow:hover:before {color: black;}#sk-container-id-12 div.sk-estimator:hover label.sk-toggleable__label-arrow:before {color: black;}#sk-container-id-12 div.sk-toggleable__content {max-height: 0;max-width: 0;overflow: hidden;text-align: left;background-color: #f0f8ff;}#sk-container-id-12 div.sk-toggleable__content pre {margin: 0.2em;color: black;border-radius: 0.25em;background-color: #f0f8ff;}#sk-container-id-12 input.sk-toggleable__control:checked~div.sk-toggleable__content {max-height: 200px;max-width: 100%;overflow: auto;}#sk-container-id-12 input.sk-toggleable__control:checked~label.sk-toggleable__label-arrow:before {content: \"▾\";}#sk-container-id-12 div.sk-estimator input.sk-toggleable__control:checked~label.sk-toggleable__label {background-color: #d4ebff;}#sk-container-id-12 div.sk-label input.sk-toggleable__control:checked~label.sk-toggleable__label {background-color: #d4ebff;}#sk-container-id-12 input.sk-hidden--visually {border: 0;clip: rect(1px 1px 1px 1px);clip: rect(1px, 1px, 1px, 1px);height: 1px;margin: -1px;overflow: hidden;padding: 0;position: absolute;width: 1px;}#sk-container-id-12 div.sk-estimator {font-family: monospace;background-color: #f0f8ff;border: 1px dotted black;border-radius: 0.25em;box-sizing: border-box;margin-bottom: 0.5em;}#sk-container-id-12 div.sk-estimator:hover {background-color: #d4ebff;}#sk-container-id-12 div.sk-parallel-item::after {content: \"\";width: 100%;border-bottom: 1px solid gray;flex-grow: 1;}#sk-container-id-12 div.sk-label:hover label.sk-toggleable__label {background-color: #d4ebff;}#sk-container-id-12 div.sk-serial::before {content: \"\";position: absolute;border-left: 1px solid gray;box-sizing: border-box;top: 0;bottom: 0;left: 50%;z-index: 0;}#sk-container-id-12 div.sk-serial {display: flex;flex-direction: column;align-items: center;background-color: white;padding-right: 0.2em;padding-left: 0.2em;position: relative;}#sk-container-id-12 div.sk-item {position: relative;z-index: 1;}#sk-container-id-12 div.sk-parallel {display: flex;align-items: stretch;justify-content: center;background-color: white;position: relative;}#sk-container-id-12 div.sk-item::before, #sk-container-id-12 div.sk-parallel-item::before {content: \"\";position: absolute;border-left: 1px solid gray;box-sizing: border-box;top: 0;bottom: 0;left: 50%;z-index: -1;}#sk-container-id-12 div.sk-parallel-item {display: flex;flex-direction: column;z-index: 1;position: relative;background-color: white;}#sk-container-id-12 div.sk-parallel-item:first-child::after {align-self: flex-end;width: 50%;}#sk-container-id-12 div.sk-parallel-item:last-child::after {align-self: flex-start;width: 50%;}#sk-container-id-12 div.sk-parallel-item:only-child::after {width: 0;}#sk-container-id-12 div.sk-dashed-wrapped {border: 1px dashed gray;margin: 0 0.4em 0.5em 0.4em;box-sizing: border-box;padding-bottom: 0.4em;background-color: white;}#sk-container-id-12 div.sk-label label {font-family: monospace;font-weight: bold;display: inline-block;line-height: 1.2em;}#sk-container-id-12 div.sk-label-container {text-align: center;}#sk-container-id-12 div.sk-container {/* jupyter's `normalize.less` sets `[hidden] { display: none; }` but bootstrap.min.css set `[hidden] { display: none !important; }` so we also need the `!important` here to be able to override the default hidden behavior on the sphinx rendered scikit-learn.org. See: https://github.com/scikit-learn/scikit-learn/issues/21755 */display: inline-block !important;position: relative;}#sk-container-id-12 div.sk-text-repr-fallback {display: none;}</style><div id=\"sk-container-id-12\" class=\"sk-top-container\"><div class=\"sk-text-repr-fallback\"><pre>GridSearchCV(cv=5, estimator=Pipeline(steps=[(&#x27;et&#x27;, ExtraTreesClassifier())]),\n",
       "             n_jobs=-1,\n",
       "             param_grid={&#x27;et__max_depth&#x27;: [5, 7, 10, 15],\n",
       "                         &#x27;et__min_samples_split&#x27;: [1.0, 2, 3, 4],\n",
       "                         &#x27;et__n_estimators&#x27;: [46]},\n",
       "             scoring=&#x27;balanced_accuracy&#x27;, verbose=1)</pre><b>In a Jupyter environment, please rerun this cell to show the HTML representation or trust the notebook. <br />On GitHub, the HTML representation is unable to render, please try loading this page with nbviewer.org.</b></div><div class=\"sk-container\" hidden><div class=\"sk-item sk-dashed-wrapped\"><div class=\"sk-label-container\"><div class=\"sk-label sk-toggleable\"><input class=\"sk-toggleable__control sk-hidden--visually\" id=\"sk-estimator-id-26\" type=\"checkbox\" ><label for=\"sk-estimator-id-26\" class=\"sk-toggleable__label sk-toggleable__label-arrow\">GridSearchCV</label><div class=\"sk-toggleable__content\"><pre>GridSearchCV(cv=5, estimator=Pipeline(steps=[(&#x27;et&#x27;, ExtraTreesClassifier())]),\n",
       "             n_jobs=-1,\n",
       "             param_grid={&#x27;et__max_depth&#x27;: [5, 7, 10, 15],\n",
       "                         &#x27;et__min_samples_split&#x27;: [1.0, 2, 3, 4],\n",
       "                         &#x27;et__n_estimators&#x27;: [46]},\n",
       "             scoring=&#x27;balanced_accuracy&#x27;, verbose=1)</pre></div></div></div><div class=\"sk-parallel\"><div class=\"sk-parallel-item\"><div class=\"sk-item\"><div class=\"sk-label-container\"><div class=\"sk-label sk-toggleable\"><input class=\"sk-toggleable__control sk-hidden--visually\" id=\"sk-estimator-id-27\" type=\"checkbox\" ><label for=\"sk-estimator-id-27\" class=\"sk-toggleable__label sk-toggleable__label-arrow\">estimator: Pipeline</label><div class=\"sk-toggleable__content\"><pre>Pipeline(steps=[(&#x27;et&#x27;, ExtraTreesClassifier())])</pre></div></div></div><div class=\"sk-serial\"><div class=\"sk-item\"><div class=\"sk-serial\"><div class=\"sk-item\"><div class=\"sk-estimator sk-toggleable\"><input class=\"sk-toggleable__control sk-hidden--visually\" id=\"sk-estimator-id-28\" type=\"checkbox\" ><label for=\"sk-estimator-id-28\" class=\"sk-toggleable__label sk-toggleable__label-arrow\">ExtraTreesClassifier</label><div class=\"sk-toggleable__content\"><pre>ExtraTreesClassifier()</pre></div></div></div></div></div></div></div></div></div></div></div></div>"
      ],
      "text/plain": [
       "GridSearchCV(cv=5, estimator=Pipeline(steps=[('et', ExtraTreesClassifier())]),\n",
       "             n_jobs=-1,\n",
       "             param_grid={'et__max_depth': [5, 7, 10, 15],\n",
       "                         'et__min_samples_split': [1.0, 2, 3, 4],\n",
       "                         'et__n_estimators': [46]},\n",
       "             scoring='balanced_accuracy', verbose=1)"
      ]
     },
     "execution_count": 54,
     "metadata": {},
     "output_type": "execute_result"
    }
   ],
   "source": [
    "gs_et.fit(X_train_poly, y_train)"
   ]
  },
  {
   "cell_type": "code",
   "execution_count": 55,
   "id": "2e49c93b",
   "metadata": {},
   "outputs": [],
   "source": [
    "stack = [\n",
    "#     ('gnb', gs_gnb.best_estimator_),\n",
    "    ('knn', gs_knn.best_estimator_)\n",
    "]\n",
    "\n",
    "stx = StackingClassifier(\n",
    "    estimators=stack,\n",
    "    final_estimator=gs_et.best_estimator_\n",
    ")"
   ]
  },
  {
   "cell_type": "code",
   "execution_count": 56,
   "id": "f7721be8",
   "metadata": {},
   "outputs": [
    {
     "data": {
      "text/html": [
       "<style>#sk-container-id-13 {color: black;background-color: white;}#sk-container-id-13 pre{padding: 0;}#sk-container-id-13 div.sk-toggleable {background-color: white;}#sk-container-id-13 label.sk-toggleable__label {cursor: pointer;display: block;width: 100%;margin-bottom: 0;padding: 0.3em;box-sizing: border-box;text-align: center;}#sk-container-id-13 label.sk-toggleable__label-arrow:before {content: \"▸\";float: left;margin-right: 0.25em;color: #696969;}#sk-container-id-13 label.sk-toggleable__label-arrow:hover:before {color: black;}#sk-container-id-13 div.sk-estimator:hover label.sk-toggleable__label-arrow:before {color: black;}#sk-container-id-13 div.sk-toggleable__content {max-height: 0;max-width: 0;overflow: hidden;text-align: left;background-color: #f0f8ff;}#sk-container-id-13 div.sk-toggleable__content pre {margin: 0.2em;color: black;border-radius: 0.25em;background-color: #f0f8ff;}#sk-container-id-13 input.sk-toggleable__control:checked~div.sk-toggleable__content {max-height: 200px;max-width: 100%;overflow: auto;}#sk-container-id-13 input.sk-toggleable__control:checked~label.sk-toggleable__label-arrow:before {content: \"▾\";}#sk-container-id-13 div.sk-estimator input.sk-toggleable__control:checked~label.sk-toggleable__label {background-color: #d4ebff;}#sk-container-id-13 div.sk-label input.sk-toggleable__control:checked~label.sk-toggleable__label {background-color: #d4ebff;}#sk-container-id-13 input.sk-hidden--visually {border: 0;clip: rect(1px 1px 1px 1px);clip: rect(1px, 1px, 1px, 1px);height: 1px;margin: -1px;overflow: hidden;padding: 0;position: absolute;width: 1px;}#sk-container-id-13 div.sk-estimator {font-family: monospace;background-color: #f0f8ff;border: 1px dotted black;border-radius: 0.25em;box-sizing: border-box;margin-bottom: 0.5em;}#sk-container-id-13 div.sk-estimator:hover {background-color: #d4ebff;}#sk-container-id-13 div.sk-parallel-item::after {content: \"\";width: 100%;border-bottom: 1px solid gray;flex-grow: 1;}#sk-container-id-13 div.sk-label:hover label.sk-toggleable__label {background-color: #d4ebff;}#sk-container-id-13 div.sk-serial::before {content: \"\";position: absolute;border-left: 1px solid gray;box-sizing: border-box;top: 0;bottom: 0;left: 50%;z-index: 0;}#sk-container-id-13 div.sk-serial {display: flex;flex-direction: column;align-items: center;background-color: white;padding-right: 0.2em;padding-left: 0.2em;position: relative;}#sk-container-id-13 div.sk-item {position: relative;z-index: 1;}#sk-container-id-13 div.sk-parallel {display: flex;align-items: stretch;justify-content: center;background-color: white;position: relative;}#sk-container-id-13 div.sk-item::before, #sk-container-id-13 div.sk-parallel-item::before {content: \"\";position: absolute;border-left: 1px solid gray;box-sizing: border-box;top: 0;bottom: 0;left: 50%;z-index: -1;}#sk-container-id-13 div.sk-parallel-item {display: flex;flex-direction: column;z-index: 1;position: relative;background-color: white;}#sk-container-id-13 div.sk-parallel-item:first-child::after {align-self: flex-end;width: 50%;}#sk-container-id-13 div.sk-parallel-item:last-child::after {align-self: flex-start;width: 50%;}#sk-container-id-13 div.sk-parallel-item:only-child::after {width: 0;}#sk-container-id-13 div.sk-dashed-wrapped {border: 1px dashed gray;margin: 0 0.4em 0.5em 0.4em;box-sizing: border-box;padding-bottom: 0.4em;background-color: white;}#sk-container-id-13 div.sk-label label {font-family: monospace;font-weight: bold;display: inline-block;line-height: 1.2em;}#sk-container-id-13 div.sk-label-container {text-align: center;}#sk-container-id-13 div.sk-container {/* jupyter's `normalize.less` sets `[hidden] { display: none; }` but bootstrap.min.css set `[hidden] { display: none !important; }` so we also need the `!important` here to be able to override the default hidden behavior on the sphinx rendered scikit-learn.org. See: https://github.com/scikit-learn/scikit-learn/issues/21755 */display: inline-block !important;position: relative;}#sk-container-id-13 div.sk-text-repr-fallback {display: none;}</style><div id=\"sk-container-id-13\" class=\"sk-top-container\"><div class=\"sk-text-repr-fallback\"><pre>StackingClassifier(estimators=[(&#x27;knn&#x27;,\n",
       "                                Pipeline(steps=[(&#x27;ss&#x27;, StandardScaler()),\n",
       "                                                (&#x27;knn&#x27;,\n",
       "                                                 KNeighborsClassifier(n_neighbors=7,\n",
       "                                                                      p=1,\n",
       "                                                                      weights=&#x27;distance&#x27;))]))],\n",
       "                   final_estimator=Pipeline(steps=[(&#x27;et&#x27;,\n",
       "                                                    ExtraTreesClassifier(max_depth=10,\n",
       "                                                                         n_estimators=46))]))</pre><b>In a Jupyter environment, please rerun this cell to show the HTML representation or trust the notebook. <br />On GitHub, the HTML representation is unable to render, please try loading this page with nbviewer.org.</b></div><div class=\"sk-container\" hidden><div class=\"sk-item sk-dashed-wrapped\"><div class=\"sk-label-container\"><div class=\"sk-label sk-toggleable\"><input class=\"sk-toggleable__control sk-hidden--visually\" id=\"sk-estimator-id-29\" type=\"checkbox\" ><label for=\"sk-estimator-id-29\" class=\"sk-toggleable__label sk-toggleable__label-arrow\">StackingClassifier</label><div class=\"sk-toggleable__content\"><pre>StackingClassifier(estimators=[(&#x27;knn&#x27;,\n",
       "                                Pipeline(steps=[(&#x27;ss&#x27;, StandardScaler()),\n",
       "                                                (&#x27;knn&#x27;,\n",
       "                                                 KNeighborsClassifier(n_neighbors=7,\n",
       "                                                                      p=1,\n",
       "                                                                      weights=&#x27;distance&#x27;))]))],\n",
       "                   final_estimator=Pipeline(steps=[(&#x27;et&#x27;,\n",
       "                                                    ExtraTreesClassifier(max_depth=10,\n",
       "                                                                         n_estimators=46))]))</pre></div></div></div><div class=\"sk-serial\"><div class=\"sk-item\"><div class=\"sk-parallel\"><div class=\"sk-parallel-item\"><div class=\"sk-item\"><div class=\"sk-label-container\"><div class=\"sk-label sk-toggleable\"><label>knn</label></div></div><div class=\"sk-serial\"><div class=\"sk-item\"><div class=\"sk-serial\"><div class=\"sk-item\"><div class=\"sk-estimator sk-toggleable\"><input class=\"sk-toggleable__control sk-hidden--visually\" id=\"sk-estimator-id-30\" type=\"checkbox\" ><label for=\"sk-estimator-id-30\" class=\"sk-toggleable__label sk-toggleable__label-arrow\">StandardScaler</label><div class=\"sk-toggleable__content\"><pre>StandardScaler()</pre></div></div></div><div class=\"sk-item\"><div class=\"sk-estimator sk-toggleable\"><input class=\"sk-toggleable__control sk-hidden--visually\" id=\"sk-estimator-id-31\" type=\"checkbox\" ><label for=\"sk-estimator-id-31\" class=\"sk-toggleable__label sk-toggleable__label-arrow\">KNeighborsClassifier</label><div class=\"sk-toggleable__content\"><pre>KNeighborsClassifier(n_neighbors=7, p=1, weights=&#x27;distance&#x27;)</pre></div></div></div></div></div></div></div></div></div></div><div class=\"sk-item\"><div class=\"sk-parallel\"><div class=\"sk-parallel-item\"><div class=\"sk-item\"><div class=\"sk-label-container\"><div class=\"sk-label sk-toggleable\"><label>final_estimator</label></div></div><div class=\"sk-serial\"><div class=\"sk-item\"><div class=\"sk-serial\"><div class=\"sk-item\"><div class=\"sk-estimator sk-toggleable\"><input class=\"sk-toggleable__control sk-hidden--visually\" id=\"sk-estimator-id-32\" type=\"checkbox\" ><label for=\"sk-estimator-id-32\" class=\"sk-toggleable__label sk-toggleable__label-arrow\">ExtraTreesClassifier</label><div class=\"sk-toggleable__content\"><pre>ExtraTreesClassifier(max_depth=10, n_estimators=46)</pre></div></div></div></div></div></div></div></div></div></div></div></div></div></div>"
      ],
      "text/plain": [
       "StackingClassifier(estimators=[('knn',\n",
       "                                Pipeline(steps=[('ss', StandardScaler()),\n",
       "                                                ('knn',\n",
       "                                                 KNeighborsClassifier(n_neighbors=7,\n",
       "                                                                      p=1,\n",
       "                                                                      weights='distance'))]))],\n",
       "                   final_estimator=Pipeline(steps=[('et',\n",
       "                                                    ExtraTreesClassifier(max_depth=10,\n",
       "                                                                         n_estimators=46))]))"
      ]
     },
     "execution_count": 56,
     "metadata": {},
     "output_type": "execute_result"
    }
   ],
   "source": [
    "stx.fit(X_train, y_train)"
   ]
  },
  {
   "cell_type": "code",
   "execution_count": 57,
   "id": "1793d33c",
   "metadata": {},
   "outputs": [
    {
     "data": {
      "text/html": [
       "<style>#sk-container-id-14 {color: black;background-color: white;}#sk-container-id-14 pre{padding: 0;}#sk-container-id-14 div.sk-toggleable {background-color: white;}#sk-container-id-14 label.sk-toggleable__label {cursor: pointer;display: block;width: 100%;margin-bottom: 0;padding: 0.3em;box-sizing: border-box;text-align: center;}#sk-container-id-14 label.sk-toggleable__label-arrow:before {content: \"▸\";float: left;margin-right: 0.25em;color: #696969;}#sk-container-id-14 label.sk-toggleable__label-arrow:hover:before {color: black;}#sk-container-id-14 div.sk-estimator:hover label.sk-toggleable__label-arrow:before {color: black;}#sk-container-id-14 div.sk-toggleable__content {max-height: 0;max-width: 0;overflow: hidden;text-align: left;background-color: #f0f8ff;}#sk-container-id-14 div.sk-toggleable__content pre {margin: 0.2em;color: black;border-radius: 0.25em;background-color: #f0f8ff;}#sk-container-id-14 input.sk-toggleable__control:checked~div.sk-toggleable__content {max-height: 200px;max-width: 100%;overflow: auto;}#sk-container-id-14 input.sk-toggleable__control:checked~label.sk-toggleable__label-arrow:before {content: \"▾\";}#sk-container-id-14 div.sk-estimator input.sk-toggleable__control:checked~label.sk-toggleable__label {background-color: #d4ebff;}#sk-container-id-14 div.sk-label input.sk-toggleable__control:checked~label.sk-toggleable__label {background-color: #d4ebff;}#sk-container-id-14 input.sk-hidden--visually {border: 0;clip: rect(1px 1px 1px 1px);clip: rect(1px, 1px, 1px, 1px);height: 1px;margin: -1px;overflow: hidden;padding: 0;position: absolute;width: 1px;}#sk-container-id-14 div.sk-estimator {font-family: monospace;background-color: #f0f8ff;border: 1px dotted black;border-radius: 0.25em;box-sizing: border-box;margin-bottom: 0.5em;}#sk-container-id-14 div.sk-estimator:hover {background-color: #d4ebff;}#sk-container-id-14 div.sk-parallel-item::after {content: \"\";width: 100%;border-bottom: 1px solid gray;flex-grow: 1;}#sk-container-id-14 div.sk-label:hover label.sk-toggleable__label {background-color: #d4ebff;}#sk-container-id-14 div.sk-serial::before {content: \"\";position: absolute;border-left: 1px solid gray;box-sizing: border-box;top: 0;bottom: 0;left: 50%;z-index: 0;}#sk-container-id-14 div.sk-serial {display: flex;flex-direction: column;align-items: center;background-color: white;padding-right: 0.2em;padding-left: 0.2em;position: relative;}#sk-container-id-14 div.sk-item {position: relative;z-index: 1;}#sk-container-id-14 div.sk-parallel {display: flex;align-items: stretch;justify-content: center;background-color: white;position: relative;}#sk-container-id-14 div.sk-item::before, #sk-container-id-14 div.sk-parallel-item::before {content: \"\";position: absolute;border-left: 1px solid gray;box-sizing: border-box;top: 0;bottom: 0;left: 50%;z-index: -1;}#sk-container-id-14 div.sk-parallel-item {display: flex;flex-direction: column;z-index: 1;position: relative;background-color: white;}#sk-container-id-14 div.sk-parallel-item:first-child::after {align-self: flex-end;width: 50%;}#sk-container-id-14 div.sk-parallel-item:last-child::after {align-self: flex-start;width: 50%;}#sk-container-id-14 div.sk-parallel-item:only-child::after {width: 0;}#sk-container-id-14 div.sk-dashed-wrapped {border: 1px dashed gray;margin: 0 0.4em 0.5em 0.4em;box-sizing: border-box;padding-bottom: 0.4em;background-color: white;}#sk-container-id-14 div.sk-label label {font-family: monospace;font-weight: bold;display: inline-block;line-height: 1.2em;}#sk-container-id-14 div.sk-label-container {text-align: center;}#sk-container-id-14 div.sk-container {/* jupyter's `normalize.less` sets `[hidden] { display: none; }` but bootstrap.min.css set `[hidden] { display: none !important; }` so we also need the `!important` here to be able to override the default hidden behavior on the sphinx rendered scikit-learn.org. See: https://github.com/scikit-learn/scikit-learn/issues/21755 */display: inline-block !important;position: relative;}#sk-container-id-14 div.sk-text-repr-fallback {display: none;}</style><div id=\"sk-container-id-14\" class=\"sk-top-container\"><div class=\"sk-text-repr-fallback\"><pre>StackingClassifier(estimators=[(&#x27;knn&#x27;,\n",
       "                                Pipeline(steps=[(&#x27;ss&#x27;, StandardScaler()),\n",
       "                                                (&#x27;knn&#x27;,\n",
       "                                                 KNeighborsClassifier(n_neighbors=7,\n",
       "                                                                      p=1,\n",
       "                                                                      weights=&#x27;distance&#x27;))]))],\n",
       "                   final_estimator=Pipeline(steps=[(&#x27;et&#x27;,\n",
       "                                                    ExtraTreesClassifier(max_depth=10,\n",
       "                                                                         n_estimators=46))]))</pre><b>In a Jupyter environment, please rerun this cell to show the HTML representation or trust the notebook. <br />On GitHub, the HTML representation is unable to render, please try loading this page with nbviewer.org.</b></div><div class=\"sk-container\" hidden><div class=\"sk-item sk-dashed-wrapped\"><div class=\"sk-label-container\"><div class=\"sk-label sk-toggleable\"><input class=\"sk-toggleable__control sk-hidden--visually\" id=\"sk-estimator-id-33\" type=\"checkbox\" ><label for=\"sk-estimator-id-33\" class=\"sk-toggleable__label sk-toggleable__label-arrow\">StackingClassifier</label><div class=\"sk-toggleable__content\"><pre>StackingClassifier(estimators=[(&#x27;knn&#x27;,\n",
       "                                Pipeline(steps=[(&#x27;ss&#x27;, StandardScaler()),\n",
       "                                                (&#x27;knn&#x27;,\n",
       "                                                 KNeighborsClassifier(n_neighbors=7,\n",
       "                                                                      p=1,\n",
       "                                                                      weights=&#x27;distance&#x27;))]))],\n",
       "                   final_estimator=Pipeline(steps=[(&#x27;et&#x27;,\n",
       "                                                    ExtraTreesClassifier(max_depth=10,\n",
       "                                                                         n_estimators=46))]))</pre></div></div></div><div class=\"sk-serial\"><div class=\"sk-item\"><div class=\"sk-parallel\"><div class=\"sk-parallel-item\"><div class=\"sk-item\"><div class=\"sk-label-container\"><div class=\"sk-label sk-toggleable\"><label>knn</label></div></div><div class=\"sk-serial\"><div class=\"sk-item\"><div class=\"sk-serial\"><div class=\"sk-item\"><div class=\"sk-estimator sk-toggleable\"><input class=\"sk-toggleable__control sk-hidden--visually\" id=\"sk-estimator-id-34\" type=\"checkbox\" ><label for=\"sk-estimator-id-34\" class=\"sk-toggleable__label sk-toggleable__label-arrow\">StandardScaler</label><div class=\"sk-toggleable__content\"><pre>StandardScaler()</pre></div></div></div><div class=\"sk-item\"><div class=\"sk-estimator sk-toggleable\"><input class=\"sk-toggleable__control sk-hidden--visually\" id=\"sk-estimator-id-35\" type=\"checkbox\" ><label for=\"sk-estimator-id-35\" class=\"sk-toggleable__label sk-toggleable__label-arrow\">KNeighborsClassifier</label><div class=\"sk-toggleable__content\"><pre>KNeighborsClassifier(n_neighbors=7, p=1, weights=&#x27;distance&#x27;)</pre></div></div></div></div></div></div></div></div></div></div><div class=\"sk-item\"><div class=\"sk-parallel\"><div class=\"sk-parallel-item\"><div class=\"sk-item\"><div class=\"sk-label-container\"><div class=\"sk-label sk-toggleable\"><label>final_estimator</label></div></div><div class=\"sk-serial\"><div class=\"sk-item\"><div class=\"sk-serial\"><div class=\"sk-item\"><div class=\"sk-estimator sk-toggleable\"><input class=\"sk-toggleable__control sk-hidden--visually\" id=\"sk-estimator-id-36\" type=\"checkbox\" ><label for=\"sk-estimator-id-36\" class=\"sk-toggleable__label sk-toggleable__label-arrow\">ExtraTreesClassifier</label><div class=\"sk-toggleable__content\"><pre>ExtraTreesClassifier(max_depth=10, n_estimators=46)</pre></div></div></div></div></div></div></div></div></div></div></div></div></div></div>"
      ],
      "text/plain": [
       "StackingClassifier(estimators=[('knn',\n",
       "                                Pipeline(steps=[('ss', StandardScaler()),\n",
       "                                                ('knn',\n",
       "                                                 KNeighborsClassifier(n_neighbors=7,\n",
       "                                                                      p=1,\n",
       "                                                                      weights='distance'))]))],\n",
       "                   final_estimator=Pipeline(steps=[('et',\n",
       "                                                    ExtraTreesClassifier(max_depth=10,\n",
       "                                                                         n_estimators=46))]))"
      ]
     },
     "execution_count": 57,
     "metadata": {},
     "output_type": "execute_result"
    }
   ],
   "source": [
    "stx.fit(X_train_poly, y_train)"
   ]
  },
  {
   "cell_type": "code",
   "execution_count": 58,
   "id": "7a3892c3",
   "metadata": {},
   "outputs": [
    {
     "name": "stdout",
     "output_type": "stream",
     "text": [
      "           train_acc  test_acc   bal_acc\n",
      "knn              1.0    0.8625  0.868717\n",
      "et               1.0    0.9125  0.911027\n",
      "et_poly          1.0    0.9125  0.913599\n",
      "gnb         0.779944     0.725  0.740649\n",
      "stack            1.0  0.841667  0.845789\n",
      "stack_poly       1.0  0.879167  0.882073\n"
     ]
    },
    {
     "data": {
      "image/png": "[encoded data removed]",
      "text/plain": [
       "<Figure size 640x480 with 2 Axes>"
      ]
     },
     "metadata": {},
     "output_type": "display_data"
    }
   ],
   "source": [
    "scores_df = get_accuracies(X_train_poly, y_train, X_test_poly, y_test, \n",
    "                           stx, \n",
    "                           'stack_poly',\n",
    "                           scores_df = scores_df,\n",
    "                           norm = 'true'\n",
    "                           )"
   ]
  },
  {
   "cell_type": "code",
   "execution_count": 60,
   "id": "be504a39",
   "metadata": {},
   "outputs": [],
   "source": [
    "nn_y = y.replace({\n",
    "    'M0nkey M00n' : 0,\n",
    "    'Oski' : 1,\n",
    "    'Vati' : 2\n",
    "})"
   ]
  },
  {
   "cell_type": "code",
   "execution_count": 61,
   "id": "aa1c271d",
   "metadata": {},
   "outputs": [
    {
     "data": {
      "text/plain": [
       "2    382\n",
       "1    323\n",
       "0    253\n",
       "Name: player_name, dtype: int64"
      ]
     },
     "execution_count": 61,
     "metadata": {},
     "output_type": "execute_result"
    }
   ],
   "source": [
    "nn_y.value_counts()"
   ]
  },
  {
   "cell_type": "code",
   "execution_count": 62,
   "id": "beaec9bc",
   "metadata": {},
   "outputs": [],
   "source": [
    "nn_y = to_categorical(nn_y)"
   ]
  },
  {
   "cell_type": "code",
   "execution_count": 63,
   "id": "f6e4c098",
   "metadata": {},
   "outputs": [],
   "source": [
    "X_train, X_test, y_train, y_test = train_test_split(X, nn_y, random_state=42, stratify=y)\n",
    "X_train = ss.fit_transform(X_train)\n",
    "X_test = ss.transform(X_test)"
   ]
  },
  {
   "cell_type": "code",
   "execution_count": 81,
   "id": "7930576f",
   "metadata": {},
   "outputs": [],
   "source": [
    "model = Sequential()\n",
    "\n",
    "model.add(Dense(32,\n",
    "                input_shape = (39,),\n",
    "                activation = 'relu'\n",
    "               )\n",
    "         )\n",
    "\n",
    "model.add(Dense(16,\n",
    "                activation='relu'\n",
    "               )\n",
    "         )\n",
    "\n",
    "model.add(Dense(8,\n",
    "                activation='relu'\n",
    "               )\n",
    "         )\n",
    "\n",
    "model.add(Dense(3,\n",
    "                activation = 'softmax'\n",
    "               )\n",
    "         )"
   ]
  },
  {
   "cell_type": "code",
   "execution_count": 82,
   "id": "26344530",
   "metadata": {},
   "outputs": [],
   "source": [
    "model.compile(loss = 'categorical_crossentropy', metrics = ['acc'], optimizer = 'adam')"
   ]
  },
  {
   "cell_type": "code",
   "execution_count": 83,
   "id": "234a2ddb",
   "metadata": {},
   "outputs": [],
   "source": [
    "early_stop = EarlyStopping(monitor='val_loss',\n",
    "                           patience = 10,\n",
    "                           min_delta = 0.00,\n",
    "                           restore_best_weights=True\n",
    "                          )"
   ]
  },
  {
   "cell_type": "code",
   "execution_count": 84,
   "id": "c3597dea",
   "metadata": {},
   "outputs": [
    {
     "name": "stdout",
     "output_type": "stream",
     "text": [
      "Epoch 1/150\n",
      "2/2 [==============================] - 5s 1s/step - loss: 1.1237 - acc: 0.3482 - val_loss: 1.0996 - val_acc: 0.3667\n",
      "Epoch 2/150\n",
      "2/2 [==============================] - 0s 337ms/step - loss: 1.1006 - acc: 0.3677 - val_loss: 1.0783 - val_acc: 0.3750\n",
      "Epoch 3/150\n",
      "2/2 [==============================] - 0s 201ms/step - loss: 1.0794 - acc: 0.3774 - val_loss: 1.0580 - val_acc: 0.4000\n",
      "Epoch 4/150\n",
      "2/2 [==============================] - 0s 204ms/step - loss: 1.0604 - acc: 0.3928 - val_loss: 1.0385 - val_acc: 0.4333\n",
      "Epoch 5/150\n",
      "2/2 [==============================] - 0s 266ms/step - loss: 1.0415 - acc: 0.4248 - val_loss: 1.0200 - val_acc: 0.4667\n",
      "Epoch 6/150\n",
      "2/2 [==============================] - 0s 336ms/step - loss: 1.0248 - acc: 0.4373 - val_loss: 1.0024 - val_acc: 0.4750\n",
      "Epoch 7/150\n",
      "2/2 [==============================] - 0s 198ms/step - loss: 1.0088 - acc: 0.4624 - val_loss: 0.9866 - val_acc: 0.5000\n",
      "Epoch 8/150\n",
      "2/2 [==============================] - 0s 138ms/step - loss: 0.9934 - acc: 0.4749 - val_loss: 0.9722 - val_acc: 0.5208\n",
      "Epoch 9/150\n",
      "2/2 [==============================] - 0s 171ms/step - loss: 0.9787 - acc: 0.4875 - val_loss: 0.9584 - val_acc: 0.5458\n",
      "Epoch 10/150\n",
      "2/2 [==============================] - 0s 281ms/step - loss: 0.9649 - acc: 0.5084 - val_loss: 0.9451 - val_acc: 0.5667\n",
      "Epoch 11/150\n",
      "2/2 [==============================] - 0s 217ms/step - loss: 0.9522 - acc: 0.5320 - val_loss: 0.9322 - val_acc: 0.5708\n",
      "Epoch 12/150\n",
      "2/2 [==============================] - 0s 148ms/step - loss: 0.9395 - acc: 0.5585 - val_loss: 0.9200 - val_acc: 0.5875\n",
      "Epoch 13/150\n",
      "2/2 [==============================] - 0s 357ms/step - loss: 0.9270 - acc: 0.5752 - val_loss: 0.9080 - val_acc: 0.5917\n",
      "Epoch 14/150\n",
      "2/2 [==============================] - 0s 183ms/step - loss: 0.9150 - acc: 0.5877 - val_loss: 0.8966 - val_acc: 0.6042\n",
      "Epoch 15/150\n",
      "2/2 [==============================] - 0s 260ms/step - loss: 0.9026 - acc: 0.6100 - val_loss: 0.8854 - val_acc: 0.6125\n",
      "Epoch 16/150\n",
      "2/2 [==============================] - 0s 158ms/step - loss: 0.8910 - acc: 0.6240 - val_loss: 0.8741 - val_acc: 0.6167\n",
      "Epoch 17/150\n",
      "2/2 [==============================] - 0s 163ms/step - loss: 0.8789 - acc: 0.6309 - val_loss: 0.8627 - val_acc: 0.6375\n",
      "Epoch 18/150\n",
      "2/2 [==============================] - 0s 278ms/step - loss: 0.8667 - acc: 0.6532 - val_loss: 0.8510 - val_acc: 0.6500\n",
      "Epoch 19/150\n",
      "2/2 [==============================] - 0s 114ms/step - loss: 0.8544 - acc: 0.6713 - val_loss: 0.8389 - val_acc: 0.6667\n",
      "Epoch 20/150\n",
      "2/2 [==============================] - 0s 197ms/step - loss: 0.8419 - acc: 0.6894 - val_loss: 0.8267 - val_acc: 0.6833\n",
      "Epoch 21/150\n",
      "2/2 [==============================] - 0s 140ms/step - loss: 0.8289 - acc: 0.7033 - val_loss: 0.8141 - val_acc: 0.6833\n",
      "Epoch 22/150\n",
      "2/2 [==============================] - 0s 242ms/step - loss: 0.8157 - acc: 0.7173 - val_loss: 0.8013 - val_acc: 0.7167\n",
      "Epoch 23/150\n",
      "2/2 [==============================] - 0s 233ms/step - loss: 0.8023 - acc: 0.7368 - val_loss: 0.7885 - val_acc: 0.7375\n",
      "Epoch 24/150\n",
      "2/2 [==============================] - 0s 205ms/step - loss: 0.7883 - acc: 0.7563 - val_loss: 0.7754 - val_acc: 0.7708\n",
      "Epoch 25/150\n",
      "2/2 [==============================] - 0s 178ms/step - loss: 0.7743 - acc: 0.7688 - val_loss: 0.7619 - val_acc: 0.7792\n",
      "Epoch 26/150\n",
      "2/2 [==============================] - 0s 204ms/step - loss: 0.7595 - acc: 0.7813 - val_loss: 0.7482 - val_acc: 0.7875\n",
      "Epoch 27/150\n",
      "2/2 [==============================] - 0s 143ms/step - loss: 0.7443 - acc: 0.7994 - val_loss: 0.7343 - val_acc: 0.7875\n",
      "Epoch 28/150\n",
      "2/2 [==============================] - 0s 75ms/step - loss: 0.7292 - acc: 0.8064 - val_loss: 0.7202 - val_acc: 0.7917\n",
      "Epoch 29/150\n",
      "2/2 [==============================] - 0s 267ms/step - loss: 0.7127 - acc: 0.8148 - val_loss: 0.7062 - val_acc: 0.8000\n",
      "Epoch 30/150\n",
      "2/2 [==============================] - 0s 199ms/step - loss: 0.6967 - acc: 0.8217 - val_loss: 0.6923 - val_acc: 0.8000\n",
      "Epoch 31/150\n",
      "2/2 [==============================] - 0s 260ms/step - loss: 0.6805 - acc: 0.8273 - val_loss: 0.6782 - val_acc: 0.8000\n",
      "Epoch 32/150\n",
      "2/2 [==============================] - 0s 165ms/step - loss: 0.6645 - acc: 0.8301 - val_loss: 0.6646 - val_acc: 0.7958\n",
      "Epoch 33/150\n",
      "2/2 [==============================] - 0s 227ms/step - loss: 0.6484 - acc: 0.8384 - val_loss: 0.6515 - val_acc: 0.8000\n",
      "Epoch 34/150\n",
      "2/2 [==============================] - 0s 175ms/step - loss: 0.6323 - acc: 0.8370 - val_loss: 0.6387 - val_acc: 0.7958\n",
      "Epoch 35/150\n",
      "2/2 [==============================] - 0s 163ms/step - loss: 0.6161 - acc: 0.8384 - val_loss: 0.6263 - val_acc: 0.8042\n",
      "Epoch 36/150\n",
      "2/2 [==============================] - 0s 214ms/step - loss: 0.5997 - acc: 0.8370 - val_loss: 0.6140 - val_acc: 0.8042\n",
      "Epoch 37/150\n",
      "2/2 [==============================] - 0s 303ms/step - loss: 0.5836 - acc: 0.8412 - val_loss: 0.6020 - val_acc: 0.8125\n",
      "Epoch 38/150\n",
      "2/2 [==============================] - 0s 81ms/step - loss: 0.5681 - acc: 0.8440 - val_loss: 0.5903 - val_acc: 0.8208\n",
      "Epoch 39/150\n",
      "2/2 [==============================] - 0s 83ms/step - loss: 0.5524 - acc: 0.8454 - val_loss: 0.5790 - val_acc: 0.8250\n",
      "Epoch 40/150\n",
      "2/2 [==============================] - 0s 144ms/step - loss: 0.5370 - acc: 0.8454 - val_loss: 0.5678 - val_acc: 0.8250\n",
      "Epoch 41/150\n",
      "2/2 [==============================] - 0s 112ms/step - loss: 0.5222 - acc: 0.8482 - val_loss: 0.5570 - val_acc: 0.8208\n",
      "Epoch 42/150\n",
      "2/2 [==============================] - 0s 294ms/step - loss: 0.5079 - acc: 0.8482 - val_loss: 0.5465 - val_acc: 0.8292\n",
      "Epoch 43/150\n",
      "2/2 [==============================] - 0s 266ms/step - loss: 0.4934 - acc: 0.8510 - val_loss: 0.5363 - val_acc: 0.8333\n",
      "Epoch 44/150\n",
      "2/2 [==============================] - 0s 301ms/step - loss: 0.4797 - acc: 0.8524 - val_loss: 0.5264 - val_acc: 0.8250\n",
      "Epoch 45/150\n",
      "2/2 [==============================] - 0s 189ms/step - loss: 0.4663 - acc: 0.8538 - val_loss: 0.5171 - val_acc: 0.8250\n",
      "Epoch 46/150\n",
      "2/2 [==============================] - 0s 131ms/step - loss: 0.4532 - acc: 0.8593 - val_loss: 0.5082 - val_acc: 0.8292\n",
      "Epoch 47/150\n",
      "2/2 [==============================] - 0s 112ms/step - loss: 0.4410 - acc: 0.8663 - val_loss: 0.4995 - val_acc: 0.8292\n",
      "Epoch 48/150\n",
      "2/2 [==============================] - 0s 130ms/step - loss: 0.4294 - acc: 0.8691 - val_loss: 0.4911 - val_acc: 0.8250\n",
      "Epoch 49/150\n",
      "2/2 [==============================] - 0s 227ms/step - loss: 0.4180 - acc: 0.8691 - val_loss: 0.4830 - val_acc: 0.8292\n",
      "Epoch 50/150\n",
      "2/2 [==============================] - 0s 107ms/step - loss: 0.4076 - acc: 0.8733 - val_loss: 0.4751 - val_acc: 0.8292\n",
      "Epoch 51/150\n",
      "2/2 [==============================] - 0s 155ms/step - loss: 0.3968 - acc: 0.8733 - val_loss: 0.4668 - val_acc: 0.8333\n",
      "Epoch 52/150\n",
      "2/2 [==============================] - 0s 153ms/step - loss: 0.3869 - acc: 0.8760 - val_loss: 0.4587 - val_acc: 0.8333\n",
      "Epoch 53/150\n",
      "2/2 [==============================] - 0s 115ms/step - loss: 0.3771 - acc: 0.8760 - val_loss: 0.4513 - val_acc: 0.8333\n",
      "Epoch 54/150\n",
      "2/2 [==============================] - 0s 113ms/step - loss: 0.3678 - acc: 0.8760 - val_loss: 0.4440 - val_acc: 0.8458\n",
      "Epoch 55/150\n",
      "2/2 [==============================] - 0s 123ms/step - loss: 0.3589 - acc: 0.8760 - val_loss: 0.4367 - val_acc: 0.8500\n",
      "Epoch 56/150\n",
      "2/2 [==============================] - 0s 205ms/step - loss: 0.3499 - acc: 0.8802 - val_loss: 0.4298 - val_acc: 0.8500\n",
      "Epoch 57/150\n",
      "2/2 [==============================] - 0s 129ms/step - loss: 0.3417 - acc: 0.8872 - val_loss: 0.4233 - val_acc: 0.8500\n",
      "Epoch 58/150\n",
      "2/2 [==============================] - 0s 127ms/step - loss: 0.3336 - acc: 0.8928 - val_loss: 0.4173 - val_acc: 0.8542\n",
      "Epoch 59/150\n",
      "2/2 [==============================] - 0s 163ms/step - loss: 0.3257 - acc: 0.8942 - val_loss: 0.4119 - val_acc: 0.8542\n",
      "Epoch 60/150\n",
      "2/2 [==============================] - 0s 132ms/step - loss: 0.3182 - acc: 0.8955 - val_loss: 0.4070 - val_acc: 0.8542\n",
      "Epoch 61/150\n",
      "2/2 [==============================] - 0s 156ms/step - loss: 0.3110 - acc: 0.8997 - val_loss: 0.4028 - val_acc: 0.8542\n",
      "Epoch 62/150\n",
      "2/2 [==============================] - 0s 99ms/step - loss: 0.3041 - acc: 0.9053 - val_loss: 0.3992 - val_acc: 0.8542\n",
      "Epoch 63/150\n",
      "2/2 [==============================] - 0s 104ms/step - loss: 0.2976 - acc: 0.9081 - val_loss: 0.3963 - val_acc: 0.8500\n",
      "Epoch 64/150\n",
      "2/2 [==============================] - 0s 178ms/step - loss: 0.2909 - acc: 0.9123 - val_loss: 0.3931 - val_acc: 0.8583\n",
      "Epoch 65/150\n",
      "2/2 [==============================] - 0s 218ms/step - loss: 0.2847 - acc: 0.9123 - val_loss: 0.3897 - val_acc: 0.8583\n",
      "Epoch 66/150\n",
      "2/2 [==============================] - 0s 327ms/step - loss: 0.2787 - acc: 0.9123 - val_loss: 0.3865 - val_acc: 0.8625\n",
      "Epoch 67/150\n",
      "2/2 [==============================] - 0s 164ms/step - loss: 0.2727 - acc: 0.9136 - val_loss: 0.3833 - val_acc: 0.8625\n",
      "Epoch 68/150\n",
      "2/2 [==============================] - 0s 106ms/step - loss: 0.2671 - acc: 0.9164 - val_loss: 0.3800 - val_acc: 0.8667\n",
      "Epoch 69/150\n",
      "2/2 [==============================] - 0s 200ms/step - loss: 0.2616 - acc: 0.9192 - val_loss: 0.3767 - val_acc: 0.8667\n",
      "Epoch 70/150\n",
      "2/2 [==============================] - 0s 110ms/step - loss: 0.2565 - acc: 0.9192 - val_loss: 0.3738 - val_acc: 0.8667\n",
      "Epoch 71/150\n",
      "2/2 [==============================] - 0s 114ms/step - loss: 0.2514 - acc: 0.9206 - val_loss: 0.3707 - val_acc: 0.8667\n",
      "Epoch 72/150\n",
      "2/2 [==============================] - 0s 101ms/step - loss: 0.2465 - acc: 0.9234 - val_loss: 0.3675 - val_acc: 0.8667\n",
      "Epoch 73/150\n",
      "2/2 [==============================] - 0s 162ms/step - loss: 0.2418 - acc: 0.9248 - val_loss: 0.3647 - val_acc: 0.8708\n",
      "Epoch 74/150\n",
      "2/2 [==============================] - 0s 195ms/step - loss: 0.2372 - acc: 0.9262 - val_loss: 0.3623 - val_acc: 0.8708\n",
      "Epoch 75/150\n",
      "2/2 [==============================] - 0s 140ms/step - loss: 0.2327 - acc: 0.9262 - val_loss: 0.3602 - val_acc: 0.8750\n",
      "Epoch 76/150\n",
      "2/2 [==============================] - 0s 134ms/step - loss: 0.2286 - acc: 0.9304 - val_loss: 0.3583 - val_acc: 0.8750\n",
      "Epoch 77/150\n",
      "2/2 [==============================] - 0s 140ms/step - loss: 0.2245 - acc: 0.9304 - val_loss: 0.3568 - val_acc: 0.8750\n",
      "Epoch 78/150\n",
      "2/2 [==============================] - 0s 134ms/step - loss: 0.2204 - acc: 0.9304 - val_loss: 0.3554 - val_acc: 0.8750\n",
      "Epoch 79/150\n",
      "2/2 [==============================] - 0s 142ms/step - loss: 0.2164 - acc: 0.9318 - val_loss: 0.3542 - val_acc: 0.8750\n",
      "Epoch 80/150\n",
      "2/2 [==============================] - 0s 208ms/step - loss: 0.2128 - acc: 0.9318 - val_loss: 0.3534 - val_acc: 0.8792\n",
      "Epoch 81/150\n",
      "2/2 [==============================] - 0s 112ms/step - loss: 0.2092 - acc: 0.9318 - val_loss: 0.3529 - val_acc: 0.8792\n",
      "Epoch 82/150\n",
      "2/2 [==============================] - 0s 112ms/step - loss: 0.2056 - acc: 0.9331 - val_loss: 0.3521 - val_acc: 0.8792\n",
      "Epoch 83/150\n",
      "2/2 [==============================] - 0s 136ms/step - loss: 0.2022 - acc: 0.9359 - val_loss: 0.3510 - val_acc: 0.8792\n",
      "Epoch 84/150\n",
      "2/2 [==============================] - 0s 111ms/step - loss: 0.1988 - acc: 0.9387 - val_loss: 0.3498 - val_acc: 0.8792\n",
      "Epoch 85/150\n",
      "2/2 [==============================] - 0s 165ms/step - loss: 0.1954 - acc: 0.9387 - val_loss: 0.3489 - val_acc: 0.8792\n",
      "Epoch 86/150\n",
      "2/2 [==============================] - 0s 133ms/step - loss: 0.1922 - acc: 0.9387 - val_loss: 0.3481 - val_acc: 0.8833\n",
      "Epoch 87/150\n",
      "2/2 [==============================] - 0s 142ms/step - loss: 0.1891 - acc: 0.9401 - val_loss: 0.3474 - val_acc: 0.8833\n",
      "Epoch 88/150\n",
      "2/2 [==============================] - 0s 108ms/step - loss: 0.1862 - acc: 0.9415 - val_loss: 0.3469 - val_acc: 0.8833\n",
      "Epoch 89/150\n",
      "2/2 [==============================] - 0s 130ms/step - loss: 0.1832 - acc: 0.9457 - val_loss: 0.3465 - val_acc: 0.8833\n",
      "Epoch 90/150\n",
      "2/2 [==============================] - 0s 126ms/step - loss: 0.1803 - acc: 0.9457 - val_loss: 0.3465 - val_acc: 0.8833\n",
      "Epoch 91/150\n",
      "2/2 [==============================] - 0s 198ms/step - loss: 0.1776 - acc: 0.9471 - val_loss: 0.3461 - val_acc: 0.8833\n",
      "Epoch 92/150\n",
      "2/2 [==============================] - 0s 121ms/step - loss: 0.1748 - acc: 0.9499 - val_loss: 0.3453 - val_acc: 0.8833\n",
      "Epoch 93/150\n",
      "2/2 [==============================] - 0s 98ms/step - loss: 0.1722 - acc: 0.9513 - val_loss: 0.3445 - val_acc: 0.8833\n",
      "Epoch 94/150\n",
      "2/2 [==============================] - 0s 99ms/step - loss: 0.1694 - acc: 0.9513 - val_loss: 0.3442 - val_acc: 0.8833\n",
      "Epoch 95/150\n",
      "2/2 [==============================] - 0s 94ms/step - loss: 0.1667 - acc: 0.9540 - val_loss: 0.3438 - val_acc: 0.8833\n",
      "Epoch 96/150\n",
      "2/2 [==============================] - 0s 137ms/step - loss: 0.1640 - acc: 0.9540 - val_loss: 0.3436 - val_acc: 0.8875\n",
      "Epoch 97/150\n",
      "2/2 [==============================] - 0s 143ms/step - loss: 0.1615 - acc: 0.9540 - val_loss: 0.3434 - val_acc: 0.8875\n",
      "Epoch 98/150\n",
      "2/2 [==============================] - 0s 150ms/step - loss: 0.1590 - acc: 0.9554 - val_loss: 0.3434 - val_acc: 0.8875\n",
      "Epoch 99/150\n",
      "2/2 [==============================] - 0s 152ms/step - loss: 0.1566 - acc: 0.9568 - val_loss: 0.3435 - val_acc: 0.8917\n",
      "Epoch 100/150\n",
      "2/2 [==============================] - 0s 200ms/step - loss: 0.1540 - acc: 0.9568 - val_loss: 0.3437 - val_acc: 0.8917\n",
      "Epoch 101/150\n",
      "2/2 [==============================] - 0s 117ms/step - loss: 0.1517 - acc: 0.9582 - val_loss: 0.3442 - val_acc: 0.8917\n",
      "Epoch 102/150\n",
      "2/2 [==============================] - 0s 146ms/step - loss: 0.1492 - acc: 0.9582 - val_loss: 0.3449 - val_acc: 0.8917\n",
      "Epoch 103/150\n",
      "2/2 [==============================] - 0s 150ms/step - loss: 0.1470 - acc: 0.9596 - val_loss: 0.3457 - val_acc: 0.8917\n",
      "Epoch 104/150\n",
      "2/2 [==============================] - 0s 156ms/step - loss: 0.1446 - acc: 0.9582 - val_loss: 0.3464 - val_acc: 0.8917\n",
      "Epoch 105/150\n",
      "2/2 [==============================] - 0s 132ms/step - loss: 0.1423 - acc: 0.9596 - val_loss: 0.3468 - val_acc: 0.8958\n",
      "Epoch 106/150\n",
      "2/2 [==============================] - 0s 105ms/step - loss: 0.1400 - acc: 0.9582 - val_loss: 0.3468 - val_acc: 0.8958\n",
      "Epoch 107/150\n",
      "2/2 [==============================] - 0s 175ms/step - loss: 0.1377 - acc: 0.9596 - val_loss: 0.3467 - val_acc: 0.8958\n"
     ]
    }
   ],
   "source": [
    "history = model.fit(X_train, y_train, \n",
    "          validation_data=(X_test, y_test), \n",
    "          epochs = 150, \n",
    "          batch_size = 512,\n",
    "          callbacks = [early_stop]\n",
    "                   )"
   ]
  },
  {
   "cell_type": "code",
   "execution_count": 68,
   "id": "67540bb0",
   "metadata": {
    "scrolled": true
   },
   "outputs": [
    {
     "data": {
      "image/png": "[encoded data removed]",
      "text/plain": [
       "<Figure size 640x480 with 1 Axes>"
      ]
     },
     "metadata": {},
     "output_type": "display_data"
    }
   ],
   "source": [
    "plt.plot(history.history['loss'], label = 'loss')\n",
    "plt.plot(history.history['val_loss'], label = 'val loss')\n",
    "plt.legend();"
   ]
  },
  {
   "cell_type": "code",
   "execution_count": 69,
   "id": "3ef731a1",
   "metadata": {},
   "outputs": [
    {
     "data": {
      "image/png": "[encoded data removed]",
      "text/plain": [
       "<Figure size 640x480 with 1 Axes>"
      ]
     },
     "metadata": {},
     "output_type": "display_data"
    }
   ],
   "source": [
    "plt.plot(history.history['acc'], label = 'accuracy')\n",
    "plt.plot(history.history['val_acc'], label = 'val accuracy')\n",
    "plt.legend();"
   ]
  },
  {
   "cell_type": "code",
   "execution_count": 70,
   "id": "a036111d",
   "metadata": {},
   "outputs": [
    {
     "name": "stdout",
     "output_type": "stream",
     "text": [
      "8/8 [==============================] - 0s 36ms/step - loss: 0.4154 - acc: 0.8875\n"
     ]
    },
    {
     "data": {
      "text/plain": [
       "0.887499988079071"
      ]
     },
     "execution_count": 70,
     "metadata": {},
     "output_type": "execute_result"
    }
   ],
   "source": [
    "model.evaluate(X_test, y_test)[1]"
   ]
  },
  {
   "cell_type": "code",
   "execution_count": 71,
   "id": "6bd84441",
   "metadata": {},
   "outputs": [
    {
     "name": "stdout",
     "output_type": "stream",
     "text": [
      "8/8 [==============================] - 0s 5ms/step\n"
     ]
    }
   ],
   "source": [
    "nn_predictions = pd.DataFrame(model.predict(X_test), columns = ['MonkeyMoon', 'Oski', 'Vatira'])"
   ]
  },
  {
   "cell_type": "code",
   "execution_count": 72,
   "id": "ce84bc40",
   "metadata": {},
   "outputs": [
    {
     "data": {
      "text/html": [
       "<div>\n",
       "<style scoped>\n",
       "    .dataframe tbody tr th:only-of-type {\n",
       "        vertical-align: middle;\n",
       "    }\n",
       "\n",
       "    .dataframe tbody tr th {\n",
       "        vertical-align: top;\n",
       "    }\n",
       "\n",
       "    .dataframe thead th {\n",
       "        text-align: right;\n",
       "    }\n",
       "</style>\n",
       "<table border=\"1\" class=\"dataframe\">\n",
       "  <thead>\n",
       "    <tr style=\"text-align: right;\">\n",
       "      <th></th>\n",
       "      <th>MonkeyMoon</th>\n",
       "      <th>Oski</th>\n",
       "      <th>Vatira</th>\n",
       "    </tr>\n",
       "  </thead>\n",
       "  <tbody>\n",
       "    <tr>\n",
       "      <th>0</th>\n",
       "      <td>0.000184</td>\n",
       "      <td>0.998563</td>\n",
       "      <td>0.001253</td>\n",
       "    </tr>\n",
       "    <tr>\n",
       "      <th>1</th>\n",
       "      <td>0.037584</td>\n",
       "      <td>0.030237</td>\n",
       "      <td>0.932179</td>\n",
       "    </tr>\n",
       "    <tr>\n",
       "      <th>2</th>\n",
       "      <td>0.964291</td>\n",
       "      <td>0.032393</td>\n",
       "      <td>0.003316</td>\n",
       "    </tr>\n",
       "    <tr>\n",
       "      <th>3</th>\n",
       "      <td>0.893555</td>\n",
       "      <td>0.103000</td>\n",
       "      <td>0.003445</td>\n",
       "    </tr>\n",
       "    <tr>\n",
       "      <th>4</th>\n",
       "      <td>0.985905</td>\n",
       "      <td>0.008375</td>\n",
       "      <td>0.005720</td>\n",
       "    </tr>\n",
       "    <tr>\n",
       "      <th>...</th>\n",
       "      <td>...</td>\n",
       "      <td>...</td>\n",
       "      <td>...</td>\n",
       "    </tr>\n",
       "    <tr>\n",
       "      <th>235</th>\n",
       "      <td>0.995069</td>\n",
       "      <td>0.003574</td>\n",
       "      <td>0.001357</td>\n",
       "    </tr>\n",
       "    <tr>\n",
       "      <th>236</th>\n",
       "      <td>0.921926</td>\n",
       "      <td>0.062076</td>\n",
       "      <td>0.015998</td>\n",
       "    </tr>\n",
       "    <tr>\n",
       "      <th>237</th>\n",
       "      <td>0.001012</td>\n",
       "      <td>0.027748</td>\n",
       "      <td>0.971240</td>\n",
       "    </tr>\n",
       "    <tr>\n",
       "      <th>238</th>\n",
       "      <td>0.010444</td>\n",
       "      <td>0.685722</td>\n",
       "      <td>0.303834</td>\n",
       "    </tr>\n",
       "    <tr>\n",
       "      <th>239</th>\n",
       "      <td>0.006254</td>\n",
       "      <td>0.923592</td>\n",
       "      <td>0.070154</td>\n",
       "    </tr>\n",
       "  </tbody>\n",
       "</table>\n",
       "<p>240 rows × 3 columns</p>\n",
       "</div>"
      ],
      "text/plain": [
       "     MonkeyMoon      Oski    Vatira\n",
       "0      0.000184  0.998563  0.001253\n",
       "1      0.037584  0.030237  0.932179\n",
       "2      0.964291  0.032393  0.003316\n",
       "3      0.893555  0.103000  0.003445\n",
       "4      0.985905  0.008375  0.005720\n",
       "..          ...       ...       ...\n",
       "235    0.995069  0.003574  0.001357\n",
       "236    0.921926  0.062076  0.015998\n",
       "237    0.001012  0.027748  0.971240\n",
       "238    0.010444  0.685722  0.303834\n",
       "239    0.006254  0.923592  0.070154\n",
       "\n",
       "[240 rows x 3 columns]"
      ]
     },
     "execution_count": 72,
     "metadata": {},
     "output_type": "execute_result"
    }
   ],
   "source": [
    "nn_predictions"
   ]
  },
  {
   "cell_type": "code",
   "execution_count": 73,
   "id": "c18717d8",
   "metadata": {},
   "outputs": [
    {
     "data": {
      "text/html": [
       "<div>\n",
       "<style scoped>\n",
       "    .dataframe tbody tr th:only-of-type {\n",
       "        vertical-align: middle;\n",
       "    }\n",
       "\n",
       "    .dataframe tbody tr th {\n",
       "        vertical-align: top;\n",
       "    }\n",
       "\n",
       "    .dataframe thead th {\n",
       "        text-align: right;\n",
       "    }\n",
       "</style>\n",
       "<table border=\"1\" class=\"dataframe\">\n",
       "  <thead>\n",
       "    <tr style=\"text-align: right;\">\n",
       "      <th></th>\n",
       "      <th>MonkeyMoon</th>\n",
       "      <th>Oski</th>\n",
       "      <th>Vatira</th>\n",
       "    </tr>\n",
       "  </thead>\n",
       "  <tbody>\n",
       "    <tr>\n",
       "      <th>0</th>\n",
       "      <td>0.000000</td>\n",
       "      <td>1.000000</td>\n",
       "      <td>0.000000</td>\n",
       "    </tr>\n",
       "    <tr>\n",
       "      <th>1</th>\n",
       "      <td>0.065217</td>\n",
       "      <td>0.054348</td>\n",
       "      <td>0.880435</td>\n",
       "    </tr>\n",
       "    <tr>\n",
       "      <th>2</th>\n",
       "      <td>0.967391</td>\n",
       "      <td>0.021739</td>\n",
       "      <td>0.010870</td>\n",
       "    </tr>\n",
       "    <tr>\n",
       "      <th>3</th>\n",
       "      <td>0.858696</td>\n",
       "      <td>0.108696</td>\n",
       "      <td>0.032609</td>\n",
       "    </tr>\n",
       "    <tr>\n",
       "      <th>4</th>\n",
       "      <td>0.706522</td>\n",
       "      <td>0.054348</td>\n",
       "      <td>0.239130</td>\n",
       "    </tr>\n",
       "    <tr>\n",
       "      <th>...</th>\n",
       "      <td>...</td>\n",
       "      <td>...</td>\n",
       "      <td>...</td>\n",
       "    </tr>\n",
       "    <tr>\n",
       "      <th>235</th>\n",
       "      <td>0.869565</td>\n",
       "      <td>0.000000</td>\n",
       "      <td>0.130435</td>\n",
       "    </tr>\n",
       "    <tr>\n",
       "      <th>236</th>\n",
       "      <td>0.815217</td>\n",
       "      <td>0.097826</td>\n",
       "      <td>0.086957</td>\n",
       "    </tr>\n",
       "    <tr>\n",
       "      <th>237</th>\n",
       "      <td>0.000334</td>\n",
       "      <td>0.261854</td>\n",
       "      <td>0.737812</td>\n",
       "    </tr>\n",
       "    <tr>\n",
       "      <th>238</th>\n",
       "      <td>0.000000</td>\n",
       "      <td>1.000000</td>\n",
       "      <td>0.000000</td>\n",
       "    </tr>\n",
       "    <tr>\n",
       "      <th>239</th>\n",
       "      <td>0.065552</td>\n",
       "      <td>0.555017</td>\n",
       "      <td>0.379431</td>\n",
       "    </tr>\n",
       "  </tbody>\n",
       "</table>\n",
       "<p>240 rows × 3 columns</p>\n",
       "</div>"
      ],
      "text/plain": [
       "     MonkeyMoon      Oski    Vatira\n",
       "0      0.000000  1.000000  0.000000\n",
       "1      0.065217  0.054348  0.880435\n",
       "2      0.967391  0.021739  0.010870\n",
       "3      0.858696  0.108696  0.032609\n",
       "4      0.706522  0.054348  0.239130\n",
       "..          ...       ...       ...\n",
       "235    0.869565  0.000000  0.130435\n",
       "236    0.815217  0.097826  0.086957\n",
       "237    0.000334  0.261854  0.737812\n",
       "238    0.000000  1.000000  0.000000\n",
       "239    0.065552  0.555017  0.379431\n",
       "\n",
       "[240 rows x 3 columns]"
      ]
     },
     "execution_count": 73,
     "metadata": {},
     "output_type": "execute_result"
    }
   ],
   "source": [
    "probabilities"
   ]
  },
  {
   "cell_type": "code",
   "execution_count": 74,
   "id": "fab1312a",
   "metadata": {},
   "outputs": [],
   "source": []
  },
  {
   "cell_type": "code",
   "execution_count": 75,
   "id": "43164a9a",
   "metadata": {},
   "outputs": [],
   "source": [
    "with open('nn_model_2.pkl', 'wb') as picklefile:\n",
    "    pickle.dump(model, picklefile)"
   ]
  },
  {
   "cell_type": "code",
   "execution_count": 76,
   "id": "407165ef",
   "metadata": {},
   "outputs": [
    {
     "name": "stderr",
     "output_type": "stream",
     "text": [
      "WARNING:absl:Found untraced functions such as _update_step_xla while saving (showing 1 of 1). These functions will not be directly callable after loading.\n"
     ]
    },
    {
     "name": "stdout",
     "output_type": "stream",
     "text": [
      "INFO:tensorflow:Assets written to: tf_save_model_2/assets\n"
     ]
    },
    {
     "name": "stderr",
     "output_type": "stream",
     "text": [
      "INFO:tensorflow:Assets written to: tf_save_model_2/assets\n"
     ]
    }
   ],
   "source": [
    "model.save('tf_save_model_2')"
   ]
  },
  {
   "cell_type": "code",
   "execution_count": 77,
   "id": "44d18055",
   "metadata": {},
   "outputs": [],
   "source": [
    "with open('et_model_2.pkl', 'wb') as picklefile:\n",
    "    pickle.dump(gs_et.best_estimator_, picklefile)"
   ]
  },
  {
   "cell_type": "code",
   "execution_count": 78,
   "id": "78c7fc9b",
   "metadata": {},
   "outputs": [],
   "source": [
    "boay = pd.read_csv('../data/boay_.csv')"
   ]
  },
  {
   "cell_type": "code",
   "execution_count": 86,
   "id": "6fd95f06",
   "metadata": {},
   "outputs": [
    {
     "name": "stdout",
     "output_type": "stream",
     "text": [
      "1/1 [==============================] - 0s 164ms/step\n"
     ]
    }
   ],
   "source": [
    "boay_preds = pd.DataFrame(model.predict(boay.drop(columns = ['Unnamed: 0','player_name']),\n",
    "                                             ), columns = ['MonkeyMoon', 'Oski', 'Vatira'])"
   ]
  },
  {
   "cell_type": "code",
   "execution_count": 87,
   "id": "a5e1c719",
   "metadata": {
    "scrolled": true
   },
   "outputs": [
    {
     "data": {
      "text/html": [
       "<div>\n",
       "<style scoped>\n",
       "    .dataframe tbody tr th:only-of-type {\n",
       "        vertical-align: middle;\n",
       "    }\n",
       "\n",
       "    .dataframe tbody tr th {\n",
       "        vertical-align: top;\n",
       "    }\n",
       "\n",
       "    .dataframe thead th {\n",
       "        text-align: right;\n",
       "    }\n",
       "</style>\n",
       "<table border=\"1\" class=\"dataframe\">\n",
       "  <thead>\n",
       "    <tr style=\"text-align: right;\">\n",
       "      <th></th>\n",
       "      <th>MonkeyMoon</th>\n",
       "      <th>Oski</th>\n",
       "      <th>Vatira</th>\n",
       "    </tr>\n",
       "  </thead>\n",
       "  <tbody>\n",
       "    <tr>\n",
       "      <th>0</th>\n",
       "      <td>0.0</td>\n",
       "      <td>1.0</td>\n",
       "      <td>0.0</td>\n",
       "    </tr>\n",
       "    <tr>\n",
       "      <th>1</th>\n",
       "      <td>0.0</td>\n",
       "      <td>1.0</td>\n",
       "      <td>0.0</td>\n",
       "    </tr>\n",
       "    <tr>\n",
       "      <th>2</th>\n",
       "      <td>0.0</td>\n",
       "      <td>1.0</td>\n",
       "      <td>0.0</td>\n",
       "    </tr>\n",
       "    <tr>\n",
       "      <th>3</th>\n",
       "      <td>0.0</td>\n",
       "      <td>1.0</td>\n",
       "      <td>0.0</td>\n",
       "    </tr>\n",
       "    <tr>\n",
       "      <th>4</th>\n",
       "      <td>0.0</td>\n",
       "      <td>1.0</td>\n",
       "      <td>0.0</td>\n",
       "    </tr>\n",
       "    <tr>\n",
       "      <th>5</th>\n",
       "      <td>0.0</td>\n",
       "      <td>1.0</td>\n",
       "      <td>0.0</td>\n",
       "    </tr>\n",
       "    <tr>\n",
       "      <th>6</th>\n",
       "      <td>0.0</td>\n",
       "      <td>1.0</td>\n",
       "      <td>0.0</td>\n",
       "    </tr>\n",
       "    <tr>\n",
       "      <th>7</th>\n",
       "      <td>0.0</td>\n",
       "      <td>1.0</td>\n",
       "      <td>0.0</td>\n",
       "    </tr>\n",
       "    <tr>\n",
       "      <th>8</th>\n",
       "      <td>0.0</td>\n",
       "      <td>1.0</td>\n",
       "      <td>0.0</td>\n",
       "    </tr>\n",
       "    <tr>\n",
       "      <th>9</th>\n",
       "      <td>0.0</td>\n",
       "      <td>1.0</td>\n",
       "      <td>0.0</td>\n",
       "    </tr>\n",
       "    <tr>\n",
       "      <th>10</th>\n",
       "      <td>0.0</td>\n",
       "      <td>1.0</td>\n",
       "      <td>0.0</td>\n",
       "    </tr>\n",
       "    <tr>\n",
       "      <th>11</th>\n",
       "      <td>0.0</td>\n",
       "      <td>0.0</td>\n",
       "      <td>1.0</td>\n",
       "    </tr>\n",
       "    <tr>\n",
       "      <th>12</th>\n",
       "      <td>0.0</td>\n",
       "      <td>1.0</td>\n",
       "      <td>0.0</td>\n",
       "    </tr>\n",
       "    <tr>\n",
       "      <th>13</th>\n",
       "      <td>0.0</td>\n",
       "      <td>1.0</td>\n",
       "      <td>0.0</td>\n",
       "    </tr>\n",
       "    <tr>\n",
       "      <th>14</th>\n",
       "      <td>0.0</td>\n",
       "      <td>1.0</td>\n",
       "      <td>0.0</td>\n",
       "    </tr>\n",
       "    <tr>\n",
       "      <th>15</th>\n",
       "      <td>0.0</td>\n",
       "      <td>1.0</td>\n",
       "      <td>0.0</td>\n",
       "    </tr>\n",
       "    <tr>\n",
       "      <th>16</th>\n",
       "      <td>0.0</td>\n",
       "      <td>1.0</td>\n",
       "      <td>0.0</td>\n",
       "    </tr>\n",
       "    <tr>\n",
       "      <th>17</th>\n",
       "      <td>0.0</td>\n",
       "      <td>1.0</td>\n",
       "      <td>0.0</td>\n",
       "    </tr>\n",
       "    <tr>\n",
       "      <th>18</th>\n",
       "      <td>0.0</td>\n",
       "      <td>1.0</td>\n",
       "      <td>0.0</td>\n",
       "    </tr>\n",
       "  </tbody>\n",
       "</table>\n",
       "</div>"
      ],
      "text/plain": [
       "    MonkeyMoon  Oski  Vatira\n",
       "0          0.0   1.0     0.0\n",
       "1          0.0   1.0     0.0\n",
       "2          0.0   1.0     0.0\n",
       "3          0.0   1.0     0.0\n",
       "4          0.0   1.0     0.0\n",
       "5          0.0   1.0     0.0\n",
       "6          0.0   1.0     0.0\n",
       "7          0.0   1.0     0.0\n",
       "8          0.0   1.0     0.0\n",
       "9          0.0   1.0     0.0\n",
       "10         0.0   1.0     0.0\n",
       "11         0.0   0.0     1.0\n",
       "12         0.0   1.0     0.0\n",
       "13         0.0   1.0     0.0\n",
       "14         0.0   1.0     0.0\n",
       "15         0.0   1.0     0.0\n",
       "16         0.0   1.0     0.0\n",
       "17         0.0   1.0     0.0\n",
       "18         0.0   1.0     0.0"
      ]
     },
     "execution_count": 87,
     "metadata": {},
     "output_type": "execute_result"
    }
   ],
   "source": [
    "boay_predictions"
   ]
  },
  {
   "cell_type": "code",
   "execution_count": null,
   "id": "9ea520d4",
   "metadata": {},
   "outputs": [],
   "source": []
  }
 ],
 "metadata": {
  "kernelspec": {
   "display_name": "Python 3 (ipykernel)",
   "language": "python",
   "name": "python3"
  },
  "language_info": {
   "codemirror_mode": {
    "name": "ipython",
    "version": 3
   },
   "file_extension": ".py",
   "mimetype": "text/x-python",
   "name": "python",
   "nbconvert_exporter": "python",
   "pygments_lexer": "ipython3",
   "version": "3.9.13"
  }
 },
 "nbformat": 4,
 "nbformat_minor": 5
}
